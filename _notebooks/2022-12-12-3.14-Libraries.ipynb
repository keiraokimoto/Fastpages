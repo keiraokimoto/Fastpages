{
 "cells": [
  {
   "attachments": {},
   "cell_type": "markdown",
   "metadata": {},
   "source": [
    "# Unit 3.14 Libraries Lesson\n",
    "> Here is our lesson about libraries!\n",
    "\n",
    "- toc: true\n",
    "- comments: true\n",
    "- categories: [Week-13,Big-Idea-3]\n",
    "- image: /images/college-board-logo.png"
   ]
  },
  {
   "attachments": {},
   "cell_type": "markdown",
   "metadata": {},
   "source": [
    "Purpose: Help students streamline and make their coding experience easier through built in packages and methods from a library\n",
    "<br>Objective: By the end of the lesson, students should be able to fluently use methods from the turtle and math packages, and be able to look up documentation for any python package and us it."
   ]
  },
  {
   "attachments": {},
   "cell_type": "markdown",
   "metadata": {},
   "source": [
    "fill in the blanks!\n",
    "# Libraries\n",
    "Okay, so we've learned a lot of code, and all of you now can boast that you can code at least some basic programs in python. But, what about more advanced stuff? What if there's a more advanced program you don't know how to make? Do you need to make it yourself? Well, not always. \n",
    "\n",
    "You've already learned about functions that you can write to reuse in your code in previous lessons. But,there are many others who code in python just like you. So why would you do again what someone has already done, and is available for any python user? \n",
    "\n",
    "Packages allow a python user to import methods from a library, and use the methods in their code. Most libraries come with documentation on the different methods they entail and how to use them, and they can be found with a quick Google search. Methods are used with the following: \n",
    "\n",
    "#### Note: a method from a package can only be used after the import statement. \n",
    "\n",
    "Some libraries are always installed, such as those with the list methods which we have previously discussed. But others require a special python keyword called import. We will learn different ways to import in Challenge 1.\n",
    "\n",
    "Sometimes we only need to import a single method from the package. We can do that with the word 'from', followed by the package name, then the word 'import', then the method. This will alllow you to use the method without mentioning the package's name, unlike what we did before, however other methods from that package cannot be used. To get the best of both worlds you can use '*'.\n",
    "\n",
    "To import a method as an easier name, just do what we did first, add the word 'as', and write the name you would like to use that package as.\n",
    "\n",
    "# Challenge 1: Basic Libraries\n",
    "1. Find a python package on the internet and import it\n",
    "2. Choose a method from the package and import only the method\n",
    "3. import the package as a more convenient name."
   ]
  },
  {
   "cell_type": "code",
   "execution_count": 23,
   "metadata": {},
   "outputs": [
    {
     "name": "stdout",
     "output_type": "stream",
     "text": [
      "Date range: 1900-01-01 to 2022-12-31\n",
      "2016-12-29\n"
     ]
    }
   ],
   "source": [
    "from datetime import date, timedelta, datetime\n",
    "import random\n",
    "\n",
    "minDate, maxDate = date(1900, 1, 1), date(2022, 12, 31)\n",
    "print(\"Date range: \" + str(minDate) + \" to \" + str(maxDate))\n",
    "dateDays = maxDate - minDate\n",
    "totalDays = dateDays.days\n",
    "randDay = random.randrange(totalDays)\n",
    "randDate = minDate + timedelta(days=randDay)\n",
    "print(randDate)\n",
    "# used this in other assignment as well"
   ]
  },
  {
   "attachments": {},
   "cell_type": "markdown",
   "metadata": {},
   "source": [
    "# Challenge 2: Turtle\n",
    "Turtle is a python drawing package which allows you to draw all kinds of different shapes. It's ofter used to teach beginning python learners, but is really cool to use anywhere. Turtle employs a graphics package to display what you've done, but unfortunately it's kind of annoying to make work with vscode.\n",
    "<br>\n",
    "Use: repl.it\n",
    "<br>\n",
    "Click \"+ Create\", and for language, select \"Python (with Turtle)\"\n",
    "<br>\n",
    "[Documentation](https://docs.python.org/3/library/turtle.html#turtle.pendown)<br>\n",
    "Task: Have fun with turtle! Create something that uses at least 2 lines of different lengths and 2 turns with different angles, and changes at least one setting about either the pen or canvas. Also use one command that isn't mentioned on the table below(there are a lot). Paste a screenshot of the code and the drawing from repl.it\n",
    "\n",
    "|Commands|\n",
    "|--------|\n",
    "|forward(pixels)|\n",
    "|right(degrees)|\n",
    "|left(degrees)|\n",
    "|setpos(x,y)|\n",
    "|speed(speed)|\n",
    "|pensize(size)|\n",
    "|pencolor(color)|\n",
    "Note: Color should be within quotes, like \"brown\", or \"red\"\n",
    "\n"
   ]
  },
  {
   "cell_type": "code",
   "execution_count": null,
   "metadata": {},
   "outputs": [],
   "source": [
    "from turtle import *\n",
    "oogway = Turtle()"
   ]
  },
  {
   "attachments": {},
   "cell_type": "markdown",
   "metadata": {},
   "source": [
    "# Challenge 3: Math\n",
    "The math package allows for some really cool mathematical methods!<br>\n",
    "\n",
    "| Methods | Action |\n",
    "|-------|------|\n",
    "| ceil(x) | Returns whichever number is the next highest integer |\n",
    "| floor(x) | Rounds to largest integer less than or equal to x |\n",
    "| factorial(x) | Returns the factorial |\n",
    "| gcd(x, y) | Returns the greatest common denominator of x and y |\n",
    "| lcm(x, y) | Returns the least common multiple of x and y|\n",
    "\n",
    "##### Challenge: Create a program which asks for a user input of two numbers, and returns the following:\n",
    "- each number rounded up\n",
    "- each number rounded down\n",
    "- the lcm of the rounded down numbers\n",
    "- the gcf of the rounded up numbers\n",
    "- the factorial of each number\n",
    "- something else using the math package!<br>\n",
    "[Documentation](https://docs.python.org/3/library/math.html)"
   ]
  },
  {
   "cell_type": "code",
   "execution_count": 24,
   "metadata": {},
   "outputs": [
    {
     "name": "stdout",
     "output_type": "stream",
     "text": [
      "Ceiling of 2.34 = 3\n",
      "Floor of 2.34 = 2\n",
      "Factorial of 2.34 = 2\n",
      "Ceiling of 3.45 = 4\n",
      "Floor of 3.45 = 3\n",
      "LCM of 3.45 2.34 = 6\n",
      "GCD of 3.45 2.34 = 1\n",
      "Factorial of 3.45 = 6\n",
      "Square root of 2.34 = 1\n",
      "Square root of 3.45 = 1\n"
     ]
    }
   ],
   "source": [
    "from math import *\n",
    "import math\n",
    "x = \"\"\n",
    "y = \"\"\n",
    "while ((x != \"quit\") and (y != \"quit\")):\n",
    "    x = input()\n",
    "    if (x == \"quit\"):\n",
    "        break\n",
    "    \n",
    "    y = input()\n",
    "    if (y == \"quit\"):\n",
    "        break\n",
    "    \n",
    "    # my vscode is giving me an 'attribute does not exist' for LCM and I am not fixing that so. just know that i tried\n",
    "    \n",
    "    xf = float(x)\n",
    "    yf = float(y)\n",
    "    ceilNumX = math.ceil(xf)\n",
    "    floorNumX = math.floor(xf)\n",
    "    ceilNumY = math.ceil(yf)\n",
    "    floorNumY = math.floor(yf)\n",
    "    factNumX = math.factorial(int(xf))\n",
    "    lcmNumXY = math.lcm(int(floorNumX), int(floorNumY))\n",
    "    gcdNumXY = math.gcd(int(ceilNumX), int(ceilNumY))\n",
    "    factNumY = math.factorial(int(yf))\n",
    "    sqrtNumX = math.isqrt(int(floorNumX))\n",
    "    sqrtNumY = math.isqrt(int(floorNumY))\n",
    "    print (\"Ceiling of\", x ,\"=\", ceilNumX)\n",
    "    print (\"Floor of\", x ,\"=\", floorNumX)\n",
    "    print (\"Factorial of\", x ,\"=\", factNumX)\n",
    "    print (\"Ceiling of\", y ,\"=\", ceilNumY)\n",
    "    print (\"Floor of\", y ,\"=\", floorNumY)\n",
    "    print (\"LCM of\", y, x ,\"=\", lcmNumXY)\n",
    "    print (\"GCD of\", y, x,\"=\", gcdNumXY)\n",
    "    print (\"Factorial of\", y ,\"=\", factNumY)\n",
    "    print (\"Square root of\", x,\"=\", sqrtNumX)\n",
    "    print (\"Square root of\", y,\"=\", sqrtNumY)"
   ]
  },
  {
   "attachments": {},
   "cell_type": "markdown",
   "metadata": {},
   "source": [
    "# Homework: Putting it all together(complete only after the random values lesson)\n",
    "Option 1: Create a python program which generates a random number between 1 and 10, and use turtle to draw a regular polygon with that many sides. As a hint, remember that the total sum of all the angles in a polygon is (the number of sides - 2) * 180. Note: a regular polygon has all sides and angles the same size. Paste a screenshot of the code and the drawing from repl.it\n",
    "\n",
    "Option 2: use the \"datetime\" package, and looking up documentation, create a program to generate 2 random dates and find the number of days between\n",
    "\n",
    "\n",
    "Extra ideas: customize the settings, draw a picture, or something else!"
   ]
  },
  {
   "attachments": {},
   "cell_type": "markdown",
   "metadata": {},
   "source": [
    "Turtle output doesn't load, but option 2 is on the other page."
   ]
  }
 ],
 "metadata": {
  "kernelspec": {
   "display_name": "base",
   "language": "python",
   "name": "python3"
  },
  "language_info": {
   "codemirror_mode": {
    "name": "ipython",
    "version": 3
   },
   "file_extension": ".py",
   "mimetype": "text/x-python",
   "name": "python",
   "nbconvert_exporter": "python",
   "pygments_lexer": "ipython3",
   "version": "3.9.12 (main, Apr  5 2022, 06:56:58) \n[GCC 7.5.0]"
  },
  "orig_nbformat": 4,
  "vscode": {
   "interpreter": {
    "hash": "3b85ac7d340d972d804a633b4d7865a48f85518acf1db710e8ed23047c086fd4"
   }
  }
 },
 "nbformat": 4,
 "nbformat_minor": 2
}
