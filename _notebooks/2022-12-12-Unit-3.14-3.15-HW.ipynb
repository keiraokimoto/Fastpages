{
 "cells": [
  {
   "attachments": {},
   "cell_type": "markdown",
   "metadata": {},
   "source": [
    "# Unit 3 Sections 14-15 Homework\n",
    "> Here are the instructions for the homework for sections 14-15.\n",
    "\n",
    "- toc: true\n",
    "- comments: true\n",
    "- categories: [Week-13,Big-Idea-3]\n",
    "- image: /images/college-board-logo.png"
   ]
  },
  {
   "attachments": {},
   "cell_type": "markdown",
   "metadata": {},
   "source": [
    "Create a program that asks the user for a day and then gives them a distance in days between that day and another random day in the year. We have provided you with a possible starter, but you are welcome to change it up if you would like."
   ]
  },
  {
   "cell_type": "code",
   "execution_count": 4,
   "metadata": {},
   "outputs": [
    {
     "name": "stdout",
     "output_type": "stream",
     "text": [
      "Date range: 1900-01-01 to 2022-12-31\n",
      "1983-01-04\n",
      "\n",
      "Enter a day, month, and year in the 'dd-mm-yyyy' format or type 'quit' to quit.\n",
      "1983-01-04 is 7333 days, 0:00:00 away from 2 - 1 - 2003 .\n",
      "\n",
      "Enter a day, month, and year in the 'dd-mm-yyyy' format or type 'quit' to quit.\n",
      "Loop exited.\n"
     ]
    }
   ],
   "source": [
    "from datetime import date, timedelta, datetime\n",
    "import random\n",
    "\n",
    "minDate, maxDate = date(1900, 1, 1), date(2022, 12, 31)\n",
    "print(\"Date range: \" + str(minDate) + \" to \" + str(maxDate))\n",
    "dateDays = maxDate - minDate\n",
    "totalDays = dateDays.days\n",
    "randDay = random.randrange(totalDays)\n",
    "randDate = minDate + timedelta(days=randDay)\n",
    "print(randDate)\n",
    "\n",
    "def inputDate():\n",
    "    day = \"\"\n",
    "    month = \"\"\n",
    "    year = \"\"\n",
    "    datestr = \"\"\n",
    "    quit = False\n",
    "    # while (datestr != \"quit\"):\n",
    "    while (True):\n",
    "        print(\"\\nEnter a day, month, and year in the 'dd-mm-yyyy' format or type 'quit' to quit.\")\n",
    "        # datestr = input()\n",
    "        d = input()\n",
    "        if (d == \"quit\"):\n",
    "            print (\"Loop exited.\")\n",
    "            break\n",
    "        m = input()\n",
    "        if (m == \"quit\"):\n",
    "            print (\"Loop exited.\")\n",
    "            break\n",
    "        y = input()\n",
    "        if (y == \"quit\"): \n",
    "            print (\"Loop exited.\")\n",
    "            break\n",
    "        diffDate(int(d), int(m), int(y))\n",
    "\n",
    "def diffDate(day, month, year):\n",
    "    timePass = date(year, month, day)\n",
    "    if (timePass > randDate):\n",
    "        finalTime = timePass - randDate\n",
    "    else:\n",
    "        finalTime = randDate - timePass\n",
    "    print(randDate, \"is\", finalTime, \"away from\", month,\"-\",day,\"-\",year,\".\")\n",
    "\n",
    "def diffDate2(dateStr):\n",
    "    splits = dateStr.split(\"-\")\n",
    "    day = int(splits[0])\n",
    "    print(day)\n",
    "    month = int(splits[1])\n",
    "    print(month)\n",
    "    year = int(splits[2])\n",
    "    print(year)\n",
    "    print(splits)\n",
    "    timePass = date(year, month, day)\n",
    "    if (timePass > randDate):\n",
    "        finalTime = timePass - randDate\n",
    "    else:\n",
    "        finalTime = randDate - timePass\n",
    "    print(finalTime)\n",
    "inputDate()\n",
    "\n",
    "# expected output shown below (or something similar)\n",
    "#   Input a day\n",
    "#   13\n",
    "#   Input a month\n",
    "#   7\n",
    "#   Input a year\n",
    "#   2010\n",
    "#   user day: 07/13/2010\n",
    "#   random day: 09/11/2010\n",
    "#   The number of days between the given range of dates is: 60\n"
   ]
  },
  {
   "attachments": {},
   "cell_type": "markdown",
   "metadata": {},
   "source": [
    "## Homework\n",
    "Given a random decimal number convert it into binary. As extra, convert it to hexidecimal as well. "
   ]
  },
  {
   "cell_type": "code",
   "execution_count": 1,
   "metadata": {},
   "outputs": [
    {
     "name": "stdout",
     "output_type": "stream",
     "text": [
      "Randomly generated number: 89\n",
      "Randomly generated number 89 is 1011001 in binary.\n"
     ]
    }
   ],
   "source": [
    "import random\n",
    "\n",
    "def printrandom(randNum):\n",
    "    randNum = random.randint(1,100)\n",
    "    print (\"Randomly generated number:\", randNum)\n",
    "    divValue = randNum\n",
    "    remainder = 1\n",
    "    binaryConv = ''\n",
    "    while divValue > 0:\n",
    "        remainder = divValue % 2\n",
    "        divValue = (int)(divValue / 2)\n",
    "        binaryConv = str(remainder) + binaryConv\n",
    "    print(\"Randomly generated number\", randNum ,\"is\", binaryConv,\"in binary.\")\n",
    "    # (binary converter taken from previous homework)\n",
    "printrandom(1)"
   ]
  },
  {
   "attachments": {},
   "cell_type": "markdown",
   "metadata": {},
   "source": [
    "fill in the blanks!\n",
    "# Libraries\n",
    "Okay, so we've learned a lot of code, and all of you now can boast that you can code at least some basic programs in python. But, what about more advanced stuff? What if there's a more advanced program you don't know how to make? Do you need to make it yourself? Well, not always. \n",
    "\n",
    "You've already learned about functions that you can write to reuse in your code in previous lessons. But,there are many others who code in python just like you. So why would you do again what someone has already done, and is available for any python user? \n",
    "\n",
    "Packages allow a python user to import methods from a library, and use the methods in their code. Most libraries come with documentation on the different methods they entail and how to use them, and they can be found with a quick Google search. Methods are used with the following: \n",
    "\n",
    "#### Note: a method from a package can only be used after the import statement. \n",
    "\n",
    "Some libraries are always installed, such as those with the list methods which we have previously discussed. But others require a special python keyword called import. We will learn different ways to import in Challenge 1.\n",
    "\n",
    "Sometimes we only need to import a single method from the package. We can do that with the word 'from', followed by the package name, then the word 'import', then the method. This will alllow you to use the method without mentioning the package's name, unlike what we did before, however other methods from that package cannot be used. To get the best of both worlds you can use '*'.\n",
    "\n",
    "To import a method as an easier name, just do what we did first, add the word 'as', and write the name you would like to use that package as.\n",
    "\n",
    "# Challenge 1: Basic Libraries\n",
    "1. Find a python package on the internet and import it\n",
    "2. Choose a method from the package and import only the method\n",
    "3. import the package as a more convenient name."
   ]
  },
  {
   "cell_type": "code",
   "execution_count": 3,
   "metadata": {},
   "outputs": [
    {
     "name": "stdout",
     "output_type": "stream",
     "text": [
      "Date range: 1900-01-01 to 2022-12-31\n",
      "1918-10-18\n"
     ]
    }
   ],
   "source": [
    "from datetime import date, timedelta, datetime\n",
    "import random\n",
    "\n",
    "minDate, maxDate = date(1900, 1, 1), date(2022, 12, 31)\n",
    "print(\"Date range: \" + str(minDate) + \" to \" + str(maxDate))\n",
    "dateDays = maxDate - minDate\n",
    "totalDays = dateDays.days\n",
    "randDay = random.randrange(totalDays)\n",
    "randDate = minDate + timedelta(days=randDay)\n",
    "print(randDate)\n",
    "# used this in other assignment as well"
   ]
  },
  {
   "attachments": {},
   "cell_type": "markdown",
   "metadata": {},
   "source": [
    "## Challenge 1"
   ]
  },
  {
   "cell_type": "code",
   "execution_count": 2,
   "metadata": {},
   "outputs": [
    {
     "name": "stdout",
     "output_type": "stream",
     "text": [
      "Tails\n"
     ]
    }
   ],
   "source": [
    "import random\n",
    "def coinflip():\n",
    "    flipCoin = random.choice([\"Heads\", \"Tails\"])\n",
    "    print(flipCoin)\n",
    "\n",
    "coinflip()"
   ]
  },
  {
   "attachments": {},
   "cell_type": "markdown",
   "metadata": {},
   "source": [
    "## Challenge 2: Turtle\n",
    "![](ghtop_images/turtl.png)"
   ]
  },
  {
   "attachments": {},
   "cell_type": "markdown",
   "metadata": {},
   "source": [
    "# Challenge 3: Math\n",
    "The math package allows for some really cool mathematical methods!<br>\n",
    "\n",
    "| Methods | Action |\n",
    "|-------|------|\n",
    "| ceil(x) | Returns whichever number is the next highest integer |\n",
    "| floor(x) | Rounds to largest integer less than or equal to x |\n",
    "| factorial(x) | Returns the factorial |\n",
    "| gcd(x, y) | Returns the greatest common denominator of x and y |\n",
    "| lcm(x, y) | Returns the least common multiple of x and y|\n",
    "\n",
    "##### Challenge: Create a program which asks for a user input of two numbers, and returns the following:\n",
    "- each number rounded up\n",
    "- each number rounded down\n",
    "- the lcm of the rounded down numbers\n",
    "- the gcf of the rounded up numbers\n",
    "- the factorial of each number\n",
    "- something else using the math package!<br>\n",
    "[Documentation](https://docs.python.org/3/library/math.html)"
   ]
  },
  {
   "cell_type": "code",
   "execution_count": 5,
   "metadata": {},
   "outputs": [
    {
     "name": "stdout",
     "output_type": "stream",
     "text": [
      "Ceiling of 2.34 = 3\n",
      "Floor of 2.34 = 2\n",
      "Factorial of 2.34 = 2\n",
      "Ceiling of 3.45 = 4\n",
      "Floor of 3.45 = 3\n",
      "LCM of 3.45 2.34 = 6\n",
      "GCD of 3.45 2.34 = 1\n",
      "Factorial of 3.45 = 6\n",
      "Square root of 2.34 = 1\n",
      "Square root of 3.45 = 1\n"
     ]
    }
   ],
   "source": [
    "from math import *\n",
    "import math\n",
    "x = \"\"\n",
    "y = \"\"\n",
    "while ((x != \"quit\") and (y != \"quit\")):\n",
    "    x = input()\n",
    "    if (x == \"quit\"):\n",
    "        break\n",
    "    \n",
    "    y = input()\n",
    "    if (y == \"quit\"):\n",
    "        break\n",
    "    \n",
    "    # my vscode is giving me an 'attribute does not exist' for LCM and I am not fixing that so. just know that i tried\n",
    "    \n",
    "    xf = float(x)\n",
    "    yf = float(y)\n",
    "    ceilNumX = math.ceil(xf)\n",
    "    floorNumX = math.floor(xf)\n",
    "    ceilNumY = math.ceil(yf)\n",
    "    floorNumY = math.floor(yf)\n",
    "    factNumX = math.factorial(int(xf))\n",
    "    lcmNumXY = math.lcm(int(floorNumX), int(floorNumY))\n",
    "    gcdNumXY = math.gcd(int(ceilNumX), int(ceilNumY))\n",
    "    factNumY = math.factorial(int(yf))\n",
    "    sqrtNumX = math.isqrt(int(floorNumX))\n",
    "    sqrtNumY = math.isqrt(int(floorNumY))\n",
    "    print (\"Ceiling of\", x ,\"=\", ceilNumX)\n",
    "    print (\"Floor of\", x ,\"=\", floorNumX)\n",
    "    print (\"Factorial of\", x ,\"=\", factNumX)\n",
    "    print (\"Ceiling of\", y ,\"=\", ceilNumY)\n",
    "    print (\"Floor of\", y ,\"=\", floorNumY)\n",
    "    print (\"LCM of\", y, x ,\"=\", lcmNumXY)\n",
    "    print (\"GCD of\", y, x,\"=\", gcdNumXY)\n",
    "    print (\"Factorial of\", y ,\"=\", factNumY)\n",
    "    print (\"Square root of\", x,\"=\", sqrtNumX)\n",
    "    print (\"Square root of\", y,\"=\", sqrtNumY)"
   ]
  }
 ],
 "metadata": {
  "kernelspec": {
   "display_name": "base",
   "language": "python",
   "name": "python3"
  },
  "language_info": {
   "codemirror_mode": {
    "name": "ipython",
    "version": 3
   },
   "file_extension": ".py",
   "mimetype": "text/x-python",
   "name": "python",
   "nbconvert_exporter": "python",
   "pygments_lexer": "ipython3",
   "version": "3.9.12"
  },
  "orig_nbformat": 4,
  "vscode": {
   "interpreter": {
    "hash": "3b85ac7d340d972d804a633b4d7865a48f85518acf1db710e8ed23047c086fd4"
   }
  }
 },
 "nbformat": 4,
 "nbformat_minor": 2
}
