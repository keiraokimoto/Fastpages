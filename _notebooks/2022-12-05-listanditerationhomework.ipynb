{
 "cells": [
  {
   "cell_type": "markdown",
   "metadata": {},
   "source": [
    "# Lists and Iteration Homework and Challenges\n",
    "> Try to complete this to show understanding! Copy this into your notebook so you can also take notes as we lecture. Make a copy of this notebook to your own repository to take notes, do the class challenges, and to access the homework.\n",
    "- title: Lists and Iteration Homework\n",
    "- toc: true\n",
    "- permalink: /homework/"
   ]
  },
  {
   "cell_type": "markdown",
   "metadata": {},
   "source": [
    "## Overview and Notes:  3.10 - Lists\n",
    "- Make sure you complete the challenge in the challenges section while we present the lesson! \n",
    "\n",
    "Add your <mark>OWN</mark> Notes for 3.10 here: \n",
    "- i always represents the current index, so an extra index variable is not needed\n",
    "- indexes can be used to make lists of numbers\n",
    "\n",
    "Fill out the empty boxes: \n",
    "\n",
    "|   Pseudocode Operation  | Python Syntax |                                                           Description                                                          |\n",
    "|:-----------------------:|---------------|:------------------------------------------------------------------------------------------------------------------------------:|\n",
    "|       aList[i]       |       aList[i]        | _Accesses the element of aList at index i_                                                                                     |\n",
    "|       x ← aList[i]      |        x = aList(i)       | _Assigns the element of aList at index i <br>to a variable 'x'_                                                                |\n",
    "|       aList[i] ← x\t     |      aList(i) = x         | _Assigns the value of a variable 'x' to <br>the element of a List at index i_                                                  |\n",
    "|   aList[i] ← aList[j]   |       aList[i] = aList[j]        | _Assigns value of aList[j] to aList[i]_                                                                                        |\n",
    "| INSERT(aList, i, value) |       aList.insert(i, value)        | _value is placed at index i in aList. Any <br>element at an index greater than i will shift<br>one position to the right. _    |\n",
    "|   APPEND(aList, value)  |      aList.append(value)         |       value is added as an element to the end of aList <br> and length of aList is increased by 1         |\n",
    "|     REMOVE(aList, i)\t    |      aList.pop(i)<br>OR<br>aList.remove(value)         | _Removes item at index i and any values at <br>indices greater than i shift to the left. <br>Length of aList decreased by 1. _ |\n"
   ]
  },
  {
   "cell_type": "markdown",
   "metadata": {},
   "source": [
    "## Overview and Notes:  3.8 - Iteration\n",
    "\n",
    "Add your <mark>OWN</mark> Notes for 3.8 here: \n",
    "- For Loops - Loops that apply a certain algorithm or function to an entire list of similar things; iterates until told not to/until conditions are met (infinite)\n",
    "- Recursive Loops - Loops that run through the code until reaching a specific break point\n",
    "- While Loops - run until the end of the list (sometimes not in some cases)\n",
    "\n",
    "Sorry if there's not many notes most of it was just the chart :(\n",
    "\n"
   ]
  },
  {
   "cell_type": "markdown",
   "metadata": {},
   "source": [
    "----------------------------------------------------------------------------------------------------------------------------------------"
   ]
  },
  {
   "cell_type": "markdown",
   "metadata": {},
   "source": [
    "## Homework Assignment\n",
    "\n",
    "Instead of us making a quiz for you to take, we would like YOU to make a quiz about the material we reviewed.\n",
    "\n",
    "We would like you to <mark>input questions into a list</mark>, and use some sort of iterative system to print the questions, detect an input, and determine if you answered correctly. There should be *at least* <mark>five questions</mark>, each with *at least* <mark>three possible answers</mark>.\n",
    "\n",
    "You may use the template below as a framework for this assignment."
   ]
  },
  {
   "cell_type": "code",
   "execution_count": 84,
   "metadata": {},
   "outputs": [
    {
     "name": "stdout",
     "output_type": "stream",
     "text": [
      "What is a recursive loop?\n",
      "A loop that runs until the code reaches a breakpoint\n",
      "Correct.\n",
      "What is a while loop?\n",
      "incorrect answer \n",
      "Incorrect.\n",
      "What does a for loop do?\n",
      "Loops that apply a certain algorithm or function to an entire list of similar things\n",
      "Correct.\n",
      "How can you append to a list?\n",
      "q\n",
      "Incorrect.\n"
     ]
    }
   ],
   "source": [
    "import random\n",
    "\n",
    "questions_list = [\n",
    "    #questions go here (remember to make them strings!)\n",
    "    \"What does a for loop do?\",\n",
    "    \"What is a while loop?\",\n",
    "    \"What is a recursive loop?\",\n",
    "    \"How can you append to a list?\",\n",
    "    \"Why would you use an index?\",\n",
    "]\n",
    "\n",
    "answers = [\n",
    "    [ \"A loop that iterates until the completion conditions are met\", \"Loops that apply a certain algorithm or function to an entire list of similar things\", \"Loops that apply a certain algorithm or function to a list until completion conditions are met\"], \n",
    "     [ \"Loops that start with 'while'\", \"A loop that runs until the end of the list\", \"A loop that runs until the end of the list most of the time\"], \n",
    "     [ \"A loop that runs until the code reaches a breakpoint\", \"A loop that runs infinitely until it is told to stop\", \"A loop that has a limited starting point\"], \n",
    "     [ \"aList.pop(i)\", \"aList.remove(value)\", \"aList.append(value)\"],\n",
    "     [ \"To make a list of numbers\", \"To make numbers on a list easier to organize\", \"To categorize data\"], \n",
    "]\n",
    "\n",
    "def questionloop():\n",
    "    s = \"\"\n",
    "    while (s != \"q\"):\n",
    "        question = random.choice(questions_list)\n",
    "        print(question)\n",
    "        s = input()\n",
    "        print(s)\n",
    "        answercheck(s, question)\n",
    "    #make an iterative function to ask the questions\n",
    "    #this can be any loop you want as long as it works!\n",
    "\n",
    "def answercheck(s, question):\n",
    "    i = questions_list.index(question)\n",
    "    matchedAnswers = list(filter(lambda item: item == s, answers[i])) # Filters wrong/right, if it's not in the list it's wrong, and that makes it appear as 'empty'\n",
    "    # (Tests, basically shows the len and if the len is >1, the answer is correct) print(matchedAnswers , str(len(matchedAnswers)))\n",
    "    if (len(matchedAnswers)) >= 1: # if the length was marked as 'none' (0) in the previous line, then it's measured (using len) and marked as incorrect\n",
    "        print(\"Correct.\")\n",
    "    else:\n",
    "        print(\"Incorrect.\")\n",
    "    #make a function to check if the answer was correct or not\n",
    "\n",
    "questionloop()"
   ]
  },
  {
   "cell_type": "markdown",
   "metadata": {},
   "source": [
    "----------------------------------------------------------------------------------------------------------------------------------------"
   ]
  },
  {
   "cell_type": "markdown",
   "metadata": {},
   "source": [
    "### Hacks\n",
    "\n",
    "Here are some ideas of things you can do to make your program even cooler. Doing these will raise your grade if done correctly.\n",
    "\n",
    "- Add more than five questions with more than three answer choices\n",
    "- Randomize the order in which questions/answers are output\n",
    "- At the end, display the user's score and determine whether or not they passed\n",
    "\n",
    "## Challenges\n",
    "\n",
    "<mark>Important!</mark> You don't have to complete these challenges completely perfectly, but you will be marked down if you don't show evidence of at least having tried these challenges in the time we gave during the lesson.\n",
    "\n",
    "### 3.10 Challenge\n",
    "\n",
    "Follow the instructions in the code comments."
   ]
  },
  {
   "cell_type": "code",
   "execution_count": 85,
   "metadata": {},
   "outputs": [
    {
     "name": "stdout",
     "output_type": "stream",
     "text": [
      "carrots\n",
      "carrots\n",
      "artichokes\n",
      "['apples', 'eggs', 'oranges', 'carrots', 'cucumbers', 'umbrellas', 'artichokes']\n"
     ]
    }
   ],
   "source": [
    "grocery_list = ['apples', 'milk', 'oranges', 'carrots', 'cucumbers']\n",
    "\n",
    "# Print the fourth item in the list\n",
    "fourth = grocery_list[3]\n",
    "print(fourth)\n",
    "# Now, assign the fourth item in the list to a variable, x and then print the variable\n",
    "x = fourth\n",
    "print (x)\n",
    "# Add these two items at the end of the list : umbrellas and artichokes\n",
    "grocery_list.append('umbrellas')\n",
    "grocery_list.append('artichokes')\n",
    "# Insert the item eggs as the third item of the list \n",
    "grocery_list.insert(2, 'eggs')\n",
    "# Remove milk from the list \n",
    "grocery_list.remove('milk')\n",
    "# Assign the element at the end of the list to index 2. Print index 2 to check\n",
    "index_2 = grocery_list[6]\n",
    "print (index_2)\n",
    "# Print the entire list, does it match ours ? \n",
    "\n",
    "print (grocery_list)\n",
    "# Expected output\n",
    "# carrots\n",
    "# carrots\n",
    "# artichokes\n",
    "# ['apples', 'eggs', 'artichokes', 'carrots', 'cucumbers', 'umbrellas', 'artichokes']"
   ]
  },
  {
   "cell_type": "markdown",
   "metadata": {},
   "source": [
    "----------------------------------------------------------------------------------------------------------------------------------------"
   ]
  },
  {
   "cell_type": "markdown",
   "metadata": {},
   "source": [
    "### 3.8 Challenge\n",
    "\n",
    "Create a loop that <mark>converts 8-bit binary values</mark> from the provided list into <mark>decimal numbers</mark>. Then, after the value is determined, <mark>remove all the values greater than 100</mark> from the list using a list-related function you've been taught before. <mark>Print the new list</mark> when done.\n",
    "\n",
    "Once you've done this with one of the types of loops discussed in this lesson, create a function that does the same thing with a *different* type of loop."
   ]
  },
  {
   "cell_type": "code",
   "execution_count": 86,
   "metadata": {},
   "outputs": [
    {
     "name": "stdout",
     "output_type": "stream",
     "text": [
      "Binary to decimal conversion of the Binary List: [146, 85, 105, 236, 55, 139, 129]\n",
      "All values less than 100: [85, 55]\n"
     ]
    }
   ],
   "source": [
    "binarylist = [\n",
    "    \"01001001\", \"10101010\", \"10010110\", \"00110111\", \"11101100\", \"11010001\", \"10000001\"\n",
    "]\n",
    "\n",
    "def binary_convert(bin):\n",
    "    dec, i = 0, 0 # starts at 0\n",
    "    for c in bin: # c = character, bin = numbers in binary list\n",
    "        ci = int(c) # convert string to int\n",
    "        dec = dec + ci * pow(2,i) # index times power of base 2 = 1 or 0\n",
    "        i += 1 # adds/increases position in the index\n",
    "    return(dec)\n",
    "\n",
    "decList = []\n",
    "for bin in binarylist:\n",
    "    dec = binary_convert(bin)\n",
    "    decList.append(dec)\n",
    "print (\"Binary to decimal conversion of the Binary List:\", decList)\n",
    "\n",
    "filteredList = list(filter(lambda item: item < 100, decList)) # filters list so that ONLY items under 100 appear\n",
    "print(\"All values less than 100:\", filteredList)\n",
    "\n",
    "\n",
    "#use this function to convert every binary value in binarylist to decimal\n",
    "#afterward, get rid of the values that are greater than 100 in decimal\n",
    "#when done, print the results"
   ]
  }
 ],
 "metadata": {
  "kernelspec": {
   "display_name": "Python 3.8.10 64-bit",
   "language": "python",
   "name": "python3"
  },
  "language_info": {
   "codemirror_mode": {
    "name": "ipython",
    "version": 3
   },
   "file_extension": ".py",
   "mimetype": "text/x-python",
   "name": "python",
   "nbconvert_exporter": "python",
   "pygments_lexer": "ipython3",
   "version": "3.8.10"
  },
  "orig_nbformat": 4,
  "vscode": {
   "interpreter": {
    "hash": "916dbcbb3f70747c44a77c7bcd40155683ae19c65e1c03b4aa3499c5328201f1"
   }
  }
 },
 "nbformat": 4,
 "nbformat_minor": 2
}
