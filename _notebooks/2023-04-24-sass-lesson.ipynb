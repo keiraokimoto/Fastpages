{
 "cells": [
  {
   "attachments": {},
   "cell_type": "markdown",
   "metadata": {},
   "source": [
    "# SASS"
   ]
  },
  {
   "attachments": {},
   "cell_type": "markdown",
   "metadata": {},
   "source": [
    "# Why SASS?\n",
    "\n",
    "SASS is an improvement on CSS in that there are methods of abstraction. It is a preprocessor language that is compiled into CSS, which means that SASS code is translated into CSS code, which is what your web browser can read.\n",
    "\n",
    "# SASS vs SCSS\n",
    "As you learn about Sass, you might notice something called Scss. They are basically the same thing except that Scss uses curly braces and semicolons to distinguish between lines. Sass uses indentation and newlines instead.\n",
    "\n",
    "We will be teaching the Scss syntax because it is more commonly used."
   ]
  },
  {
   "attachments": {},
   "cell_type": "markdown",
   "metadata": {},
   "source": [
    "# Getting started\n",
    "\n",
    "A easy way to write SASS and have it preprocessed into CSS is by using a Jekyll powered website, such as GitHub pages or Fastpages.\n",
    "\n",
    "The first step is to clone a GitHub pages repo, such as this [one](https://github.com/lwu1822/sassy_squad).\n",
    "\n",
    "Within the repository, head over to `assets/css/`, and open `style.scss`.\n",
    "\n",
    "This is where you can create your SASS code.\n",
    "\n",
    "To see your CSS-translated SASS code, head over to `_site/assets/css/style.css`\n",
    "\n",
    "Note: You will need to run bundle exec jekyll serve before the _site directory appears.\n",
    "\n",
    "The first few hundred lines are used to style Github's theme. Make sure to scroll to the very bottom to see the SASS code that you wrote, which is in the form of CSS."
   ]
  },
  {
   "attachments": {},
   "cell_type": "markdown",
   "metadata": {},
   "source": [
    "# Nesting\n",
    "- Nesting in SASS is used to indent and arrange the code\n",
    "- Nesting makes it so that the code is organized"
   ]
  },
  {
   "attachments": {},
   "cell_type": "markdown",
   "metadata": {},
   "source": [
    "# Mini-hack\n",
    "\n",
    "Write out the SASS equivalent for the following CSS code:\n",
    "\n",
    "```\n",
    ".a .b {\n",
    "    color: green;\n",
    "}\n",
    "\n",
    ".a .c {\n",
    "    color: blue;\n",
    "}\n",
    "```\n",
    "----------------------------------------------------------------------------------------------------\n",
    "```\n",
    ".a {\n",
    "  .b {\n",
    "    color: green;\n",
    "  }\n",
    "  .c {\n",
    "    color: blue;\n",
    "  }\n",
    "}\n",
    "```"
   ]
  },
  {
   "attachments": {},
   "cell_type": "markdown",
   "metadata": {},
   "source": [
    "# Extend/Inheritance\n",
    "\n",
    "What are some similarities that the buttons share? What are the differences?\n",
    "- The buttons share the ability to be clickable, shape, sizing, borders, color, and font\n",
    "- The buttons have different options for each design category \n",
    "\n",
    "- Inheritance is a way to share common properties among different selectors.\n",
    "- In SASS, inheritance can be achieved using the @extend directive.\n",
    "- The @extend directive is followed by the name of the selector to be inherited.\n",
    "- Inheritance can also be achieved using the :extend() pseudo-class in CSS.\n"
   ]
  },
  {
   "attachments": {},
   "cell_type": "markdown",
   "metadata": {},
   "source": [
    "# Mixin\n",
    "- Allows you to define a set of styles once and reuse them throughout your stylesheet\n",
    "- Uses the @mixin directive\n",
    "- Can accept arguments\n",
    "- Use the @include directive followed by the name of the mixin and any arguments that need to be passed"
   ]
  },
  {
   "attachments": {},
   "cell_type": "markdown",
   "metadata": {},
   "source": [
    "# Mini-hack\n",
    "\n",
    "Write out a mixin in SASS that takes in a color and a font size as the parameter. Within the mixin, set the background color and font color to the color parameter, and set the font size to the font size parameter. Then create a selector that calls the mixin, and pass in a color and font size of your choice as the arguments.\n",
    "\n",
    "```\n",
    "@mixin myMixin($color, $font-size) {\n",
    "  background-color: $color;\n",
    "  color: $color;\n",
    "  font-size: $font-size;\n",
    "}\n",
    "\n",
    ".mySelector {\n",
    "  @include myMixin(blue, 10px);\n",
    "}\n",
    "```"
   ]
  },
  {
   "attachments": {},
   "cell_type": "markdown",
   "metadata": {},
   "source": [
    "# Function\n",
    "\n",
    "- Arguments can be used\n",
    "- Called using function()\n",
    "- calc() allows you to perform calculations\n",
    "- EX: darken() and lighten() allow you to adjust a color's brightness\n",
    "- Functions can also be used to define variables that can be used throughout your stylesheet."
   ]
  },
  {
   "attachments": {},
   "cell_type": "markdown",
   "metadata": {},
   "source": [
    "# Import\n",
    "\n",
    "- Imported files can be Sass or CSS files\n",
    "- syntax is @import 'file-name'\n",
    "- Use partials for imported files, which start with an underscore (_)"
   ]
  },
  {
   "attachments": {},
   "cell_type": "markdown",
   "metadata": {},
   "source": [
    "# SASS Hacks\n",
    "\n",
    "1. Take notes and complete the mini-hacks. (0.9)\n",
    "\n",
    "2. Complete the [quiz questions](https://lwu1822.github.io/sassy_squad/quizQuestions) and provide your answers in this notebook. (0.9)\n",
    "\n",
    "3. Use SASS to create something that uses either extend or mixin. (0.9)\n",
    "\n",
    "4. Extra credit: Research other SASS features and blog about what you learned or add to your SASS project with any extra features not covered in this lesson. More points will be given if both are done."
   ]
  },
  {
   "attachments": {},
   "cell_type": "markdown",
   "metadata": {},
   "source": [
    "```\n",
    "@mixin button($background-color, $font-color) {\n",
    "  background-color: $background-color;\n",
    "  color: $font-color;\n",
    "  padding: 10px 20px;\n",
    "  border: none;\n",
    "  border-radius: 5px;\n",
    "  cursor: pointer;\n",
    "  &:hover {\n",
    "    background-color: darken($background-color, 10%);\n",
    "  }\n",
    "}\n",
    "\n",
    ".button-primary {\n",
    "  @include button(#3498db, #fff);\n",
    "}\n",
    "\n",
    ".button-secondary {\n",
    "  @include button(#e74c3c, #fff);\n",
    "}\n",
    "\n",
    "```"
   ]
  },
  {
   "attachments": {},
   "cell_type": "markdown",
   "metadata": {},
   "source": [
    "#### Multiple Choice Quiz Questions\n",
    "What is SASS?\n",
    "- a. A type of operating system used by many devices\n",
    "- b. A scripting language that has many styling operations\n",
    "- c. The name of a commonly used computer networking system\n",
    "- d. A debugging system with many features\n",
    "   - [A] A type of operating system used by many devices\n",
    "\n",
    "What is the difference between SASS and SCSS?\n",
    "- a. They are very similar in their function, but their syntax is slightly different\n",
    "- b. They are the exact same, but SASS is more commonly used\n",
    "- c. SASS was developed by a larger company\n",
    "   - [A] They are very similar in their function, but their syntax is slightly different\n",
    "\n",
    "What is an example of an advantage of using SASS over just CSS?\n",
    "- a. SASS has more functions than CSS\n",
    "- b. SASS is not as expensive to use than CSS\n",
    "- c. CSS takes up more bytes\n",
    "- d. CSS is not as commonly used, so it’s hard to find solutions to problems that arise while coding in it.\n",
    "   - [C] CSS takes up more bytes\n",
    "\n",
    "What does SASS stand for?\n",
    "- a. Systematically Arranged Sample Sheets\n",
    "- b. Syntactically Awesome Style Sheets\n",
    "   - [A] Systematically Arranged Sample Sheets\n",
    "\n",
    "Which of the following is NOT an example of an available SASS directive?\n",
    "- a. warn\n",
    "- b. debug\n",
    "- c. import\n",
    "- d. compute\n",
    "   - [D] Compute\n",
    "\n",
    "The __ directive is used to share rules and relationships between selectors.\n",
    "- a. each\n",
    "- b. extend\n",
    "- c. mixin\n",
    "- d. error\n",
    "   - [B] Extend\n",
    "\n",
    "What is “@___” called?\n",
    "- a. Enhancement\n",
    "- b. Directive\n",
    "- c. Label\n",
    "- d. Token\n",
    "   - [B] Directive"
   ]
  }
 ],
 "metadata": {
  "kernelspec": {
   "display_name": "JavaScript (Node.js)",
   "language": "javascript",
   "name": "javascript"
  },
  "language_info": {
   "file_extension": ".js",
   "mimetype": "application/javascript",
   "name": "javascript",
   "version": "6.11.2"
  },
  "orig_nbformat": 4
 },
 "nbformat": 4,
 "nbformat_minor": 2
}
