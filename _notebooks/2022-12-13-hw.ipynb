{
 "cells": [
  {
   "attachments": {},
   "cell_type": "markdown",
   "metadata": {},
   "source": [
    "# Unit 3 Lesson 16, Student Copy\n",
    "- toc: true\n",
    "- comments: true\n"
   ]
  },
  {
   "attachments": {},
   "cell_type": "markdown",
   "metadata": {},
   "source": [
    "### Hack #1 - Class Notes\n",
    "\n",
    "- Simulations are used to simplify/modify certain variables\n",
    "- Simulations can contain bias\n",
    "- They can be used to simulate things as tests (ie, launching a bomb) when these actions are too dangerous/impractical to do in the real world\n",
    "- Random modules define series of objects that can be generated randomly\n",
    "- "
   ]
  },
  {
   "attachments": {},
   "cell_type": "markdown",
   "metadata": {},
   "source": [
    "### Hack #2 - Functions Classwork"
   ]
  },
  {
   "cell_type": "code",
   "execution_count": 42,
   "metadata": {},
   "outputs": [
    {
     "name": "stdout",
     "output_type": "stream",
     "text": [
      "['red shoes', 'green pants', 'tie', 'belt']\n",
      "Do you want to add any clothes? Type 'No' or the item name.\n",
      "Object potato has been added.\n",
      "['red shoes', 'green pants', 'tie', 'belt', 'potato']\n",
      "Do you want to remove any clothes? Type 'No' or the item name.\n",
      "['red shoes', 'green pants', 'tie', 'potato']\n",
      "Object belt has been removed.\n"
     ]
    }
   ],
   "source": [
    "# insert your work with randomization/ functions and the mycloset code here # Hint: Use the functions we talked about in the beginning!\n",
    "import random\n",
    "\n",
    "myclothes = [\"red shoes\", \"green pants\", \"tie\", \"belt\"]\n",
    "\n",
    "def mycloset():\n",
    "    print(myclothes)\n",
    "\n",
    "def addCloth():\n",
    "    a = input() # tells the code to issue an input function\n",
    "    print(\"Do you want to add any clothes? Type 'No' or the item name.\")    \n",
    "    if a != \"No\":\n",
    "        myclothes.append(a) #appends the input to the myclothes list\n",
    "        print(\"Object\", a, \"has been added.\")\n",
    "    return myclothes\n",
    "\n",
    "def removeCloth():\n",
    "    r = input() # tells the code to issue an input function\n",
    "    print(\"Do you want to remove any clothes? Type 'No' or the item name.\")\n",
    "    if r != \"No\":\n",
    "        if (r in myclothes): # removes whatever the user types\n",
    "            myclothes.remove(r)\n",
    "    print(myclothes)\n",
    "    print(\"Object\", r, \"has been removed.\")\n",
    "\n",
    "mycloset()\n",
    "addCloth()\n",
    "print(myclothes)\n",
    "removeCloth()\n",
    "\n",
    "# add myclothes function\n",
    "# trash myclothes function\n"
   ]
  },
  {
   "cell_type": "markdown",
   "metadata": {},
   "source": [
    "### Hack #3 - Binary Simulation Problem"
   ]
  },
  {
   "cell_type": "code",
   "execution_count": 31,
   "metadata": {},
   "outputs": [
    {
     "name": "stdout",
     "output_type": "stream",
     "text": [
      "Randomly generated number list: [73, 40, 46, 25, 1, 6, 12, 28]\n",
      "['01001001', '00101000', '00101110', '00011001', '00000001', '00000110', '00001100', '00011100']\n",
      "{'Kohaku Oukawa': 'Zombie', 'Madara Mikejima': 'Zombie', 'Kaname Tojou': 'Alive', 'Aira Shiratori': 'Zombie', 'Kunikuzushi': 'Alive', 'Kazuha': 'Zombie', 'Rook Hunt': 'Zombie', 'Rinne Amagi': 'Zombie'}\n"
     ]
    }
   ],
   "source": [
    "# insert your zombie simulation here; you don't have to use this template but it will help you get started\n",
    "import random\n",
    "\n",
    "def randomnum(start, end, n=8): # function for generating random int\n",
    "    randNumList = []\n",
    "    for i in range(n): # in a range identified in the code\n",
    "        randNumList.append(random.randint(start,end)) #randomizes random numbers\n",
    "    print (\"Randomly generated number list:\", randNumList) \n",
    "    return randNumList\n",
    "\n",
    "def converttobin(randNumList): # function for converting decimal to binary\n",
    "    divValue = randNumList # input (which is the randNumList)\n",
    "    remainder = 1\n",
    "    results = [] #empty results list for whatever is appended\n",
    "    for num in randNumList:\n",
    "    #   convert eah num to binary string and append it to result list\n",
    "        divValue = num\n",
    "        x = '' # keeps track of 1's in the loop (so it can go infinitely)\n",
    "        while divValue > 0:\n",
    "            remainder = divValue % 2 # divides div val\n",
    "            divValue = (int)(divValue / 2) # integer x div value/2\n",
    "            x = str(remainder) + x\n",
    "        x = x.zfill(8)\n",
    "        results.append(x)\n",
    "    return results\n",
    "\n",
    "# FIrst, a function for randomizing decimal number 0-255\n",
    "# Next, a function for converting this to a 8-bit binary number (one bit per person)\n",
    "# Lastly, a function to read the binary bits, and assign each person a label (zombie or naw) based on the position of 0s and 1s\n",
    "def survivors(binary): # function to assign position\n",
    "    survivorstatus = [\"Kohaku Oukawa\", \"Madara Mikejima\", \"Kaname Tojou\", \"Aira Shiratori\" , \"Kunikuzushi\", \"Kazuha\", \"Rook Hunt\", \"Rinne Amagi\"]\n",
    "    # replace the names above with your choice of people in the house\n",
    "    i = 0 # index is 0 (empty)\n",
    "    zombie = 0 # a zombie is a 0\n",
    "    alive = 1 # an alive person is a 1\n",
    "    resultList = {} # empty list for the results\n",
    "    for b in binary:\n",
    "        person = survivorstatus[i] # sets a person equal to a survivor status\n",
    "        if b == '0': # if a person's status is 0 , they are a zombie, if not, they are alive. Yippee !!\n",
    "            resultList[person]  = \"Zombie\"\n",
    "        else:\n",
    "            resultList[person] = \"Alive\"\n",
    "        i = i + 1 # each result gets appended to the list\n",
    "    print(resultList)\n",
    "    return resultList\n",
    "          \n",
    "for r in range(1):\n",
    "    ranNums = randomnum(1, 100, 8) # generates numbers from 1-100, and only 8 of them\n",
    "    binaryList = converttobin(ranNums) # the binary list is what has been given in the converttobin function\n",
    "    print(binaryList)\n",
    "    binary = random.choice(binaryList) # a random binary is chosen from the binary list\n",
    "    survivors(binary) # calls the survivors binary function to run\n"
   ]
  },
  {
   "cell_type": "markdown",
   "metadata": {},
   "source": [
    "### Hack #4 - Thinking through a problem\n",
    "- create your own simulation involving a dice roll\n",
    "- should include randomization and a function for rolling + multiple trials"
   ]
  },
  {
   "cell_type": "code",
   "execution_count": 43,
   "metadata": {},
   "outputs": [
    {
     "name": "stdout",
     "output_type": "stream",
     "text": [
      "The amount of rolls you want is: 30\n",
      "Your dice rolls are: [2, 1, 4, 5, 2, 1, 2, 3, 2, 3, 2, 1, 3, 4, 4, 3, 4, 3, 1, 6, 3, 6, 3, 6, 5, 1, 2, 4, 2, 6]\n"
     ]
    }
   ],
   "source": [
    "import random\n",
    "\n",
    "def pull():\n",
    "    roll = [] # array for each result from rolling\n",
    "    num = int(input()) # how many times the dice is rolled\n",
    "    print(\"The amount of rolls you want is:\", num) # printing number of rolls that are input\n",
    "    for n in range(num): # for the number that was put in the input, start of the for loop\n",
    "        result = random.randint(1, 6) # the results are any randomly generated number from 1 - 6\n",
    "        roll.append(result) # appends the randomly generated results to an array\n",
    "    return roll #returns function\n",
    "   \n",
    "dices = pull() # naming the function\n",
    "print(\"Your dice rolls are:\", dices) # final print of the array"
   ]
  },
  {
   "attachments": {},
   "cell_type": "markdown",
   "metadata": {},
   "source": [
    "### Hack 5 - Applying your knowledge to situation based problems\n",
    "\n",
    "Using the questions bank below, create a quiz that presents the user a random question and calculates the user's score. You can use the template below or make your own. Making your own using a loop can give you extra points. "
   ]
  },
  {
   "attachments": {},
   "cell_type": "markdown",
   "metadata": {},
   "source": [
    "1. A researcher gathers data about the effect of Advanced Placement®︎ classes on students' success in college and career, and develops a simulation to show how a sequence of AP classes affect a hypothetical student's pathway. Several school administrators are concerned that the simulation contains bias favoring high-income students, however.\n",
    "    - answer options:\n",
    "        1. The simulation is an abstraction and therefore cannot contain any bias\n",
    "        2. The simulation may accidentally contain bias due to the exclusion of details.\n",
    "        3. If the simulation is found to contain bias, then it is not possible to remove the bias from the simulation.\n",
    "        4. The only way for the simulation to be biased is if the researcher intentionally used data that favored their desired output.\n",
    "2. Jack is trying to plan his financial future using an online tool. The tool starts off by asking him to input details about his current finances and career. It then lets him choose different future scenarios, such as having children. For each scenario chosen, the tool does some calculations and outputs his projected savings at the ages of 35, 45, and 55.Would that be considered a simulation and why?\n",
    "    - answer options\n",
    "        1. No, it's not a simulation because it does not include a visualization of the results.\n",
    "        2. No, it's not a simulation because it does not include all the details of his life history and the future financial environment.\n",
    "        3. Yes, it's a simulation because it runs on a computer and includes both user input and computed output.\n",
    "        4. Yes, it's a simulation because it is an abstraction of a real world scenario that enables the drawing of inferences.\n",
    "3. Sylvia is an industrial engineer working for a sporting goods company. She is developing a baseball bat that can hit balls with higher accuracy and asks their software engineering team to develop a simulation to verify the design.Which of the following details is most important to include in this simulation?\n",
    "    - answer options\n",
    "        1. Realistic sound effects based on the material of the baseball bat and the velocity of the hit\n",
    "        2. A depiction of an audience in the stands with lifelike behavior in response to hit accuracy\n",
    "        3. Accurate accounting for the effects of wind conditions on the movement of the ball\n",
    "        4. A baseball field that is textured to differentiate between the grass and the dirt\n",
    "4. Ashlynn is an industrial engineer who is trying to design a safer parachute. She creates a computer simulation of the parachute opening at different heights and in different environmental conditions.What are advantages of running the simulation versus an actual experiment?\n",
    "    - answer options\n",
    "        1. The simulation will not contain any bias that favors one body type over another, while an experiment will be biased.\n",
    "        2. The simulation can be run more safely than an actual experiment\n",
    "        3. The simulation will accurately predict the parachute's safety level, while an experiment may be inaccurate due to faulty experimental design.\n",
    "        4. The simulation can test the parachute design in a wide range of environmental conditions that may be difficult to reliably reproduce in an experiment.\n",
    "    * this question has 2 correct answers\n",
    "5. Rinne Amagi wants to go to a casino, but Niki Shiina won't let him because he keeps wasting Niki's money, which is absolutely fair. He creates a computer simulation after much difficulty and suffering to gamble without Niki knowing, because he has an addiction. While his program is almost perfect, it lacks a good way to simulate a real casino, and the randomization is off. What are some things he could add to improve his simulation? (2 answers)\n",
    "    - Answer Options\n",
    "        1. Niki Shiina dragging him out of the casino.\n",
    "        2. A randomization function, where each result has different chances to appear based on a percentage.\n",
    "        3. More items of different categories/ranks to make a bigger randomized simulation.\n",
    "        4. Throw his computer against a wall and cry because he's weak.\n",
    "6. Scaramouche has spent years trying to overthrow the Raiden Shogun, but to no avail. He is unfortunately the same element she is, and immunity is evil. He creates a simulation to determine what stance he should take to fight her, but thinks it's not close enough to reality. What could he add to his simulation to make it more realistic?\n",
    "    - Answer Options\n",
    "        1. The Raiden Shogun's personal fox maiden.\n",
    "        2. He should take into account whether the Shogun is injured or not.\n",
    "        3. He should take the weather into account.\n",
    "        4. He should consider his life choices and have an existencial breakdown."
   ]
  },
  {
   "cell_type": "code",
   "execution_count": 73,
   "metadata": {},
   "outputs": [
    {
     "name": "stdout",
     "output_type": "stream",
     "text": [
      "[\"Scaramouche has spent years trying to overthrow the Raiden Shogun, but to no avail. He is unfortunately the same element she is, and immunity is evil. He creates a simulation to determine what stance he should take to fight her, but thinks it's not close enough to reality. What could he add to his simulation to make it more realistic?\"]\n",
      "[['The simulation is an abstraction and therefore cannot contain any bias.', 'The simulation may accidentally contain bias due to the exclusion of details.', 'If the simulation is found to contain bias, then it is not possible to remove the bias from the simulation.', 'The only way for the simulation to be biased is if the researcher intentionally used data that favored their desired output.'], [\"No, it's not a simulation because it does not include a visualization of the results.\", \"No, it's not a simulation because it does not include all the details of his life history and the future financial environment.\", \"Yes, it's a simulation because it runs on a computer and includes both user input and computed output.\", \"Yes, it's a simulation because it is an abstraction of a real world scenario that enables the drawing of inferences.\"], ['Realistic sound effects based on the material of the baseball bat and the velocity of the hit.', 'A depiction of an audience in the stands with lifelike behavior in response to hit accuracy.', 'Accurate accounting for the effects of wind conditions on the movement of the ball.', 'A baseball field that is textured to differentiate between the grass and the dirt.'], ['The simulation will not contain any bias that favors one body type over another, while an experiment will be biased.', 'The simulation can be run more safely than an actual experiment', \"The simulation will accurately predict the parachute's safety level, while an experiment may be inaccurate due to faulty experimental design.\", 'The simulation can test the parachute design in a wide range of environmental conditions that may be difficult to reliably reproduce in an experiment.'], ['Niki Shiina dragging him out of the casino.', 'A randomization function, where each result has different chances to appear based on a percentage.', 'More items of different categories/ranks to make a bigger randomized simulation.', \"Throw his computer against a wall and cry because he's weak.\"], [\"The Raiden Shogun's personal fox maiden.\", 'He should take into account whether the Shogun is injured or not.', 'He should take the weather into account.', 'He should consider his life choices and have an existencial breakdown.']]\n",
      "\n",
      "[0]\n",
      "Incorrect.\n",
      "[\"Scaramouche has spent years trying to overthrow the Raiden Shogun, but to no avail. He is unfortunately the same element she is, and immunity is evil. He creates a simulation to determine what stance he should take to fight her, but thinks it's not close enough to reality. What could he add to his simulation to make it more realistic?\"]\n",
      "[['The simulation is an abstraction and therefore cannot contain any bias.', 'The simulation may accidentally contain bias due to the exclusion of details.', 'If the simulation is found to contain bias, then it is not possible to remove the bias from the simulation.', 'The only way for the simulation to be biased is if the researcher intentionally used data that favored their desired output.'], [\"No, it's not a simulation because it does not include a visualization of the results.\", \"No, it's not a simulation because it does not include all the details of his life history and the future financial environment.\", \"Yes, it's a simulation because it runs on a computer and includes both user input and computed output.\", \"Yes, it's a simulation because it is an abstraction of a real world scenario that enables the drawing of inferences.\"], ['Realistic sound effects based on the material of the baseball bat and the velocity of the hit.', 'A depiction of an audience in the stands with lifelike behavior in response to hit accuracy.', 'Accurate accounting for the effects of wind conditions on the movement of the ball.', 'A baseball field that is textured to differentiate between the grass and the dirt.'], ['The simulation will not contain any bias that favors one body type over another, while an experiment will be biased.', 'The simulation can be run more safely than an actual experiment', \"The simulation will accurately predict the parachute's safety level, while an experiment may be inaccurate due to faulty experimental design.\", 'The simulation can test the parachute design in a wide range of environmental conditions that may be difficult to reliably reproduce in an experiment.'], ['Niki Shiina dragging him out of the casino.', 'A randomization function, where each result has different chances to appear based on a percentage.', 'More items of different categories/ranks to make a bigger randomized simulation.', \"Throw his computer against a wall and cry because he's weak.\"], [\"The Raiden Shogun's personal fox maiden.\", 'He should take into account whether the Shogun is injured or not.', 'He should take the weather into account.', 'He should consider his life choices and have an existencial breakdown.']]\n",
      "He should take the weather into account.\n",
      "[0, 1]\n",
      "Correct.\n",
      "[\"Scaramouche has spent years trying to overthrow the Raiden Shogun, but to no avail. He is unfortunately the same element she is, and immunity is evil. He creates a simulation to determine what stance he should take to fight her, but thinks it's not close enough to reality. What could he add to his simulation to make it more realistic?\"]\n",
      "[['The simulation is an abstraction and therefore cannot contain any bias.', 'The simulation may accidentally contain bias due to the exclusion of details.', 'If the simulation is found to contain bias, then it is not possible to remove the bias from the simulation.', 'The only way for the simulation to be biased is if the researcher intentionally used data that favored their desired output.'], [\"No, it's not a simulation because it does not include a visualization of the results.\", \"No, it's not a simulation because it does not include all the details of his life history and the future financial environment.\", \"Yes, it's a simulation because it runs on a computer and includes both user input and computed output.\", \"Yes, it's a simulation because it is an abstraction of a real world scenario that enables the drawing of inferences.\"], ['Realistic sound effects based on the material of the baseball bat and the velocity of the hit.', 'A depiction of an audience in the stands with lifelike behavior in response to hit accuracy.', 'Accurate accounting for the effects of wind conditions on the movement of the ball.', 'A baseball field that is textured to differentiate between the grass and the dirt.'], ['The simulation will not contain any bias that favors one body type over another, while an experiment will be biased.', 'The simulation can be run more safely than an actual experiment', \"The simulation will accurately predict the parachute's safety level, while an experiment may be inaccurate due to faulty experimental design.\", 'The simulation can test the parachute design in a wide range of environmental conditions that may be difficult to reliably reproduce in an experiment.'], ['Niki Shiina dragging him out of the casino.', 'A randomization function, where each result has different chances to appear based on a percentage.', 'More items of different categories/ranks to make a bigger randomized simulation.', \"Throw his computer against a wall and cry because he's weak.\"], [\"The Raiden Shogun's personal fox maiden.\", 'He should take into account whether the Shogun is injured or not.', 'He should take the weather into account.', 'He should consider his life choices and have an existencial breakdown.']]\n",
      "\n",
      "[0, 1, 0]\n",
      "Incorrect.\n",
      "[\"Rinne Amagi wants to go to a casino, but Niki Shiina won't let him because he keeps wasting Niki's money, which is absolutely fair. He creates a computer simulation after much difficulty and suffering to gamble without Niki knowing, because he has an addiction. While his program is almost perfect, it lacks a good way to simulate a real casino, and the randomization is off. What are some things he could add to improve his simulation? (2 answers)\"]\n",
      "[['The simulation is an abstraction and therefore cannot contain any bias.', 'The simulation may accidentally contain bias due to the exclusion of details.', 'If the simulation is found to contain bias, then it is not possible to remove the bias from the simulation.', 'The only way for the simulation to be biased is if the researcher intentionally used data that favored their desired output.'], [\"No, it's not a simulation because it does not include a visualization of the results.\", \"No, it's not a simulation because it does not include all the details of his life history and the future financial environment.\", \"Yes, it's a simulation because it runs on a computer and includes both user input and computed output.\", \"Yes, it's a simulation because it is an abstraction of a real world scenario that enables the drawing of inferences.\"], ['Realistic sound effects based on the material of the baseball bat and the velocity of the hit.', 'A depiction of an audience in the stands with lifelike behavior in response to hit accuracy.', 'Accurate accounting for the effects of wind conditions on the movement of the ball.', 'A baseball field that is textured to differentiate between the grass and the dirt.'], ['The simulation will not contain any bias that favors one body type over another, while an experiment will be biased.', 'The simulation can be run more safely than an actual experiment', \"The simulation will accurately predict the parachute's safety level, while an experiment may be inaccurate due to faulty experimental design.\", 'The simulation can test the parachute design in a wide range of environmental conditions that may be difficult to reliably reproduce in an experiment.'], ['Niki Shiina dragging him out of the casino.', 'A randomization function, where each result has different chances to appear based on a percentage.', 'More items of different categories/ranks to make a bigger randomized simulation.', \"Throw his computer against a wall and cry because he's weak.\"], [\"The Raiden Shogun's personal fox maiden.\", 'He should take into account whether the Shogun is injured or not.', 'He should take the weather into account.', 'He should consider his life choices and have an existencial breakdown.']]\n",
      "\n",
      "[0, 1, 0, 0]\n",
      "Incorrect.\n",
      "['Ashlynn is an industrial engineer who is trying to design a safer parachute. She creates a computer simulation of the parachute opening at different heights and in different environmental conditions.What are advantages of running the simulation versus an actual experiment?']\n",
      "[['The simulation is an abstraction and therefore cannot contain any bias.', 'The simulation may accidentally contain bias due to the exclusion of details.', 'If the simulation is found to contain bias, then it is not possible to remove the bias from the simulation.', 'The only way for the simulation to be biased is if the researcher intentionally used data that favored their desired output.'], [\"No, it's not a simulation because it does not include a visualization of the results.\", \"No, it's not a simulation because it does not include all the details of his life history and the future financial environment.\", \"Yes, it's a simulation because it runs on a computer and includes both user input and computed output.\", \"Yes, it's a simulation because it is an abstraction of a real world scenario that enables the drawing of inferences.\"], ['Realistic sound effects based on the material of the baseball bat and the velocity of the hit.', 'A depiction of an audience in the stands with lifelike behavior in response to hit accuracy.', 'Accurate accounting for the effects of wind conditions on the movement of the ball.', 'A baseball field that is textured to differentiate between the grass and the dirt.'], ['The simulation will not contain any bias that favors one body type over another, while an experiment will be biased.', 'The simulation can be run more safely than an actual experiment', \"The simulation will accurately predict the parachute's safety level, while an experiment may be inaccurate due to faulty experimental design.\", 'The simulation can test the parachute design in a wide range of environmental conditions that may be difficult to reliably reproduce in an experiment.'], ['Niki Shiina dragging him out of the casino.', 'A randomization function, where each result has different chances to appear based on a percentage.', 'More items of different categories/ranks to make a bigger randomized simulation.', \"Throw his computer against a wall and cry because he's weak.\"], [\"The Raiden Shogun's personal fox maiden.\", 'He should take into account whether the Shogun is injured or not.', 'He should take the weather into account.', 'He should consider his life choices and have an existencial breakdown.']]\n",
      "\n",
      "[0, 1, 0, 0, 0]\n",
      "Incorrect.\n",
      "[\"Rinne Amagi wants to go to a casino, but Niki Shiina won't let him because he keeps wasting Niki's money, which is absolutely fair. He creates a computer simulation after much difficulty and suffering to gamble without Niki knowing, because he has an addiction. While his program is almost perfect, it lacks a good way to simulate a real casino, and the randomization is off. What are some things he could add to improve his simulation? (2 answers)\"]\n",
      "[['The simulation is an abstraction and therefore cannot contain any bias.', 'The simulation may accidentally contain bias due to the exclusion of details.', 'If the simulation is found to contain bias, then it is not possible to remove the bias from the simulation.', 'The only way for the simulation to be biased is if the researcher intentionally used data that favored their desired output.'], [\"No, it's not a simulation because it does not include a visualization of the results.\", \"No, it's not a simulation because it does not include all the details of his life history and the future financial environment.\", \"Yes, it's a simulation because it runs on a computer and includes both user input and computed output.\", \"Yes, it's a simulation because it is an abstraction of a real world scenario that enables the drawing of inferences.\"], ['Realistic sound effects based on the material of the baseball bat and the velocity of the hit.', 'A depiction of an audience in the stands with lifelike behavior in response to hit accuracy.', 'Accurate accounting for the effects of wind conditions on the movement of the ball.', 'A baseball field that is textured to differentiate between the grass and the dirt.'], ['The simulation will not contain any bias that favors one body type over another, while an experiment will be biased.', 'The simulation can be run more safely than an actual experiment', \"The simulation will accurately predict the parachute's safety level, while an experiment may be inaccurate due to faulty experimental design.\", 'The simulation can test the parachute design in a wide range of environmental conditions that may be difficult to reliably reproduce in an experiment.'], ['Niki Shiina dragging him out of the casino.', 'A randomization function, where each result has different chances to appear based on a percentage.', 'More items of different categories/ranks to make a bigger randomized simulation.', \"Throw his computer against a wall and cry because he's weak.\"], [\"The Raiden Shogun's personal fox maiden.\", 'He should take into account whether the Shogun is injured or not.', 'He should take the weather into account.', 'He should consider his life choices and have an existencial breakdown.']]\n",
      "\n",
      "[0, 1, 0, 0, 0, 0]\n",
      "Incorrect.\n",
      "[\"A researcher gathers data about the effect of Advanced Placement classes on students' success in college and career, and develops a simulation to show how a sequence of AP classes affect a hypothetical student's pathway. Several school administrators are concerned that the simulation contains bias favoring high-income students, however.\"]\n",
      "[['The simulation is an abstraction and therefore cannot contain any bias.', 'The simulation may accidentally contain bias due to the exclusion of details.', 'If the simulation is found to contain bias, then it is not possible to remove the bias from the simulation.', 'The only way for the simulation to be biased is if the researcher intentionally used data that favored their desired output.'], [\"No, it's not a simulation because it does not include a visualization of the results.\", \"No, it's not a simulation because it does not include all the details of his life history and the future financial environment.\", \"Yes, it's a simulation because it runs on a computer and includes both user input and computed output.\", \"Yes, it's a simulation because it is an abstraction of a real world scenario that enables the drawing of inferences.\"], ['Realistic sound effects based on the material of the baseball bat and the velocity of the hit.', 'A depiction of an audience in the stands with lifelike behavior in response to hit accuracy.', 'Accurate accounting for the effects of wind conditions on the movement of the ball.', 'A baseball field that is textured to differentiate between the grass and the dirt.'], ['The simulation will not contain any bias that favors one body type over another, while an experiment will be biased.', 'The simulation can be run more safely than an actual experiment', \"The simulation will accurately predict the parachute's safety level, while an experiment may be inaccurate due to faulty experimental design.\", 'The simulation can test the parachute design in a wide range of environmental conditions that may be difficult to reliably reproduce in an experiment.'], ['Niki Shiina dragging him out of the casino.', 'A randomization function, where each result has different chances to appear based on a percentage.', 'More items of different categories/ranks to make a bigger randomized simulation.', \"Throw his computer against a wall and cry because he's weak.\"], [\"The Raiden Shogun's personal fox maiden.\", 'He should take into account whether the Shogun is injured or not.', 'He should take the weather into account.', 'He should consider his life choices and have an existencial breakdown.']]\n",
      "\n",
      "[0, 1, 0, 0, 0, 0, 0]\n",
      "Incorrect.\n",
      "Your final score is: 1\n"
     ]
    }
   ],
   "source": [
    "questions = 6\n",
    "correct = 0\n",
    "\n",
    "import random\n",
    "\n",
    "questions_list = [\n",
    "    #questions\n",
    "    [\"A researcher gathers data about the effect of Advanced Placement classes on students' success in college and career, and develops a simulation to show how a sequence of AP classes affect a hypothetical student's pathway. Several school administrators are concerned that the simulation contains bias favoring high-income students, however.\"],\n",
    "    [\"Jack is trying to plan his financial future using an online tool. The tool starts off by asking him to input details about his current finances and career. It then lets him choose different future scenarios, such as having children. For each scenario chosen, the tool does some calculations and outputs his projected savings at the ages of 35, 45, and 55.Would that be considered a simulation and why?\"],\n",
    "    [\"Sylvia is an industrial engineer working for a sporting goods company. She is developing a baseball bat that can hit balls with higher accuracy and asks their software engineering team to develop a simulation to verify the design.Which of the following details is most important to include in this simulation?\"],\n",
    "    [\"Ashlynn is an industrial engineer who is trying to design a safer parachute. She creates a computer simulation of the parachute opening at different heights and in different environmental conditions.What are advantages of running the simulation versus an actual experiment?\"],\n",
    "    [\"Rinne Amagi wants to go to a casino, but Niki Shiina won't let him because he keeps wasting Niki's money, which is absolutely fair. He creates a computer simulation after much difficulty and suffering to gamble without Niki knowing, because he has an addiction. While his program is almost perfect, it lacks a good way to simulate a real casino, and the randomization is off. What are some things he could add to improve his simulation? (2 answers)\"],\n",
    "    [\"Scaramouche has spent years trying to overthrow the Raiden Shogun, but to no avail. He is unfortunately the same element she is, and immunity is evil. He creates a simulation to determine what stance he should take to fight her, but thinks it's not close enough to reality. What could he add to his simulation to make it more realistic?\"],\n",
    "]\n",
    "\n",
    "correct = [ # the answers in each list that are correct\n",
    "    [\"The only way for the simulation to be biased is if the researcher intentionally used data that favored their desired output.\"], \n",
    "    [\"Yes, it's a simulation because it is an abstraction of a real world scenario that enables the drawing of inferences.\" ], \n",
    "    [\"Accurate accounting for the effects of wind conditions on the movement of the ball.\"],\n",
    "    [\"The simulation can be run more safely than an actual experiment.\",\"The simulation can test the parachute design in a wide range of environmental conditions that may be difficult to reliably reproduce in an experiment.\"],\n",
    "    [\"A randomization function, where each result has different chances to appear based on a percentage.\",\"More items of different categories/ranks to make a bigger randomized simulation.\"],\n",
    "    [\"He should take the weather into account.\"],\n",
    "]\n",
    "\n",
    "answerChoices = [ # all answer possibilities for each question\n",
    "    [\"The simulation is an abstraction and therefore cannot contain any bias.\",\"The simulation may accidentally contain bias due to the exclusion of details.\",\"If the simulation is found to contain bias, then it is not possible to remove the bias from the simulation.\", \"The only way for the simulation to be biased is if the researcher intentionally used data that favored their desired output.\"],\n",
    "    [\"No, it's not a simulation because it does not include a visualization of the results.\", \"No, it's not a simulation because it does not include all the details of his life history and the future financial environment.\",\"Yes, it's a simulation because it runs on a computer and includes both user input and computed output.\",\"Yes, it's a simulation because it is an abstraction of a real world scenario that enables the drawing of inferences.\"],\n",
    "    [\"Realistic sound effects based on the material of the baseball bat and the velocity of the hit.\",\"A depiction of an audience in the stands with lifelike behavior in response to hit accuracy.\",\"Accurate accounting for the effects of wind conditions on the movement of the ball.\",\"A baseball field that is textured to differentiate between the grass and the dirt.\"],\n",
    "    [\"The simulation will not contain any bias that favors one body type over another, while an experiment will be biased.\",\"The simulation can be run more safely than an actual experiment\",\"The simulation will accurately predict the parachute's safety level, while an experiment may be inaccurate due to faulty experimental design.\",\"The simulation can test the parachute design in a wide range of environmental conditions that may be difficult to reliably reproduce in an experiment.\"],\n",
    "    [\"Niki Shiina dragging him out of the casino.\",\"A randomization function, where each result has different chances to appear based on a percentage.\",\"More items of different categories/ranks to make a bigger randomized simulation.\",\"Throw his computer against a wall and cry because he's weak.\"],\n",
    "    [\"The Raiden Shogun's personal fox maiden.\",\"He should take into account whether the Shogun is injured or not.\",\"He should take the weather into account.\",\"He should consider his life choices and have an existencial breakdown.\"],\n",
    "]\n",
    "\n",
    "points = [] #empty string to register points\n",
    "s = \"\" # i probably don't need this list because it's in the loop anyways but i'm scared to break my code so it stays\n",
    "\n",
    "def questionloop():\n",
    "    s = \"\" # list for inputs\n",
    "    count = 0 # starts the number of answered questions at 0\n",
    "    while (s != \"quit\" and count <= 6):\n",
    "        question = random.choice(questions_list) #randomizes questions\n",
    "        print(question)\n",
    "        print(answerChoices)\n",
    "        s = input() # allows user to input answer\n",
    "        print(s)\n",
    "        if s == \"quit\": # exits the quiz\n",
    "            print(\"Quiz exited.\")\n",
    "        else:\n",
    "            answercheck(s, question)\n",
    "            count = count + 1 # adds to the question count so the loop stops when it hits 6\n",
    "    total = 0 #starts the total score at 0, adds \n",
    "    for score in points:\n",
    "        total += score\n",
    "    print(\"Your final score is:\", total)\n",
    "    \n",
    "def answercheck(s, question):\n",
    "    i = questions_list.index(question) # refers to the index of the question list\n",
    "    matchedAnswers = list(filter(lambda item: item == s, correct[i])) # Filters wrong/right, if it's not in the list it's wrong, and that makes it appear as 'empty'\n",
    "    # (Tests, basically shows the len and if the len is >1, the answer is correct) print(matchedAnswers , str(len(matchedAnswers)))\n",
    "    if (len(matchedAnswers)) >= 1: # if the length was marked as 'none' (0) in the previous line, then it's measured (using len) and marked as incorrect\n",
    "        points.append(1) # appends 1 point to the list of points\n",
    "        print (points)\n",
    "        print(\"Correct.\")\n",
    "    else:\n",
    "        points.append(0) # appends 0 points to the list of points\n",
    "        print(points)\n",
    "        print(\"Incorrect.\")\n",
    "    # function to check if the answer was correct or not\n",
    "\n",
    "questionloop()"
   ]
  },
  {
   "attachments": {},
   "cell_type": "markdown",
   "metadata": {},
   "source": [
    "### Hack #6 / Challenge - Taking real life problems and implementing them into code"
   ]
  },
  {
   "attachments": {},
   "cell_type": "markdown",
   "metadata": {},
   "source": [
    "Create your own simulation based on your experiences/knowledge!\n",
    "Be creative! Think about instances in your own life, science, puzzles that can be made into simulations\n",
    "\n",
    "Some ideas to get your brain running: A simulation that breeds two plants and tells you phenotypes of offspring, an adventure simulation..."
   ]
  },
  {
   "cell_type": "code",
   "execution_count": 71,
   "metadata": {},
   "outputs": [],
   "source": [
    "import random\n",
    "# I kinda wanted to do this but I ran out of time \n",
    "# I wanted to make a gacha simulator so just know that it will sit in this lesson like some sort of memorial. \n",
    "# Rest in peace gacha simulator. In another world I gambled using you.\n",
    "\n",
    "# 3 lists, 3 star 4star 5 star\n",
    "# randint.(0, 100), generate 10 random ints\n",
    "# if randint 0-75, print from the 3 star list, 76-99, print from the 4 star list, 100, print from the 5 star list\n"
   ]
  }
 ],
 "metadata": {
  "kernelspec": {
   "display_name": "Python 3",
   "language": "python",
   "name": "python3"
  },
  "language_info": {
   "codemirror_mode": {
    "name": "ipython",
    "version": 3
   },
   "file_extension": ".py",
   "mimetype": "text/x-python",
   "name": "python",
   "nbconvert_exporter": "python",
   "pygments_lexer": "ipython3",
   "version": "3.8.10"
  },
  "orig_nbformat": 4,
  "vscode": {
   "interpreter": {
    "hash": "916dbcbb3f70747c44a77c7bcd40155683ae19c65e1c03b4aa3499c5328201f1"
   }
  }
 },
 "nbformat": 4,
 "nbformat_minor": 2
}
