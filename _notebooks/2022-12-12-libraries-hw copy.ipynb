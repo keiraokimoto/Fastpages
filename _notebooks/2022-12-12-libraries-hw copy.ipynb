{
 "cells": [
  {
   "attachments": {},
   "cell_type": "markdown",
   "metadata": {},
   "source": [
    "# Unit 3 Sections 14-15 Homework\n",
    "> Here are the instructions for the homework for sections 14-15.\n",
    "\n",
    "- toc: true\n",
    "- comments: true\n",
    "- categories: [Week-13,Big-Idea-3]\n",
    "- image: /images/college-board-logo.png"
   ]
  },
  {
   "attachments": {},
   "cell_type": "markdown",
   "metadata": {},
   "source": [
    "Create a program that asks the user for a day and then gives them a distance in days between that day and another random day in the year. We have provided you with a possible starter, but you are welcome to change it up if you would like."
   ]
  },
  {
   "cell_type": "code",
   "execution_count": 1,
   "metadata": {},
   "outputs": [
    {
     "name": "stdout",
     "output_type": "stream",
     "text": [
      "Date range: 1900-01-01 to 2022-12-31\n",
      "1914-11-19\n",
      "\n",
      "Enter a day, month, and year in the 'dd-mm-yyyy' format or type 'quit' to quit.\n",
      "1914-11-19 is 32216 days, 0:00:00 away from 2 - 1 - 2003 .\n",
      "\n",
      "Enter a day, month, and year in the 'dd-mm-yyyy' format or type 'quit' to quit.\n",
      "Loop exited.\n"
     ]
    }
   ],
   "source": [
    "from datetime import date, timedelta, datetime\n",
    "import random\n",
    "\n",
    "minDate, maxDate = date(1900, 1, 1), date(2022, 12, 31)\n",
    "print(\"Date range: \" + str(minDate) + \" to \" + str(maxDate))\n",
    "dateDays = maxDate - minDate\n",
    "totalDays = dateDays.days\n",
    "randDay = random.randrange(totalDays)\n",
    "randDate = minDate + timedelta(days=randDay)\n",
    "print(randDate)\n",
    "\n",
    "days_dictionary = {\n",
    "    1: 31,\n",
    "    2: 28,\n",
    "    3: 31,\n",
    "    4: 30,\n",
    "    5: 31,\n",
    "    6: 30,\n",
    "    7: 31,\n",
    "    8: 31,\n",
    "    9: 30,\n",
    "    10: 31,\n",
    "    11: 30,\n",
    "    12: 31,\n",
    "}\n",
    "\n",
    "def inputDate():\n",
    "    day = \"\"\n",
    "    month = \"\"\n",
    "    year = \"\"\n",
    "    datestr = \"\"\n",
    "    quit = False\n",
    "    # while (datestr != \"quit\"):\n",
    "    while (True):\n",
    "        print(\"\\nEnter a day, month, and year in the 'dd-mm-yyyy' format or type 'quit' to quit.\")\n",
    "        # datestr = input()\n",
    "        d = input()\n",
    "        if (d == \"quit\"):\n",
    "            print (\"Loop exited.\")\n",
    "            break\n",
    "        m = input()\n",
    "        if (m == \"quit\"):\n",
    "            print (\"Loop exited.\")\n",
    "            break\n",
    "        y = input()\n",
    "        if (y == \"quit\"): \n",
    "            print (\"Loop exited.\")\n",
    "            break\n",
    "        diffDate(int(d), int(m), int(y))\n",
    "\n",
    "def diffDate(day, month, year):\n",
    "    timePass = date(year, month, day)\n",
    "    if (timePass > randDate):\n",
    "        finalTime = timePass - randDate\n",
    "    else:\n",
    "        finalTime = randDate - timePass\n",
    "    print(randDate, \"is\", finalTime, \"away from\", month,\"-\",day,\"-\",year,\".\")\n",
    "\n",
    "def diffDate2(dateStr):\n",
    "    splits = dateStr.split(\"-\")\n",
    "    day = int(splits[0])\n",
    "    print(day)\n",
    "    month = int(splits[1])\n",
    "    print(month)\n",
    "    year = int(splits[2])\n",
    "    print(year)\n",
    "    print(splits)\n",
    "    timePass = date(year, month, day)\n",
    "    if (timePass > randDate):\n",
    "        finalTime = timePass - randDate\n",
    "    else:\n",
    "        finalTime = randDate - timePass\n",
    "    print(finalTime)\n",
    "inputDate()\n",
    "\n",
    "# expected output shown below (or something similar)\n",
    "#   Input a day\n",
    "#   13\n",
    "#   Input a month\n",
    "#   7\n",
    "#   Input a year\n",
    "#   2010\n",
    "#   user day: 07/13/2010\n",
    "#   random day: 09/11/2010\n",
    "#   The number of days between the given range of dates is: 60\n"
   ]
  }
 ],
 "metadata": {
  "kernelspec": {
   "display_name": "base",
   "language": "python",
   "name": "python3"
  },
  "language_info": {
   "codemirror_mode": {
    "name": "ipython",
    "version": 3
   },
   "file_extension": ".py",
   "mimetype": "text/x-python",
   "name": "python",
   "nbconvert_exporter": "python",
   "pygments_lexer": "ipython3",
   "version": "3.9.12 (main, Apr  5 2022, 06:56:58) \n[GCC 7.5.0]"
  },
  "orig_nbformat": 4,
  "vscode": {
   "interpreter": {
    "hash": "3b85ac7d340d972d804a633b4d7865a48f85518acf1db710e8ed23047c086fd4"
   }
  }
 },
 "nbformat": 4,
 "nbformat_minor": 2
}
