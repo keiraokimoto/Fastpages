{
 "cells": [
  {
   "cell_type": "markdown",
   "metadata": {},
   "source": [
    "# AP Stats Quiz\n",
    "\n",
    "hide: true\n",
    "\n",
    "Math hard"
   ]
  },
  {
   "cell_type": "code",
   "execution_count": 18,
   "metadata": {
    "vscode": {
     "languageId": "shellscript"
    }
   },
   "outputs": [
    {
     "name": "stdout",
     "output_type": "stream",
     "text": [
      "Hello, keira running /home/keira/anaconda3/bin/python\n",
      "You will be asked 3 questions.\n",
      "Question: What is the best reason for choosing a stemplot rather than a histogram to display the distribution of a quantitative variable?\n",
      "Stemplots make it easier to determine the shape of a distribution is correct!\n",
      "Question: The scores on a statistics test had a mean of 25 and a standard deviation of 3. If a score of 28 was added to the distribution of scores, what would happen to the mean and standard deviation?\n",
      "The mean will increase, and standard deviation will decrease is correct!\n",
      "Question: There are many houses ranging from $200,000 to $500,000 in price. The few houses on the water, however, are priced up to $15 million. The distribution of house prices will be...?\n",
      "Skewed to the right is correct!\n",
      "keira you scored 3/3\n"
     ]
    }
   ],
   "source": [
    "import getpass, sys\n",
    "\n",
    "def question_with_response(prompt):\n",
    "    print(\"Question: \" + prompt)\n",
    "    msg = input()\n",
    "    return msg\n",
    "\n",
    "questions = 3\n",
    "correct = 0\n",
    "\n",
    "print('Hello, ' + getpass.getuser() + \" running \" + sys.executable)\n",
    "print(\"You will be asked \" + str(questions) + \" questions.\")\n",
    "\n",
    "rsp = question_with_response(\"What is the best reason for choosing a stemplot rather than a histogram to display the distribution of a quantitative variable?\")\n",
    "if rsp == \"Stemplots make it easier to determine the shape of a distribution\":\n",
    "    print(rsp + \" is correct!\")\n",
    "    correct += 1\n",
    "else:\n",
    "    print(rsp + \" is incorrect!\")\n",
    "\n",
    "rsp = question_with_response(\"The scores on a statistics test had a mean of 25 and a standard deviation of 3. If a score of 28 was added to the distribution of scores, what would happen to the mean and standard deviation?\")\n",
    "if rsp == \"The mean will increase, and standard deviation will decrease\":\n",
    "    print(rsp + \" is correct!\")\n",
    "    correct += 1\n",
    "else:\n",
    "    print(rsp + \" is incorrect!\")\n",
    "\n",
    "rsp = question_with_response(\"There are many houses ranging from $200,000 to $500,000 in price. The few houses on the water, however, are priced up to $15 million. The distribution of house prices will be...?\")\n",
    "if rsp == \"Skewed to the right\":\n",
    "    print(rsp + \" is correct!\")\n",
    "    correct += 1\n",
    "else:\n",
    "    print(rsp + \" is incorrect!\")\n",
    "\n",
    "print(getpass.getuser() + \" you scored \" + str(correct) +\"/\" + str(questions))"
   ]
  }
 ],
 "metadata": {
  "kernelspec": {
   "display_name": "Python 3.9.12 ('base')",
   "language": "python",
   "name": "python3"
  },
  "language_info": {
   "codemirror_mode": {
    "name": "ipython",
    "version": 3
   },
   "file_extension": ".py",
   "mimetype": "text/x-python",
   "name": "python",
   "nbconvert_exporter": "python",
   "pygments_lexer": "ipython3",
   "version": "3.9.12"
  },
  "vscode": {
   "interpreter": {
    "hash": "3b85ac7d340d972d804a633b4d7865a48f85518acf1db710e8ed23047c086fd4"
   }
  }
 },
 "nbformat": 4,
 "nbformat_minor": 2
}
