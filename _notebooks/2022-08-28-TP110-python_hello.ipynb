{
 "cells": [
  {
   "cell_type": "markdown",
   "metadata": {},
   "source": [
    "# AP Stats Quiz\n",
    "\n",
    "hide: true\n",
    "\n",
    "I'm literally about to fail this class."
   ]
  },
  {
   "cell_type": "code",
   "execution_count": 1,
   "metadata": {
    "vscode": {
     "languageId": "shellscript"
    }
   },
   "outputs": [
    {
     "name": "stdout",
     "output_type": "stream",
     "text": [
      "\n",
      "Command 'import' not found, but can be installed with:\n",
      "\n",
      "sudo apt install imagemagick-6.q16                  # version 8:6.9.10.23+dfsg-2.1ubuntu11.4, or\n",
      "sudo apt install imagemagick-6.q16hdri              # version 8:6.9.10.23+dfsg-2.1ubuntu11.4\n",
      "sudo apt install graphicsmagick-imagemagick-compat  # version 1.4+really1.3.35-1\n",
      "\n",
      "bash: syntax error near unexpected token `('\n",
      "bash: syntax error near unexpected token `\"Question: \"'\n",
      "bash: syntax error near unexpected token `('\n",
      "bash: return: msg: numeric argument required\n",
      "bash: return: can only `return' from a function or sourced script\n",
      "questions: command not found\n",
      "correct: command not found\n",
      "bash: syntax error near unexpected token `'Hello, ''\n",
      "bash: syntax error near unexpected token `\"You will be asked \"'\n",
      "bash: syntax error near unexpected token `\"Are you ready to take a test?\"'\n",
      "bash: syntax error near unexpected token `('\n",
      "bash: syntax error near unexpected token `rsp'\n",
      "correct: command not found\n",
      "else:: command not found\n",
      "bash: syntax error near unexpected token `rsp'\n",
      "bash: syntax error near unexpected token `('\n"
     ]
    }
   ],
   "source": [
    "import getpass, sys\n",
    "\n",
    "def question_with_response(prompt):\n",
    "    print(\"Question: \" + prompt)\n",
    "    msg = input()\n",
    "    return msg\n",
    "\n",
    "questions = 3\n",
    "correct = 0\n",
    "\n",
    "print('Hello, ' + getpass.getuser() + \" running \" + sys.executable)\n",
    "print(\"You will be asked \" + str(questions) + \" questions.\")\n",
    "question_and_answer(\"Are you ready to take a test?\")\n",
    "\n",
    "rsp = question_with_response(\"What is the best reason for choosing a stemplot rather than a histogram to display the distribution of a quantitative variable?\")\n",
    "if rsp == \"  Stemplots make it easier to determine the shape of a distribution\":\n",
    "    print(rsp + \" is correct!\")\n",
    "    correct += 1\n",
    "else:\n",
    "    print(rsp + \" is incorrect!\")\n",
    "\n",
    "rsp = question_with_response(\"The scores on a statistics test had a mean of 25 and a standard deviation of 3. If a score of 28 was added to the distribution of scores, what would happen to the mean and standard deviation?\n",
    "\")\n",
    "if rsp == \"The mean will increase, and standard deviation will stay the same\":\n",
    "    print(rsp + \" is correct!\")\n",
    "    correct += 1\n",
    "else:\n",
    "    print(rsp + \" is incorrect!\")\n",
    "\n",
    "rsp = question_with_response(\"There are many houses ranging from $200,000 to $500,000 in price. The few houses on the water, however, are priced up to $15 million. The distribution of house prices will be...?\")\n",
    "if rsp == \"skewed to the left\":\n",
    "    print(rsp + \" is correct!\")\n",
    "    correct += 1\n",
    "else:\n",
    "    print(rsp + \" is incorrect!\")\n",
    "\n",
    "print(getpass.getuser() + \" you scored \" + str(correct) +\"/\" + str(questions))"
   ]
  }
 ],
 "metadata": {
  "interpreter": {
   "hash": "8b82d5009c68ba5675978267e2b13a671f2a7143d61273c5a3813c97e0b2493d"
  },
  "kernelspec": {
   "display_name": "Bash",
   "language": "bash",
   "name": "bash"
  },
  "language_info": {
   "codemirror_mode": "shell",
   "file_extension": ".sh",
   "mimetype": "text/x-sh",
   "name": "bash"
  }
 },
 "nbformat": 4,
 "nbformat_minor": 2
}
