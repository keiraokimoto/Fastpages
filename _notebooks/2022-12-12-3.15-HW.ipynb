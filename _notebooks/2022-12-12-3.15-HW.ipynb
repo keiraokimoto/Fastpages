{
 "cells": [
  {
   "attachments": {},
   "cell_type": "markdown",
   "metadata": {},
   "source": [
    "# Unit 3.15 Random Values Student Copy\n",
    "> Here is our lesson about random values!\n",
    "\n",
    "- toc: true\n",
    "- comments: true\n",
    "- categories: [Week-13,Big-Idea-3]\n",
    "- image: /images/college-board-logo.png"
   ]
  },
  {
   "attachments": {},
   "cell_type": "markdown",
   "metadata": {},
   "source": [
    "Purpose/Objectives: Teach student how to implement randomness into their code to make their code simulate real life situations. \n",
    "\n",
    "In this lesson students will learn:\n",
    "- How to import random to python\n",
    "- How to use random with a list or number range \n",
    "- How to code randomness in everyday scenarios"
   ]
  },
  {
   "attachments": {},
   "cell_type": "markdown",
   "metadata": {},
   "source": [
    "ADD YOUR ADDITIONAL NOTES HERE:"
   ]
  },
  {
   "attachments": {},
   "cell_type": "markdown",
   "metadata": {},
   "source": [
    "## What are Random Values?"
   ]
  },
  {
   "attachments": {},
   "cell_type": "markdown",
   "metadata": {},
   "source": [
    "Random Values are a number generated using a large set of numbers and a mathematical algorithm which gives equal probability to all number occuring"
   ]
  },
  {
   "attachments": {},
   "cell_type": "markdown",
   "metadata": {},
   "source": [
    "Each Result from randomization is equally likely to occur\n",
    "Using random number generation in a program means each execution may produce a different result"
   ]
  },
  {
   "attachments": {},
   "cell_type": "markdown",
   "metadata": {},
   "source": [
    "What are Examples of Random outputs in the world?  Add a few you can think of. \n",
    "- Ex: Marbles\n"
   ]
  },
  {
   "attachments": {},
   "cell_type": "markdown",
   "metadata": {},
   "source": [
    "## Why do we need Random Values for code?\n",
    "Random values are good for generating random numbers, which can be used in statistics to generate randomly selected groups that eliminate bias. Random values are also good for generating urls (more specifically, urls for sites such as Youtube where each video needs a random number at the end of its address)."
   ]
  },
  {
   "attachments": {},
   "cell_type": "markdown",
   "metadata": {},
   "source": [
    "Random values can be used in coding:\n",
    "- "
   ]
  },
  {
   "cell_type": "code",
   "execution_count": 6,
   "metadata": {},
   "outputs": [
    {
     "name": "stdout",
     "output_type": "stream",
     "text": [
      "87\n"
     ]
    }
   ],
   "source": [
    "import random\n",
    "random_number = random.randint(1,100)\n",
    "print(random_number)"
   ]
  },
  {
   "cell_type": "code",
   "execution_count": 7,
   "metadata": {},
   "outputs": [
    {
     "name": "stdout",
     "output_type": "stream",
     "text": [
      "banana\n"
     ]
    }
   ],
   "source": [
    "def randomlist():\n",
    "    list = [\"apple\", \"banana\", \"cherry\", \"blueberry\"]\n",
    "    element = random.choice(list)\n",
    "    print(element)\n",
    "randomlist()"
   ]
  },
  {
   "attachments": {},
   "cell_type": "markdown",
   "metadata": {},
   "source": [
    "Real Life Examples:\n",
    "Dice Roll"
   ]
  },
  {
   "cell_type": "code",
   "execution_count": 8,
   "metadata": {},
   "outputs": [
    {
     "name": "stdout",
     "output_type": "stream",
     "text": [
      "Roll 1:4\n",
      "Roll 2:4\n",
      "Roll 3:4\n"
     ]
    }
   ],
   "source": [
    "import random\n",
    "for i in range(3):\n",
    "    roll = random.randint(1,6)\n",
    "    print(\"Roll \" + str(i + 1) + \":\" + str(roll))"
   ]
  },
  {
   "attachments": {},
   "cell_type": "markdown",
   "metadata": {},
   "source": [
    "## Challenge #1\n",
    "Write a function that will a simulate a coinflip and print the output"
   ]
  },
  {
   "cell_type": "code",
   "execution_count": 13,
   "metadata": {},
   "outputs": [
    {
     "name": "stdout",
     "output_type": "stream",
     "text": [
      "Tails\n"
     ]
    }
   ],
   "source": [
    "import random\n",
    "def coinflip():\n",
    "    flipCoin = random.choice([\"Heads\", \"Tails\"])\n",
    "    print(flipCoin)\n",
    "\n",
    "coinflip()"
   ]
  },
  {
   "attachments": {},
   "cell_type": "markdown",
   "metadata": {},
   "source": [
    "EXTRA: Create a function that will randomly select 5 playing Cards and check if the 5 cards are a Royal Flush"
   ]
  },
  {
   "cell_type": "code",
   "execution_count": null,
   "metadata": {},
   "outputs": [],
   "source": [
    "import random\n",
    "randCardList = \"\"\n",
    "\n",
    "randCardList = []\n",
    "\n",
    "def randCard(start, end, n=8): # function for generating random int\n",
    "    randCardList = []\n",
    "    for i in range(n): # in a range identified in the code\n",
    "        randCardList.append(random.random(start,end)) #randomizes random numbers\n",
    "    print (\"Randomly generated number list:\", randCardList) \n",
    "    return randCardList\n",
    "\n",
    "if randCardList = ?????\n",
    "    print(\"Royal Flush\")\n",
    "\n",
    "for r in range(1):\n",
    "    ranNums = randCardList(1, 100, 5) # generates numbers from 1-100, and only 8 of them\n",
    "    binary = random.choice(randCardList) # a random binary is chosen from the binary list\n"
   ]
  },
  {
   "attachments": {},
   "cell_type": "markdown",
   "metadata": {},
   "source": [
    "## Homework\n",
    "Given a random decimal number convert it into number. As extra, convert it to hexidecimal as well. "
   ]
  },
  {
   "cell_type": "code",
   "execution_count": 20,
   "metadata": {},
   "outputs": [
    {
     "name": "stdout",
     "output_type": "stream",
     "text": [
      "Randomly generated number: 36\n",
      "Randomly generated number 36 is 100100 in binary.\n"
     ]
    }
   ],
   "source": [
    "import random\n",
    "\n",
    "def printrandom(randNum):\n",
    "    randNum = random.randint(1,100)\n",
    "    print (\"Randomly generated number:\", randNum)\n",
    "    divValue = randNum\n",
    "    remainder = 1\n",
    "    binaryConv = ''\n",
    "    while divValue > 0:\n",
    "        remainder = divValue % 2\n",
    "        divValue = (int)(divValue / 2)\n",
    "        binaryConv = str(remainder) + binaryConv\n",
    "    print(\"Randomly generated number\", randNum ,\"is\", binaryConv,\"in number.\")\n",
    "    # (number converter taken from previous homework)\n",
    "printrandom(1)\n"
   ]
  }
 ],
 "metadata": {
  "kernelspec": {
   "display_name": "Python 3",
   "language": "python",
   "name": "python3"
  },
  "language_info": {
   "codemirror_mode": {
    "name": "ipython",
    "version": 3
   },
   "file_extension": ".py",
   "mimetype": "text/x-python",
   "name": "python",
   "nbconvert_exporter": "python",
   "pygments_lexer": "ipython3",
   "version": "3.8.10 (default, Jun 22 2022, 20:18:18) \n[GCC 9.4.0]"
  },
  "orig_nbformat": 4,
  "vscode": {
   "interpreter": {
    "hash": "916dbcbb3f70747c44a77c7bcd40155683ae19c65e1c03b4aa3499c5328201f1"
   }
  }
 },
 "nbformat": 4,
 "nbformat_minor": 2
}
