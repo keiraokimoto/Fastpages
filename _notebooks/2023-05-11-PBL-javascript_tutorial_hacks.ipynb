{
 "cells": [
  {
   "attachments": {},
   "cell_type": "markdown",
   "metadata": {},
   "source": [
    "# JavaScript Tutorial\n",
    "> Quick launch into Variables, Functions, Arrays, Classes, HTML."
   ]
  },
  {
   "attachments": {},
   "cell_type": "markdown",
   "metadata": {},
   "source": [
    "{% include nav_frontend.html %}"
   ]
  },
  {
   "attachments": {},
   "cell_type": "markdown",
   "metadata": {},
   "source": [
    "## JavaScript and Jupyter references\n",
    "> JavaScript is the most important language you need to learn as a frontend developer.  Jupyter Notebooks is a convenient way to learn the language without the overhead of creating a full Website.  Jupyter Notebooks had ChatGPT plugins to assist with design and troubleshooting problems.  This Notebook has colors on HTML pages that were designed with a dark mode background.\n",
    "\n",
    "- JavaScript / Jupyter General References\n",
    "    - [W3Schools JS Reference](https://www.w3schools.com/js/)\n",
    "    - ChatGPT AI assistant for [Chrome/Jupyter](https://chrome.google.com/webstore/detail/chatgpt-jupyter-ai-assist/dlipncbkjmjjdpgcnodkbdobkadiejll) \n",
    "    - Theme setup for Jupyter [Article](https://linuxhint.com/change-theme-jupyter-notebook/).  Or do these commands from shell...\n",
    "        - Install pip: pip install jupyterthemes\n",
    "        - Revert to original theme: jt -r \n",
    "        - List themes: jt -l\n",
    "        - Install with Theme, Name, Logo: jt -t onedork -T -N -kl\n",
    "    - [Chrome Dev Tools](https://developer.chrome.com/docs/devtools/)\n",
    "\n",
    "- Coding with jQuery\n",
    "    - Jupyter Notebook [GitHub](https://github.com/nighthawkcoders/APCSP/blob/master/_notebooks/2022-09-19-PBL-javascript_tutorial.ipynb), wget: https://raw.githubusercontent.com/nighthawkcoders/APCSP/master/_notebooks/2022-09-19-PBL-javascript_tutorial.ipynb\n",
    "    - Markdown [Fetch example](https://nighthawkcoders.github.io/APCSP/frontend/jquery) in GitHub project for [APCSP](https://github.com/nighthawkcoders/APCSP/blob/master/_posts/2023-06-01-jquery-sort.md)\n",
    "    - HTML [Static example](https://flask.nighthawkcodingsociety.com/table/) in GitHub project for [flask_portfolio](https://github.com/nighthawkcoders/flask_portfolio/blob/main/templates/table.html)\n",
    " \n"
   ]
  },
  {
   "attachments": {},
   "cell_type": "markdown",
   "metadata": {},
   "source": [
    "### Build a Person object and JSON\n",
    "JavaScript and other languages have special properties and syntax to store and represent data.  In fact, a class in JavaScript is a special function.\n",
    "\n",
    "- <mark>Definition of class allows for a collection of data</mark>, the \"class Person\" allows programmer to retain name, github id, and class of a Person.\n",
    "- <mark>Instance of a class</mark>, the \"const teacher = new Person(\"Mr M\", \"jm1021\", 1977)\" makes an object \"teacher\" which is an object representation of \"class Person\".\n",
    "- <mark>Setting and Getting properties</mark> After creating teacher and student objects, observe that properties can be changed/muted or extracted/accessed."
   ]
  },
  {
   "cell_type": "code",
   "execution_count": 14,
   "metadata": {
    "vscode": {
     "languageId": "javascript"
    }
   },
   "outputs": [
    {
     "data": {
      "text/html": [
       "<!-- load jQuery and tablesorter scripts -->\n",
       "<html>\n",
       "    <head>\n",
       "        <!-- load jQuery and tablesorter scripts -->\n",
       "        <script src=\"https://ajax.googleapis.com/ajax/libs/jquery/3.6.0/jquery.min.js\"></script>\n",
       "        <script src=\"https://cdnjs.cloudflare.com/ajax/libs/jquery.tablesorter/2.31.3/js/jquery.tablesorter.min.js\"></script>\n",
       "        <style>\n",
       "            /* CSS-style selector maps to table id or other id's in HTML */\n",
       "            #jsonTable, #flaskTable {\n",
       "                background-color: #353b45;\n",
       "                padding: 10px;\n",
       "                border: 3px solid #ccc;\n",
       "                box-shadow: 0.8em 0.4em 0.4em blue;\n",
       "            }\n",
       "        </style>\n",
       "    </head>\n",
       "\n",
       "    <body>\n",
       "        <!-- Table for writing and extracting jsonText -->\n",
       "        <table id=\"jsonTable\">\n",
       "            <thead>\n",
       "                <tr>\n",
       "                    <th>Question JSON Data</th>\n",
       "                </tr>\n",
       "            </thead>\n",
       "            <tbody>\n",
       "                <tr>\n",
       "                    <td id=\"jsonText\">{\"subject\":[{\"id\":\"Q\",\"question\":\"...?\",\"isImage\":\"true\",\"answer\":\"answerChoice\",\"solution\":\"solutionDescr\",\"score\": 1, \"choices\":{\"choice1\", \"choice2\", \"choice3\", \"choice4\"}}]}</td>\n",
       "                </tr>\n",
       "            </tbody>\n",
       "        </table>\n",
       "\n",
       "    </body>\n",
       "</html>\n"
      ],
      "text/plain": [
       "<IPython.core.display.HTML object>"
      ]
     },
     "metadata": {},
     "output_type": "display_data"
    }
   ],
   "source": [
    "%%html\n",
    "<!-- load jQuery and tablesorter scripts -->\n",
    "<html>\n",
    "    <head>\n",
    "        <!-- load jQuery and tablesorter scripts -->\n",
    "        <script src=\"https://ajax.googleapis.com/ajax/libs/jquery/3.6.0/jquery.min.js\"></script>\n",
    "        <script src=\"https://cdnjs.cloudflare.com/ajax/libs/jquery.tablesorter/2.31.3/js/jquery.tablesorter.min.js\"></script>\n",
    "        <style>\n",
    "            /* CSS-style selector maps to table id or other id's in HTML */\n",
    "            #jsonTable, #flaskTable {\n",
    "                background-color: #353b45;\n",
    "                padding: 10px;\n",
    "                border: 3px solid #ccc;\n",
    "                box-shadow: 0.8em 0.4em 0.4em blue;\n",
    "            }\n",
    "        </style>\n",
    "    </head>\n",
    "\n",
    "    <body>\n",
    "        <!-- Table for writing and extracting jsonText -->\n",
    "        <table id=\"jsonTable\">\n",
    "            <thead>\n",
    "                <tr>\n",
    "                    <th>Question JSON Data</th>\n",
    "                </tr>\n",
    "            </thead>\n",
    "            <tbody>\n",
    "                <tr>\n",
    "                    <td id=\"jsonText\">{\"subject\":[{\"id\":\"Q\",\"question\":\"...?\",\"isImage\":\"true\",\"answer\":\"answerChoice\",\"solution\":\"solutionDescr\",\"score\": 1, \"choices\":{\"choice1\", \"choice2\", \"choice3\", \"choice4\"}}]}</td>\n",
    "                </tr>\n",
    "            </tbody>\n",
    "        </table>\n",
    "\n",
    "    </body>\n",
    "</html>"
   ]
  },
  {
   "cell_type": "code",
   "execution_count": 15,
   "metadata": {
    "vscode": {
     "languageId": "javascript"
    }
   },
   "outputs": [
    {
     "data": {
      "application/javascript": "console.log(\"Question objects\");\n\n/* class: Question\n * Description: A collection of Person data\n*/\nclass Question {\n  /* method: constructor\n   * parameters: subject, id - id number \n   * description: returns object when \"new Question()\" is called with matching parameters\n   * assignment: this.subject, this.id, ... are properties retained in the returned object\n   * default: isImage uses a default property, it is set to \"Student\"\n  */\n  constructor(subject, id, question, isImage, answer, solution, score, choices) {\n    this.subject = subject;\n    this.id = id;\n    this.question = question;\n    this.isImage = isImage;\n    this.answer = answer;\n    this.solution = solution;\n    this.score = 1;\n    this.choices = choices;\n    \n  }\n\n  /* method: setter\n   * parameters: id - id in subject\n   * description: this.id is updated from default value to value contained in id parameter\n  */\n  setid(id) {\n    this.id = id;\n  }\n  \n  /* method: getter\n   * description: turns properties of object into JSON object\n   * return value: JSON object\n  */\n  getJSON() {\n    const obj = {subject: this.subject, id: this.id, question: this.question, isImage: this.isImage, answer = this.answer, solution: this.solution, score: this.score, choices: this.choices,};\n    const json = JSON.stringify(obj);\n    return json;\n  }\n\n  /* method: logIT\n   * description: \"this\" Question object is logged to console\n  */\n  logIt() {\n    //Question Object\n    console.info(this);\n    //Log to Jupter\n    element.append(\"Question object in JSON <br>\");\n    element.append(this.getJSON() + \"<br>\");  \n    //alert(this.getJSON());\n  }\n    \n}\n\n// make a new Question Object\nconst newQuestion = new Question(\"APStats\", \"q9\", \"questoistoin\", \"false\", \"answererer\", \"solutionsdnsj\", 1, \"choices\"); // object type is easy to work with in JavaScript\nnewQuestion.logIt();  // log to console\n",
      "text/plain": [
       "<IPython.core.display.Javascript object>"
      ]
     },
     "metadata": {},
     "output_type": "display_data"
    }
   ],
   "source": [
    "%%js\n",
    "console.log(\"Question objects\");\n",
    "\n",
    "/* class: Question\n",
    " * Description: A collection of Person data\n",
    "*/\n",
    "class Question {\n",
    "  /* method: constructor\n",
    "   * parameters: subject, id - id number \n",
    "   * description: returns object when \"new Question()\" is called with matching parameters\n",
    "   * assignment: this.subject, this.id, ... are properties retained in the returned object\n",
    "   * default: isImage uses a default property, it is set to \"Student\"\n",
    "  */\n",
    "  constructor(subject, id, question, isImage, answer, solution, score, choices) {\n",
    "    this.subject = subject;\n",
    "    this.id = id;\n",
    "    this.question = question;\n",
    "    this.isImage = isImage;\n",
    "    this.answer = answer;\n",
    "    this.solution = solution;\n",
    "    this.score = 1;\n",
    "    this.choices = choices;\n",
    "    \n",
    "  }\n",
    "\n",
    "  /* method: setter\n",
    "   * parameters: id - id in subject\n",
    "   * description: this.id is updated from default value to value contained in id parameter\n",
    "  */\n",
    "  setid(id) {\n",
    "    this.id = id;\n",
    "  }\n",
    "  \n",
    "  /* method: getter\n",
    "   * description: turns properties of object into JSON object\n",
    "   * return value: JSON object\n",
    "  */\n",
    "  getJSON() {\n",
    "    const obj = {subject: this.subject, id: this.id, question: this.question, isImage: this.isImage, answer = this.answer, solution: this.solution, score: this.score, choices: this.choices,};\n",
    "    const json = JSON.stringify(obj);\n",
    "    return json;\n",
    "  }\n",
    "\n",
    "  /* method: logIT\n",
    "   * description: \"this\" Question object is logged to console\n",
    "  */\n",
    "  logIt() {\n",
    "    //Question Object\n",
    "    console.info(this);\n",
    "    //Log to Jupter\n",
    "    element.append(\"Question object in JSON <br>\");\n",
    "    element.append(this.getJSON() + \"<br>\");  \n",
    "    //alert(this.getJSON());\n",
    "  }\n",
    "    \n",
    "}\n",
    "\n",
    "// make a new Question Object\n",
    "const newQuestion = new Question(\"APStats\", \"q9\", \"questoistoin\", \"false\", \"answererer\", \"solutionsdnsj\", 1, \"choices\"); // object type is easy to work with in JavaScript\n",
    "newQuestion.logIt();  // log to console"
   ]
  },
  {
   "attachments": {},
   "cell_type": "markdown",
   "metadata": {},
   "source": [
    "### Build a Classroom Array/List of Persons and JSON\n",
    "Many key elements are shown again.  New elements include...\n",
    "- <mark>Building an Array</mark>, \"var students\" is an array of many persons\n",
    "- Building a Classroom, this show <mark>forEach iteration</mark> through an array and <mark>.push adding</mark> to an array.  These are key concepts in all programming languages."
   ]
  },
  {
   "cell_type": "code",
   "execution_count": 16,
   "metadata": {
    "vscode": {
     "languageId": "javascript"
    }
   },
   "outputs": [
    {
     "data": {
      "application/javascript": "\nconsole.log(\"Question objects\");\n\n/* class: Question\n * Description: A collection of Person data\n*/\nclass Question {\n  /* method: constructor\n   * parameters: subject, id - id number \n   * description: returns object when \"new Question()\" is called with matching parameters\n   * assignment: this.subject, this.id, ... are properties retained in the returned object\n   * default: isImage uses a default property, it is set to \"Student\"\n  */\n  constructor(subject, id, question, isImage, answer, solution, score, choices) {\n    this.subject = subject;\n    this.id = id;\n    this.question = question;\n    this.isImage = isImage;\n    this.answer = answer;\n    this.solution = solution;\n    this.score = 1;\n    this.choices = choices;\n    \n  }\n\n  /* method: setter\n   * parameters: id - id in subject\n   * description: this.id is updated from default value to value contained in id parameter\n  */\n  setid(id) {\n    this.id = id;\n  }\n  \n  /* method: getter\n   * description: turns properties of object into JSON object\n   * return value: JSON object\n  */\n  getJSON() {\n    const obj = {subject: this.subject, id: this.id, question: this.question, isImage: this.isImage, answer = this.answer, solution: this.solution, score: this.score, choices: this.choices,};\n    const json = JSON.stringify(obj);\n    return json;\n  }\n\n  /* method: logIT\n   * description: \"this\" Question object is logged to console\n  */\n  logIt() {\n    //Question Object\n    console.info(this);\n    //Log to Jupter\n    element.append(\"Question object in JSON <br>\");\n    element.append(this.getJSON() + \"<br>\");  \n    //alert(this.getJSON());\n  }\n    \n}\n\n/* function: constructNewQuestions\n * Description: Create data for Classroom and Question objects\n * Returns: A Classroom Object\n*/\nfunction constructNewQuestions() {\n    // define a Question object\n    const newQuestion = new Question(\"APStats\", \"q9\", \"questoistoin\", \"false\", \"answererer\", \"solutionsdnsj\", 1, \"choice1\"); // object type is easy to work with in JavaScript\n\n    // define a question Array of Question objects\n    const questions = [ \n        new Question(\"APCalc\", \"q10\", \"questoistoin\", \"true\", \"answererer\", \"solutionsdnsj\", 1, \"choice1\"),\n        new Question(\"ApCalc\", \"q11\", \"questoistoin\", \"false\", \"answererer\", \"solutionsdnsj\", 1, \"choice2\",),\n        new Question(\"APPsyc\", \"q9\", \"questoistoin\", \"false\", \"answererer\", \"solutionsdnsj\", 1, \"choice1\"),\n        new Question(\"APPsyc\", \"q10\", \"questoistoin\", \"true\", \"answererer\", \"solutionsdnsj\", 1, \"choice3\"),\n        new Question(\"APStats\", \"Rebecca-123\", \"questoistoin\", \"false\", \"answererer\", \"solutionsdnsj\", 1, \"choice3\"),\n        new Question(\"ApStats\", \"VidhiKulkarni\", \"questoistoin\", \"false\", \"answererer\", \"solutionsdnsj\", 1, \"choice1\")\n    ];\n\n    // make a CompSci classroom from formerly defined teacher and student objects\n    return new Question(question);  // returns object\n}\n\n// assigns \"question\" to the object returned by \"constructNewQuestions()\" function\nconst createQuestions = constructNewQuestions();\n// output of Objects and JSON in CompSci classroom\nquestion.logIt();\n// enable sharing of data across jupyter cells\n$('#jsonText').text(question.json);  // posts/embeds/writes compsci.json to HTML DOM element called jsonText\n",
      "text/plain": [
       "<IPython.core.display.Javascript object>"
      ]
     },
     "metadata": {},
     "output_type": "display_data"
    }
   ],
   "source": [
    "%%js\n",
    "\n",
    "console.log(\"Question objects\");\n",
    "\n",
    "/* class: Question\n",
    " * Description: A collection of Person data\n",
    "*/\n",
    "class Question {\n",
    "  /* method: constructor\n",
    "   * parameters: subject, id - id number \n",
    "   * description: returns object when \"new Question()\" is called with matching parameters\n",
    "   * assignment: this.subject, this.id, ... are properties retained in the returned object\n",
    "   * default: isImage uses a default property, it is set to \"Student\"\n",
    "  */\n",
    "  constructor(subject, id, question, isImage, answer, solution, score, choices) {\n",
    "    this.subject = subject;\n",
    "    this.id = id;\n",
    "    this.question = question;\n",
    "    this.isImage = isImage;\n",
    "    this.answer = answer;\n",
    "    this.solution = solution;\n",
    "    this.score = 1;\n",
    "    this.choices = choices;\n",
    "    \n",
    "  }\n",
    "\n",
    "  /* method: setter\n",
    "   * parameters: id - id in subject\n",
    "   * description: this.id is updated from default value to value contained in id parameter\n",
    "  */\n",
    "  setid(id) {\n",
    "    this.id = id;\n",
    "  }\n",
    "  \n",
    "  /* method: getter\n",
    "   * description: turns properties of object into JSON object\n",
    "   * return value: JSON object\n",
    "  */\n",
    "  getJSON() {\n",
    "    const obj = {subject: this.subject, id: this.id, question: this.question, isImage: this.isImage, answer = this.answer, solution: this.solution, score: this.score, choices: this.choices,};\n",
    "    const json = JSON.stringify(obj);\n",
    "    return json;\n",
    "  }\n",
    "\n",
    "  /* method: logIT\n",
    "   * description: \"this\" Question object is logged to console\n",
    "  */\n",
    "  logIt() {\n",
    "    //Question Object\n",
    "    console.info(this);\n",
    "    //Log to Jupter\n",
    "    element.append(\"Question object in JSON <br>\");\n",
    "    element.append(this.getJSON() + \"<br>\");  \n",
    "    //alert(this.getJSON());\n",
    "  }\n",
    "    \n",
    "}\n",
    "\n",
    "/* function: constructNewQuestions\n",
    " * Description: Create data for Classroom and Question objects\n",
    " * Returns: A Classroom Object\n",
    "*/\n",
    "function constructNewQuestions() {\n",
    "    // define a Question object\n",
    "    const newQuestion = new Question(\"APStats\", \"q9\", \"questoistoin\", \"false\", \"answererer\", \"solutionsdnsj\", 1, \"choice1\"); // object type is easy to work with in JavaScript\n",
    "\n",
    "    // define a question Array of Question objects\n",
    "    const questions = [ \n",
    "        new Question(\"APCalc\", \"q10\", \"questoistoin\", \"true\", \"answererer\", \"solutionsdnsj\", 1, \"choice1\"),\n",
    "        new Question(\"ApCalc\", \"q11\", \"questoistoin\", \"false\", \"answererer\", \"solutionsdnsj\", 1, \"choice2\",),\n",
    "        new Question(\"APPsyc\", \"q9\", \"questoistoin\", \"false\", \"answererer\", \"solutionsdnsj\", 1, \"choice1\"),\n",
    "        new Question(\"APPsyc\", \"q10\", \"questoistoin\", \"true\", \"answererer\", \"solutionsdnsj\", 1, \"choice3\"),\n",
    "        new Question(\"APStats\", \"Rebecca-123\", \"questoistoin\", \"false\", \"answererer\", \"solutionsdnsj\", 1, \"choice3\"),\n",
    "        new Question(\"ApStats\", \"VidhiKulkarni\", \"questoistoin\", \"false\", \"answererer\", \"solutionsdnsj\", 1, \"choice1\")\n",
    "    ];\n",
    "\n",
    "    // make a CompSci classroom from formerly defined teacher and student objects\n",
    "    return new Question(question);  // returns object\n",
    "}\n",
    "\n",
    "// assigns \"question\" to the object returned by \"constructNewQuestions()\" function\n",
    "const createQuestions = constructNewQuestions();\n",
    "// output of Objects and JSON in CompSci classroom\n",
    "question.logIt();\n",
    "// enable sharing of data across jupyter cells\n",
    "$('#jsonText').text(question.json);  // posts/embeds/writes compsci.json to HTML DOM element called jsonText"
   ]
  },
  {
   "attachments": {},
   "cell_type": "markdown",
   "metadata": {},
   "source": [
    "###  for loop to generate Table Rows in HTML output\n",
    "This code extracts JSON text from HTML, that was placed in DOM in an earlier JavaScript cell, then it parses text into a JavaScript object.  In addition, there is a for loop that iterates over the extracted object generating formated rows and columns in an HTML table.\n",
    "\n",
    "- Table generation is broken into parts...\n",
    "    - table data is obtained from a classroom array inside of the extracted object.  \n",
    "    - the JavaScript for loop allows the construction of a new row of data for each Person hash object inside of the the Array.\n",
    "    - in the loop a table row `<tr> ... </tr>` is created for each Hash object in the Array.\n",
    "    - in the loop table data, a table column, `<td> ... </td>` is created for name, ghID, question, and role within the Hash object."
   ]
  },
  {
   "cell_type": "code",
   "execution_count": 17,
   "metadata": {
    "vscode": {
     "languageId": "javascript"
    }
   },
   "outputs": [
    {
     "data": {
      "application/javascript": "console.log(\"Question Web Page\");\n\n// extract JSON text from HTML page\nconst jsonText = document.getElementById(\"jsonText\").innerHTML;\nconsole.log(jsonText);\nelement.append(\"Raw jsonText element embedded in HTML<br>\");\nelement.append( jsonText + \"<br>\");\n\n// convert JSON text to Object\nconst question = JSON.parse(jsonText).question;\nconsole.log(question);\n\n// from classroom object creates rows and columns in HTML table\nelement.append(\"<br>Formatted data sample from jsonText <br>\");\nfor (var row of question) {\n    element.append(row.id + \" \" + row.subject + '<br>');\n    // tr for each row, a new line\n    $('#question').append('<tr>')\n    // td for each column of data\n    $('#question').append('<td>' + row.subject + '</td>')\n    $('#question').append('<td>' + row.id + '</td>')\n    $('#question').append('<td>' + row.question + '</td>')\n    $('#question').append('<td>' + row.isImage + '</td>')\n    $('#question').append('<td>' + row.answer + '</td>')\n    $('#question').append('<td>' + row.solution + '</td>')\n    $('#question').append('<td>' + row.score + '</td>')\n    $('#question').append('<td>' + row.choices + '</td>')\n    // tr to end row\n    $('#question').append('</tr>');\n}\n",
      "text/plain": [
       "<IPython.core.display.Javascript object>"
      ]
     },
     "metadata": {},
     "output_type": "display_data"
    }
   ],
   "source": [
    "%%js\n",
    "console.log(\"Question Web Page\");\n",
    "\n",
    "// extract JSON text from HTML page\n",
    "const jsonText = document.getElementById(\"jsonText\").innerHTML;\n",
    "console.log(jsonText);\n",
    "element.append(\"Raw jsonText element embedded in HTML<br>\");\n",
    "element.append( jsonText + \"<br>\");\n",
    "\n",
    "// convert JSON text to Object\n",
    "const question = JSON.parse(jsonText).question;\n",
    "console.log(question);\n",
    "\n",
    "// from classroom object creates rows and columns in HTML table\n",
    "element.append(\"<br>Formatted data sample from jsonText <br>\");\n",
    "for (var row of question) {\n",
    "    element.append(row.id + \" \" + row.subject + '<br>');\n",
    "    // tr for each row, a new line\n",
    "    $('#question').append('<tr>')\n",
    "    // td for each column of data\n",
    "    $('#question').append('<td>' + row.subject + '</td>')\n",
    "    $('#question').append('<td>' + row.id + '</td>')\n",
    "    $('#question').append('<td>' + row.question + '</td>')\n",
    "    $('#question').append('<td>' + row.isImage + '</td>')\n",
    "    $('#question').append('<td>' + row.answer + '</td>')\n",
    "    $('#question').append('<td>' + row.solution + '</td>')\n",
    "    $('#question').append('<td>' + row.score + '</td>')\n",
    "    $('#question').append('<td>' + row.choices + '</td>')\n",
    "    // tr to end row\n",
    "    $('#question').append('</tr>');\n",
    "}"
   ]
  },
  {
   "cell_type": "code",
   "execution_count": 21,
   "metadata": {},
   "outputs": [
    {
     "name": "stdout",
     "output_type": "stream",
     "text": [
      "['Q1', 'Q2', 'Q3', 'Q4', 'Q5']\n"
     ]
    }
   ],
   "source": [
    "def sortQuestions(id):\n",
    "    n = len(id)\n",
    "    for i in range(n):\n",
    "        min_index = i\n",
    "        for j in range(i + 1, n):\n",
    "            if id[j] < id[min_index]:\n",
    "                min_index = j\n",
    "        id[i], id[min_index] = id[min_index], id[i]\n",
    "\n",
    "# Test the selection sort\n",
    "id = \n",
    "sortQuestions(id)\n",
    "print(id)"
   ]
  },
  {
   "cell_type": "code",
   "execution_count": 18,
   "metadata": {
    "vscode": {
     "languageId": "javascript"
    }
   },
   "outputs": [
    {
     "data": {
      "text/html": [
       "<head>\n",
       "    <!-- load jQuery and DataTables syle and scripts -->\n",
       "    <link rel=\"stylesheet\" type=\"text/css\" href=\"https://cdn.datatables.net/1.10.25/css/jquery.dataTables.min.css\">\n",
       "    <script type=\"text/javascript\" language=\"javascript\" src=\"https://code.jquery.com/jquery-3.6.0.min.js\"></script>\n",
       "    <script type=\"text/javascript\" language=\"javascript\" src=\"https://cdn.datatables.net/1.10.25/js/jquery.dataTables.min.js\"></script>\n",
       "</head>\n",
       "<table id=\"flaskTable\" class=\"table\" style=\"width:100%\">\n",
       "    <thead id=\"flaskHead\">\n",
       "        <tr>\n",
       "            <th>Subject</th>\n",
       "            <th>ID</th>\n",
       "            <th>Question</th>\n",
       "            <th>Answer</th>\n",
       "        </tr>\n",
       "    </thead>\n",
       "    <tbody id=\"flaskBody\"></tbody>\n",
       "</table>\n",
       "\n",
       "\n",
       "\n",
       "<script>\n",
       "  $(document).ready(function() {\n",
       "  subj = 'Physics';\n",
       "  totalQs=10;\n",
       "  const fetchQuizUrl = `/${subj}/${totalQs}`;\n",
       "  fetch('http://localhost:5000/api/quiz'+fetchQuizUrl, { mode: 'cors' })\n",
       "    .then(response => {\n",
       "      if (!response.ok) {\n",
       "        throw new Error('API response failed');\n",
       "      }\n",
       "      return response.json();\n",
       "    })\n",
       "    .then(data => {\n",
       "      for (const row of data) {\n",
       "        // BUG warning/resolution - DataTable requires row to be single append\n",
       "        $('#flaskBody').append('<tr><td>' + \n",
       "            subj + '</td><td>' + \n",
       "            row.id + '</td><td>' + \n",
       "            row.question + '</td><td>' + \n",
       "            row.answer + '</td></tr>');\n",
       "      }\n",
       "      // BUG warning - Jupyter does not show Datatable controls, works on deployed GitHub pages\n",
       "      $(\"#flaskTable\").DataTable();\n",
       "    })\n",
       "    .catch(error => {\n",
       "      console.error('Error:', error);\n",
       "    });\n",
       "  });\n",
       "</script>\n"
      ],
      "text/plain": [
       "<IPython.core.display.HTML object>"
      ]
     },
     "metadata": {},
     "output_type": "display_data"
    }
   ],
   "source": [
    "%%html\n",
    "<head>\n",
    "    <!-- load jQuery and DataTables syle and scripts -->\n",
    "    <link rel=\"stylesheet\" type=\"text/css\" href=\"https://cdn.datatables.net/1.10.25/css/jquery.dataTables.min.css\">\n",
    "    <script type=\"text/javascript\" language=\"javascript\" src=\"https://code.jquery.com/jquery-3.6.0.min.js\"></script>\n",
    "    <script type=\"text/javascript\" language=\"javascript\" src=\"https://cdn.datatables.net/1.10.25/js/jquery.dataTables.min.js\"></script>\n",
    "</head>\n",
    "<table id=\"flaskTable\" class=\"table\" style=\"width:100%\">\n",
    "    <thead id=\"flaskHead\">\n",
    "        <tr>\n",
    "            <th>Subject</th>\n",
    "            <th>ID</th>\n",
    "            <th>Question</th>\n",
    "            <th>Answer</th>\n",
    "        </tr>\n",
    "    </thead>\n",
    "    <tbody id=\"flaskBody\"></tbody>\n",
    "</table>\n",
    "\n",
    "\n",
    "\n",
    "<script>\n",
    "  $(document).ready(function() {\n",
    "  subj = 'Physics';\n",
    "  totalQs=10;\n",
    "  const fetchQuizUrl = `/${subj}/${totalQs}`;\n",
    "  fetch('http://localhost:5000/api/quiz'+fetchQuizUrl, { mode: 'cors' })\n",
    "    .then(response => {\n",
    "      if (!response.ok) {\n",
    "        throw new Error('API response failed');\n",
    "      }\n",
    "      return response.json();\n",
    "    })\n",
    "    .then(data => {\n",
    "      for (const row of data) {\n",
    "        // BUG warning/resolution - DataTable requires row to be single append\n",
    "        $('#flaskBody').append('<tr><td>' + \n",
    "            subj + '</td><td>' + \n",
    "            row.id + '</td><td>' + \n",
    "            row.question + '</td><td>' + \n",
    "            row.answer + '</td></tr>');\n",
    "      }\n",
    "      // BUG warning - Jupyter does not show Datatable controls, works on deployed GitHub pages\n",
    "      $(\"#flaskTable\").DataTable();\n",
    "    })\n",
    "    .catch(error => {\n",
    "      console.error('Error:', error);\n",
    "    });\n",
    "  });\n",
    "</script>"
   ]
  },
  {
   "attachments": {},
   "cell_type": "markdown",
   "metadata": {},
   "source": [
    "## Hacks\n",
    "> One key to these hacks is to build confidence with me going into final grade, I would like to see each student adapt this frontend work in their final project.  Second key is the finished work can serve as review for the course, notes for the future in relationship to frontend.\n",
    "- Adapt this tutorial to your own work\n",
    "- Consider what you need to work on to be stronger developer\n",
    "- Show something creative or unique, no cloning\n",
    "- Be ready to talk to Teacher for 5 to 10 minutes. Individually!!!\n",
    "- Show in Jupyter Notebook during discussion, show Theme and ChatGPT\n",
    "- Have a runtime final in GithHub Pages (or Fastpage)"
   ]
  }
 ],
 "metadata": {
  "kernelspec": {
   "display_name": "base",
   "language": "python",
   "name": "python3"
  },
  "language_info": {
   "codemirror_mode": {
    "name": "ipython",
    "version": 3
   },
   "file_extension": ".py",
   "mimetype": "text/x-python",
   "name": "python",
   "nbconvert_exporter": "python",
   "pygments_lexer": "ipython3",
   "version": "3.9.12"
  }
 },
 "nbformat": 4,
 "nbformat_minor": 2
}
