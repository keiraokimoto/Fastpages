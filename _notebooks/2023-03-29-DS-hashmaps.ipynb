{
 "cells": [
  {
   "attachments": {},
   "cell_type": "markdown",
   "metadata": {},
   "source": [
    "#  Data Structures- Hashmaps, Sets, Hash Tables, Hashing and Collisions\n",
    "> Observing hashmaps with python dictionaries\n",
    "- toc: true"
   ]
  },
  {
   "attachments": {},
   "cell_type": "markdown",
   "metadata": {},
   "source": [
    "## What is a Hashtable/Hashmap?\n",
    "\n",
    "A hashtable is a data structure that with a collection of key-value pairs, where each key maps to a value, and the keys must be unique and hashable.\n",
    "\n",
    "- In Python there is a built in hashtable known as a dictionary.\n",
    "\n",
    "The primary purpose of a hashtable is to provide efficient lookup, insertion, and deletion operations. When an element is to be inserted into the hashtable, a hash function is used to map the key to a specific index in the underlying array that is used to store the key-value pairs. The value is then stored at that index. When searching for a value, the hash function is used again to find the index where the value is stored.\n",
    "\n",
    "The key advantage of a hashtable over other data structures like arrays and linked lists is its average-case time complexity for lookup, insertion, and deletion operations.\n",
    "\n",
    "- The typical time complexity of a hashtable is O(1). \n"
   ]
  },
  {
   "attachments": {},
   "cell_type": "markdown",
   "metadata": {},
   "source": [
    "## What is Hashing and Collision?\n",
    "\n",
    "Hashing is the process of mapping a given key to a value in a hash table or hashmap, using a hash function. The hash function takes the key as input and produces a hash value or hash code, which is then used to determine the index in the underlying array where the value is stored. The purpose of hashing is to provide a quick and efficient way to access data, by eliminating the need to search through an entire data structure to find a value.\n",
    "\n",
    "However, it is possible for two different keys to map to the same hash value, resulting in a collision. When a collision occurs, there are different ways to resolve it, depending on the collision resolution strategy used.\n",
    "\n",
    "Python's dictionary implementation is optimized to handle collisions efficiently, and the performance of the dictionary is generally very good, even in the presence of collisions. However, if the number of collisions is very high, the performance of the dictionary can degrade, so it is important to choose a good hash function that minimizes collisions when designing a Python dictionary.\n",
    "\n",
    "## What is a Set?"
   ]
  },
  {
   "cell_type": "code",
   "execution_count": 16,
   "metadata": {},
   "outputs": [
    {
     "name": "stdout",
     "output_type": "stream",
     "text": [
      "{1, 2, 3}\n"
     ]
    }
   ],
   "source": [
    "# Creating a set using set() function\n",
    "my_set = set([1, 2, 3, 2, 1])\n",
    "print(my_set)  \n",
    "\n",
    "# What do you notice in the output?\n",
    "# - Only one of each number is printed (there is only one 1, only one 2, etc.)\n",
    "# - It is printed in order, from least to greatest\n",
    "\n",
    "# Why do you think Sets are in the same tech talk as Hashmaps/Hashtables?\n",
    "# - Sets are also a sort of array, which Hashmaps/Hashtables are\n",
    "# - The two are very similar, except sets don't have as many features as Hashmaps or Hashtables do"
   ]
  },
  {
   "cell_type": "code",
   "execution_count": 17,
   "metadata": {},
   "outputs": [
    {
     "name": "stdout",
     "output_type": "stream",
     "text": [
      "{'title': 'Lover', 'artist': 'Taylor Swift', 'year': 2019, 'genre': ['Pop', 'Synth-pop'], 'tracks': {1: 'I Forgot That You Existed', 2: 'Cruel Summer', 3: 'Lover', 4: 'The Man', 5: 'The Archer', 6: 'I Think He Knows', 7: 'Miss Americana & The Heartbreak Prince', 8: 'Paper Rings', 9: 'Cornelia Street', 10: 'Death By A Thousand Cuts', 11: 'London Boy', 12: \"Soon You'll Get Better (feat. Dixie Chicks)\", 13: 'False God', 14: 'You Need To Calm Down', 15: 'Afterglow', 16: 'Me! (feat. Brendon Urie of Panic! At The Disco)', 17: \"It's Nice To Have A Friend\", 18: 'Daylight'}}\n"
     ]
    }
   ],
   "source": [
    "# Creating a dictionary with information about the album \"Lover\"\n",
    "lover_album = {\n",
    "    \"title\": \"Lover\",\n",
    "    \"artist\": \"Taylor Swift\",\n",
    "    \"year\": 2019,\n",
    "    \"genre\": [\"Pop\", \"Synth-pop\"],\n",
    "    \"tracks\": {\n",
    "        1: \"I Forgot That You Existed\",\n",
    "        2: \"Cruel Summer\",\n",
    "        3: \"Lover\",\n",
    "        4: \"The Man\",\n",
    "        5: \"The Archer\",\n",
    "        6: \"I Think He Knows\",\n",
    "        7: \"Miss Americana & The Heartbreak Prince\",\n",
    "        8: \"Paper Rings\",\n",
    "        9: \"Cornelia Street\",\n",
    "        10: \"Death By A Thousand Cuts\",\n",
    "        11: \"London Boy\",\n",
    "        12: \"Soon You'll Get Better (feat. Dixie Chicks)\",\n",
    "        13: \"False God\",\n",
    "        14: \"You Need To Calm Down\",\n",
    "        15: \"Afterglow\",\n",
    "        16: \"Me! (feat. Brendon Urie of Panic! At The Disco)\",\n",
    "        17: \"It's Nice To Have A Friend\",\n",
    "        18: \"Daylight\"\n",
    "    }\n",
    "}\n",
    "\n",
    "# Printing the dictionary\n",
    "print(lover_album)"
   ]
  },
  {
   "cell_type": "code",
   "execution_count": 9,
   "metadata": {},
   "outputs": [
    {
     "name": "stdout",
     "output_type": "stream",
     "text": [
      "{1: 'I Forgot That You Existed', 2: 'Cruel Summer', 3: 'Lover', 4: 'The Man', 5: 'The Archer', 6: 'I Think He Knows', 7: 'Miss Americana & The Heartbreak Prince', 8: 'Paper Rings', 9: 'Cornelia Street', 10: 'Death By A Thousand Cuts', 11: 'London Boy', 12: \"Soon You'll Get Better (feat. Dixie Chicks)\", 13: 'False God', 14: 'You Need To Calm Down', 15: 'Afterglow', 16: 'Me! (feat. Brendon Urie of Panic! At The Disco)', 17: \"It's Nice To Have A Friend\", 18: 'Daylight'}\n",
      "{1: 'I Forgot That You Existed', 2: 'Cruel Summer', 3: 'Lover', 4: 'The Man', 5: 'The Archer', 6: 'I Think He Knows', 7: 'Miss Americana & The Heartbreak Prince', 8: 'Paper Rings', 9: 'Cornelia Street', 10: 'Death By A Thousand Cuts', 11: 'London Boy', 12: \"Soon You'll Get Better (feat. Dixie Chicks)\", 13: 'False God', 14: 'You Need To Calm Down', 15: 'Afterglow', 16: 'Me! (feat. Brendon Urie of Panic! At The Disco)', 17: \"It's Nice To Have A Friend\", 18: 'Daylight'}\n"
     ]
    }
   ],
   "source": [
    "# Retrieve value from dictionary with key\n",
    "print(lover_album.get('tracks'))\n",
    "# or\n",
    "print(lover_album['tracks'])\n",
    "\n",
    "# Again, could be printed in a better way"
   ]
  },
  {
   "cell_type": "code",
   "execution_count": 10,
   "metadata": {},
   "outputs": [
    {
     "name": "stdout",
     "output_type": "stream",
     "text": [
      "The Man\n",
      "The Man\n"
     ]
    }
   ],
   "source": [
    "# Retrieve value from a dictionary inside a dictionary\n",
    "print(lover_album.get('tracks')[4])\n",
    "# or\n",
    "print(lover_album['tracks'][4])"
   ]
  },
  {
   "cell_type": "code",
   "execution_count": 11,
   "metadata": {},
   "outputs": [
    {
     "name": "stdout",
     "output_type": "stream",
     "text": [
      "{'title': 'Lover', 'artist': 'Taylor Swift', 'year': 2019, 'genre': ['Pop', 'Synth-pop'], 'tracks': {1: 'I Forgot That You Existed', 2: 'Cruel Summer', 3: 'Lover', 4: 'The Man', 5: 'The Archer', 6: 'I Think He Knows', 7: 'Miss Americana & The Heartbreak Prince', 8: 'Paper Rings', 9: 'Cornelia Street', 10: 'Death By A Thousand Cuts', 11: 'London Boy', 12: \"Soon You'll Get Better (feat. Dixie Chicks)\", 13: 'False God', 14: 'You Need To Calm Down', 15: 'Afterglow', 16: 'Me! (feat. Brendon Urie of Panic! At The Disco)', 17: \"It's Nice To Have A Friend\", 18: 'Daylight'}, 'producer': ['Taylor Swift', 'Jack Antonoff', 'Joel Little', 'Louis Bell', 'Frank Dukes']}\n"
     ]
    }
   ],
   "source": [
    "# adding a value with a new key\n",
    "lover_album[\"producer\"] = ['Taylor Swift', 'Jack Antonoff', 'Joel Little', 'Louis Bell', 'Frank Dukes']\n",
    "# Printing the dictionary\n",
    "print(lover_album)"
   ]
  },
  {
   "cell_type": "code",
   "execution_count": 12,
   "metadata": {},
   "outputs": [
    {
     "name": "stdout",
     "output_type": "stream",
     "text": [
      "{'title': 'Lover', 'artist': 'Taylor Swift', 'year': 2019, 'genre': ['Pop', 'Synth-pop'], 'tracks': {1: 'I Forgot That You Existed', 2: 'Cruel Summer', 3: 'Lover', 4: 'The Man', 5: 'The Archer', 6: 'I Think He Knows', 7: 'Miss Americana & The Heartbreak Prince', 8: 'Paper Rings', 9: 'Cornelia Street', 10: 'Death By A Thousand Cuts', 11: 'London Boy', 12: \"Soon You'll Get Better (feat. Dixie Chicks)\", 13: 'False God', 14: 'You Need To Calm Down', 15: 'Afterglow', 16: 'Me! (feat. Brendon Urie of Panic! At The Disco)', 17: \"It's Nice To Have A Friend\", 18: 'Daylight', 19: 'All Of The Girls You Loved Before'}, 'producer': ['Taylor Swift', 'Jack Antonoff', 'Joel Little', 'Louis Bell', 'Frank Dukes']}\n",
      "{'artist': 'Taylor Swift',\n",
      " 'genre': ['Pop', 'Synth-pop'],\n",
      " 'producer': ['Taylor Swift',\n",
      "              'Jack Antonoff',\n",
      "              'Joel Little',\n",
      "              'Louis Bell',\n",
      "              'Frank Dukes'],\n",
      " 'title': 'Lover',\n",
      " 'tracks': {1: 'I Forgot That You '\n",
      "               'Existed',\n",
      "            2: 'Cruel Summer',\n",
      "            3: 'Lover',\n",
      "            4: 'The Man',\n",
      "            5: 'The Archer',\n",
      "            6: 'I Think He Knows',\n",
      "            7: 'Miss Americana & The '\n",
      "               'Heartbreak Prince',\n",
      "            8: 'Paper Rings',\n",
      "            9: 'Cornelia Street',\n",
      "            10: 'Death By A Thousand '\n",
      "                'Cuts',\n",
      "            11: 'London Boy',\n",
      "            12: \"Soon You'll Get Better \"\n",
      "                '(feat. Dixie Chicks)',\n",
      "            13: 'False God',\n",
      "            14: 'You Need To Calm Down',\n",
      "            15: 'Afterglow',\n",
      "            16: 'Me! (feat. Brendon '\n",
      "                'Urie of Panic! At The '\n",
      "                'Disco)',\n",
      "            17: \"It's Nice To Have A \"\n",
      "                'Friend',\n",
      "            18: 'Daylight',\n",
      "            19: 'All Of The Girls You '\n",
      "                'Loved Before'},\n",
      " 'year': 2019}\n"
     ]
    }
   ],
   "source": [
    "import pprint\n",
    "# Adding a 19th song to an album 4 years later \n",
    "lover_album[\"tracks\"].update({19: \"All Of The Girls You Loved Before\"})\n",
    "# Printing the dictionary\n",
    "print(lover_album)\n",
    "\n",
    "# can use pprint\n",
    "pprnt = pprint.PrettyPrinter(width=41, compact=True)\n",
    "pprnt.pprint(lover_album)"
   ]
  },
  {
   "cell_type": "code",
   "execution_count": 52,
   "metadata": {},
   "outputs": [
    {
     "name": "stdout",
     "output_type": "stream",
     "text": [
      "title: Lover\n",
      "artist: Taylor Swift\n",
      "year: 2019\n",
      "genre: ['Pop', 'Synth-pop']\n",
      "tracks: {1: 'I Forgot That You Existed', 2: 'Cruel Summer', 3: 'Lover', 4: 'The Man', 5: 'The Archer', 6: 'I Think He Knows', 7: 'Miss Americana & The Heartbreak Prince', 8: 'Paper Rings', 9: 'Cornelia Street', 10: 'Death By A Thousand Cuts', 11: 'London Boy', 12: \"Soon You'll Get Better (feat. Dixie Chicks)\", 13: 'False God', 14: 'You Need To Calm Down', 15: 'Afterglow', 16: 'Me! (feat. Brendon Urie of Panic! At The Disco)', 17: \"It's Nice To Have A Friend\", 18: 'Daylight'}\n",
      "-----------------------------------------------------\n",
      "Tracks:\n",
      "I Forgot That You Existed\n",
      "Cruel Summer\n",
      "Lover\n",
      "The Man\n",
      "The Archer\n",
      "I Think He Knows\n",
      "Miss Americana & The Heartbreak Prince\n",
      "Paper Rings\n",
      "Cornelia Street\n",
      "Death By A Thousand Cuts\n",
      "London Boy\n",
      "Soon You'll Get Better (feat. Dixie Chicks)\n",
      "False God\n",
      "You Need To Calm Down\n",
      "Afterglow\n",
      "Me! (feat. Brendon Urie of Panic! At The Disco)\n",
      "It's Nice To Have A Friend\n",
      "Daylight\n"
     ]
    }
   ],
   "source": [
    "import pprint\n",
    "\n",
    "# Print lover_album in more readable format\n",
    "for k,v in lover_album.items(): # iterate using a for loop for key and value\n",
    "    print(str(k) + \": \" + str(v))\n",
    "\n",
    "print('-----------------------------------------------------')\n",
    "print(\"Tracks:\")\n",
    "\n",
    "# Write your own code to print tracks in readable format\n",
    "for track in lover_album[\"tracks\"].values():\n",
    "    print(track)"
   ]
  },
  {
   "cell_type": "code",
   "execution_count": 53,
   "metadata": {},
   "outputs": [
    {
     "name": "stdout",
     "output_type": "stream",
     "text": [
      "{1: 'I Forgot That You Existed', 2: 'Cruel Summer', 3: 'Lover', 4: 'The Man', 5: 'The Archer', 6: 'I Think He Knows', 7: 'Miss Americana & The Heartbreak Prince', 8: 'Paper Rings', 9: 'Cornelia Street', 10: 'Death By A Thousand Cuts', 11: 'London Boy', 12: \"Soon You'll Get Better (feat. Dixie Chicks)\", 13: 'False God', 14: 'You Need To Calm Down', 15: 'Afterglow', 16: 'Me! (feat. Brendon Urie of Panic! At The Disco)', 17: \"It's Nice To Have A Friend\", 18: 'Daylight'}\n"
     ]
    }
   ],
   "source": [
    "# Using conditionals to retrieve a random song\n",
    "def search():\n",
    "    tracks = lover_album[\"tracks\"]\n",
    "    search = input(\"What would you like to know about the album?\")\n",
    "    if lover_album.get(search.lower()) == None:\n",
    "        print(\"Invalid Search\")\n",
    "    if lover_album.get(search.lower()) == \"tracks\":\n",
    "        print(lover_album.tracks)\n",
    "    else:\n",
    "        print(lover_album.get(search.lower()))\n",
    "\n",
    "search()\n",
    "\n",
    "# This is a very basic code segment, how can you improve upon this code?\n",
    "# - You could have the search also pull up tracks (added above)\n",
    "# - "
   ]
  },
  {
   "attachments": {},
   "cell_type": "markdown",
   "metadata": {},
   "source": [
    "## Hacks\n",
    "- Answer ALL questions in the code segments\n",
    "- Create a diagram or comparison illustration (Canva).\n",
    "  - What are the pro and cons of using this data structure?\n",
    "  - Dictionary vs List\n",
    "- Expand upon the code given to you, possible improvements in comments\n",
    "- Build your own album showing features of a python dictionary\n",
    "\n",
    "- For Mr. Yeung's class: Justify your favorite Taylor Swift song, answer may effect seed"
   ]
  },
  {
   "cell_type": "code",
   "execution_count": 19,
   "metadata": {},
   "outputs": [
    {
     "name": "stdout",
     "output_type": "stream",
     "text": [
      "{'artist': 'snail',\n",
      " 'genre': ['hlep', 'pelase'],\n",
      " 'title': 'cheetos',\n",
      " 'tracks': {1: 'asdjoasipko[fpl[as]]',\n",
      "            2: 'asdihajoipkof',\n",
      "            3: 'adsugyhu9i09-o-',\n",
      "            4: 'adsyaihsuoijdkoa',\n",
      "            5: '7ety8quwi9opf',\n",
      "            6: 'adshijaosdipko',\n",
      "            7: 'iadsuasjoifko',\n",
      "            8: 'asdihuasijdkop',\n",
      "            9: 'adyiuop',\n",
      "            10: 'asdugyihuijko',\n",
      "            11: 'adshiasuoji',\n",
      "            12: 'asdsiashudjio',\n",
      "            13: 'asdksfopla[f]',\n",
      "            14: 'Yoasdjokpf',\n",
      "            15: 'sdjoakf',\n",
      "            16: 'iasdkolpf',\n",
      "            17: 'iasdsjaoidpko',\n",
      "            18: 'fytgyhujis'},\n",
      " 'year': 2004}\n",
      "---------------------------------------------------\n",
      "'adsyaihsuoijdkoa'\n"
     ]
    }
   ],
   "source": [
    "# Creating a dictionary with information about the album \"Lover\"\n",
    "import pprint\n",
    "\n",
    "insert_name_here_album = {\n",
    "    \"title\": \"cheetos\",\n",
    "    \"artist\": \"snail\",\n",
    "    \"year\": 2004,\n",
    "    \"genre\": [\"hlep\", \"pelase\"],\n",
    "    \"tracks\": {\n",
    "        1: \"asdjoasipko[fpl[as]]\",\n",
    "        2: \"asdihajoipkof\",\n",
    "        3: \"adsugyhu9i09-o-\",\n",
    "        4: \"adsyaihsuoijdkoa\",\n",
    "        5: \"7ety8quwi9opf\",\n",
    "        6: \"adshijaosdipko\",\n",
    "        7: \"iadsuasjoifko\",\n",
    "        8: \"asdihuasijdkop\",\n",
    "        9: \"adyiuop\",\n",
    "        10: \"asdugyihuijko\",\n",
    "        11: \"adshiasuoji\",\n",
    "        12: \"asdsiashudjio\",\n",
    "        13: \"asdksfopla[f]\",\n",
    "        14: \"Yoasdjokpf\",\n",
    "        15: \"sdjoakf\",\n",
    "        16: \"iasdkolpf\",\n",
    "        17: \"iasdsjaoidpko\",\n",
    "        18: \"fytgyhujis\"\n",
    "    }\n",
    "}\n",
    "pprnt = pprint.PrettyPrinter(width=41, compact=True)\n",
    "pprnt.pprint(insert_name_here_album)\n",
    "print('---------------------------------------------------')\n",
    "pprnt.pprint(insert_name_here_album['tracks'][4])"
   ]
  }
 ],
 "metadata": {
  "kernelspec": {
   "display_name": "base",
   "language": "python",
   "name": "python3"
  },
  "language_info": {
   "codemirror_mode": {
    "name": "ipython",
    "version": 3
   },
   "file_extension": ".py",
   "mimetype": "text/x-python",
   "name": "python",
   "nbconvert_exporter": "python",
   "pygments_lexer": "ipython3",
   "version": "3.9.12"
  },
  "orig_nbformat": 4,
  "vscode": {
   "interpreter": {
    "hash": "3b85ac7d340d972d804a633b4d7865a48f85518acf1db710e8ed23047c086fd4"
   }
  }
 },
 "nbformat": 4,
 "nbformat_minor": 2
}
