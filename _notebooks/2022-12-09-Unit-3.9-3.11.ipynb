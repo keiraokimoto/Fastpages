{
 "cells": [
  {
   "attachments": {},
   "cell_type": "markdown",
   "metadata": {},
   "source": [
    "# Unit 3.9 + 3.11 Homework\n",
    "> Introduction to the binary search algorithm, it's uses, advantages, and disadvantages\n",
    "- toc: true \n",
    "- badges: true\n",
    "- comments: true"
   ]
  },
  {
   "cell_type": "markdown",
   "metadata": {},
   "source": [
    "## Challenges and Homework\n",
    "\n",
    "You have one homework problem.\n",
    "  \n",
    "Yes just one.\n",
    "  \n",
    "Don't get excited though.\n",
    "\n",
    "**Problem:** Given a specific integer **N**, return the square root of **N** (**R**) if **N** is a perfect square, otherwise, return the square root of **N** rounded down to the nearest integer\n",
    "\n",
    "**Input:** **N** (Integer)\n",
    "\n",
    "**Output:** **R** (Integer)\n",
    "  \n",
    "**Constraints:** Do not use any built-in math operations such as `sqrt(x)` or `x**(0.5)`, Try complete the problem in logarithmic time. \n",
    "  \n",
    "**Hint 1:** Maybe you can use Binary Search to try and reduce the number of checks you have to perform?  \n",
    "  \n",
    "**Hint 2:** Is there a mathematical pattern amongst numbers and their square roots that could help you reduce the number of searches or iterations you must execute? Is there some value or rule you can set before applying binary search to narrow the range of possible values?"
   ]
  },
  {
   "cell_type": "markdown",
   "metadata": {},
   "source": [
    "Run the very last code segment below to load test cases and submission function"
   ]
  },
  {
   "cell_type": "code",
   "execution_count": null,
   "metadata": {},
   "outputs": [
    {
     "name": "stdout",
     "output_type": "stream",
     "text": [
      "Check number 1 passed\n",
      "Check number 2 passed\n",
      "Check number 3 passed\n",
      "Check number 4 passed\n",
      "Check number 5 passed\n",
      "Check number 6 passed\n",
      "Check number 7 passed\n",
      "Check number 8 passed\n",
      "Check number 9 passed\n",
      "Check number 10 passed\n",
      "Check number 11 passed\n",
      "Check number 12 passed\n",
      "Check number 13 passed\n",
      "10.0 (Ignore this, it's just the test method code that runs slower than my PC trying to open Genshin Impact :) )\n"
     ]
    }
   ],
   "source": [
    "def binarySearch(N):\n",
    "    low = 0\n",
    "    high = N\n",
    "    while high >= low:\n",
    "        mid = (high + low) // 2\n",
    "        if mid * mid == N:\n",
    "            return mid\n",
    "        elif mid * mid > N:\n",
    "            high = mid - 1\n",
    "        else:\n",
    "            low = mid + 1\n",
    "    return 0   \n",
    "\n",
    "from math import sqrt as sq\n",
    "test_cases = [0,1,4,85248289,22297284,18939904,91107025,69122596,9721924,37810201,1893294144,8722812816,644398225]\n",
    "answers = [int(sq(x)) for x in test_cases]\n",
    "\n",
    "def checkValid():0000000\n",
    "for i in range(len(test_cases)):\n",
    "    if binarySearch(test_cases[i]) == answers[i]:\n",
    "        print(\"Check number {} passed\".format(i+1))\n",
    "    else:\n",
    "        print(\"Check number {} failed\".format(i+1))\n",
    "checkValid()\n",
    "\n",
    "# ignore def sqrt(N), this was just testing one method of finding the square root\n",
    "def sqrtTest(N):\n",
    "    if (N % 2) == 0:\n",
    "        index = 2\n",
    "    else: \n",
    "        index = 1\n",
    "    divV = index\n",
    "    result = 0\n",
    "    while (result != divV):\n",
    "        result = N / divV\n",
    "        if (divV == result):\n",
    "            return result\n",
    "        divV = divV + index\n",
    "    return 0\n",
    "r = sqrtTest(100)\n",
    "print( (r),\"(Ignore this, it's just the test method code that runs slower than my PC trying to open Genshin Impact :) )\")\n",
    "\n",
    "def binsearchsqrt(N):\n",
    "    if (N % 2) == 0:\n",
    "        index = 2\n",
    "    else: \n",
    "        index = 1\n",
    "    divV = index\n",
    "    result = 0\n",
    "    while (result != divV):\n",
    "        result = N / divV\n",
    "        if (divV == result):\n",
    "            return result\n",
    "        divV = divV + index\n",
    "    return 0\n",
    "\n"
   ]
  },
  {
   "cell_type": "code",
   "execution_count": null,
   "metadata": {},
   "outputs": [
    {
     "name": "stdout",
     "output_type": "stream",
     "text": [
      "Check number 1 passed\n",
      "Check number 2 passed\n",
      "Check number 3 passed\n",
      "Check number 4 passed\n",
      "Check number 5 passed\n",
      "Check number 6 passed\n",
      "Check number 7 passed\n",
      "Check number 8 passed\n",
      "Check number 9 passed\n",
      "Check number 10 passed\n",
      "Check number 11 passed\n",
      "Check number 12 passed\n",
      "Check number 13 passed\n"
     ]
    }
   ],
   "source": [
    "# Do not change this\n",
    "\n",
    "from math import sqrt as sq\n",
    "test_cases = [0,1,4,85248289,22297284,18939904,91107025,69122596,9721924,37810201,1893294144,8722812816,644398225]\n",
    "answers = [int(sq(x)) for x in test_cases]\n",
    "\n",
    "def checkValid():0000000\n",
    "for i in range(len(test_cases)):\n",
    "    if binarySearch(test_cases[i]) == answers[i]:\n",
    "        print(\"Check number {} passed\".format(i+1))\n",
    "    else:\n",
    "        print(\"Check number {} failed\".format(i+1))\n",
    "checkValid()"
   ]
  },
  {
   "attachments": {},
   "cell_type": "markdown",
   "metadata": {},
   "source": [
    "# Unit 3.9 Homework"
   ]
  },
  {
   "cell_type": "code",
   "execution_count": 5,
   "metadata": {},
   "outputs": [
    {
     "name": "stdout",
     "output_type": "stream",
     "text": [
      "\n",
      "Enter a number or type 'q' to quit.\n",
      "[6, 3, 10, 5, 16, 8, 4, 2, 1]\n",
      "\n",
      "Enter a number or type 'q' to quit.\n",
      "[1500, 750, 375, 1126, 563, 1690, 845, 2536, 1268, 634, 317, 952, 476, 238, 119, 358, 179, 538, 269, 808, 404, 202, 101, 304, 152, 76, 38, 19, 58, 29, 88, 44, 22, 11, 34, 17, 52, 26, 13, 40, 20, 10, 5, 16, 8, 4, 2, 1]\n",
      "\n",
      "Enter a number or type 'q' to quit.\n",
      "Invalid input.\n",
      "\n",
      "Enter a number or type 'q' to quit.\n"
     ]
    }
   ],
   "source": [
    "\n",
    "def calculateNumber(num):\n",
    "    result = num\n",
    "    if (num == 0):\n",
    "        return []\n",
    "\n",
    "    result_list = [result]\n",
    "    while result != 1:\n",
    "        if (result % 2 == 0): # use mod = remander = 0 -> even. 1 = odd\n",
    "            result = result / 2\n",
    "        else:\n",
    "            result = result * 3 + 1\n",
    "        result_list.append(int(result)) # appends the result to a string of results so it can be printed later\n",
    "    return result_list\n",
    "    \n",
    "# Input function \n",
    "s = \"\"\n",
    "while (s != \"q\"):\n",
    "    print(\"\\nEnter a number or type 'q' to quit.\")\n",
    "    s = input()\n",
    "    try:\n",
    "        if s != \"q\":\n",
    "            num = (int(s))\n",
    "            resultFinal = calculateNumber(num)\n",
    "            print(resultFinal)\n",
    "    except ValueError:\n",
    "        print (\"Invalid input.\")"
   ]
  },
  {
   "attachments": {},
   "cell_type": "markdown",
   "metadata": {},
   "source": [
    "# Developing Algorithms (JavaScript) Challenge\n",
    "I hope you don't mind the Javascript Emulator screenshot, but here is the finished challenge:\n",
    "\n",
    "![](/images/3.9-3.11-Javascript-Challenge.png)"
   ]
  }
 ],
 "metadata": {
  "kernelspec": {
   "display_name": "Python 3.10.6 64-bit",
   "language": "python",
   "name": "python3"
  },
  "language_info": {
   "codemirror_mode": {
    "name": "ipython",
    "version": 3
   },
   "file_extension": ".py",
   "mimetype": "text/x-python",
   "name": "python",
   "nbconvert_exporter": "python",
   "pygments_lexer": "ipython3",
   "version": "3.8.10"
  },
  "orig_nbformat": 4,
  "vscode": {
   "interpreter": {
    "hash": "916dbcbb3f70747c44a77c7bcd40155683ae19c65e1c03b4aa3499c5328201f1"
   }
  }
 },
 "nbformat": 4,
 "nbformat_minor": 2
}
