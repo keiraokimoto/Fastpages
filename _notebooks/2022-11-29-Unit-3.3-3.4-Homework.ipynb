{
 "cells": [
  {
   "cell_type": "markdown",
   "metadata": {},
   "source": [
    "# Big idea 3!\n",
    "> Lesson on Big Idea 3 which includes expressions, strings, psuedocode, and more!\n",
    "\n",
    "- toc: true\n",
    "- comments: true\n",
    "- categories: [Week-13,Big-Idea-3]"
   ]
  },
  {
   "cell_type": "markdown",
   "metadata": {},
   "source": [
    "## 3.3 Expressions(Show video 1 and 3)  "
   ]
  },
  {
   "cell_type": "markdown",
   "metadata": {},
   "source": [
    "### Vocab: fill in the blanks  \n",
    "  \n",
    "the symbol for exponent is ^  \n",
    "the symbol for addition is +  \n",
    "the symbol for subtraction is -  \n",
    "the symbol for multiplication is *  \n",
    "the symbol for division is /  \n",
    "the symbol for modulus is %  \n",
    "an algorithm is a sequence of steps that accomplishes a specific task  "
   ]
  },
  {
   "cell_type": "markdown",
   "metadata": {},
   "source": [
    "Sequencing Practice: the code below does not follow the intended steps below. change the code so that it does so.\n",
    "1. divide value1 by 10(value1 = 5)  \n",
    "2. multiply 2 from the result of the step 1  \n",
    "3. subtract 4 from the result of the step 2\n",
    "4. print the result of step 3"
   ]
  },
  {
   "cell_type": "code",
   "execution_count": 1,
   "metadata": {},
   "outputs": [
    {
     "name": "stdout",
     "output_type": "stream",
     "text": [
      "-3.0\n"
     ]
    }
   ],
   "source": [
    "value1 = 5\n",
    "value2 = value1/10; 1 #step 1\n",
    "value3 = value2*2; 2 #step 2\n",
    "value4 = value3-4; 6 #step 3\n",
    "print(value4)"
   ]
  },
  {
   "cell_type": "markdown",
   "metadata": {},
   "source": [
    "Selection/Iteration Practice: Create a function to print ONLY the numbers of numlist that are divisble by 3.  \n",
    "Hint: use the MOD operator (a % b) to find the remainder when a is divided by b."
   ]
  },
  {
   "cell_type": "code",
   "execution_count": 19,
   "metadata": {},
   "outputs": [
    {
     "name": "stdout",
     "output_type": "stream",
     "text": [
      "3 is divisible by 3\n",
      "9 is divisible by 3\n",
      "891 is divisible by 3\n"
     ]
    }
   ],
   "source": [
    "numlist = \"3\",\"4\",\"9\",\"76\",\"891\"\n",
    "for i in range(len(numlist)):\n",
    "    xyz = int(numlist[i])\n",
    "    if xyz % 3 == 0:\n",
    "        print( numlist[i] + \" is divisible by 3\")\n",
    "        continue\n",
    "    else:\n",
    "        continue\n",
    "            "
   ]
  },
  {
   "cell_type": "markdown",
   "metadata": {},
   "source": [
    "Homework/Binary Adaptation: Create a python function that will convert a decimal number 1-255 to binary using mathematical operations and powers of 2. Challenge: add frontend with javascript or html."
   ]
  },
  {
   "cell_type": "code",
   "execution_count": 5,
   "metadata": {},
   "outputs": [
    {
     "name": "stdout",
     "output_type": "stream",
     "text": [
      "100\n",
      "11111111\n",
      "1111\n",
      "100111\n",
      "1111101000\n",
      "1010101010000\n"
     ]
    }
   ],
   "source": [
    "def convert(decNo):\n",
    "    divValue = decNo\n",
    "    remainder = 1\n",
    "    x = ''\n",
    "    while divValue > 0:\n",
    "        remainder = divValue % 2\n",
    "        divValue = (int)(divValue / 2)\n",
    "        x = str(remainder) + x\n",
    "    print(x)\n",
    "    \n",
    "\n",
    "convert(4) # 100\n",
    "convert(255) # 11111111\n",
    "convert(15) # 1111\n",
    "convert(39) # 100111\n",
    "convert(1000) #1111101000\n",
    "convert (5456) #1010101010000"
   ]
  },
  {
   "cell_type": "markdown",
   "metadata": {},
   "source": [
    "## 3.4 Strings(Show video 1)"
   ]
  },
  {
   "cell_type": "markdown",
   "metadata": {},
   "source": [
    "### Vocab: fill in the blanks using the video\n",
    "Index is a number representing a position, like a character's position in a string or a string's position in a list.  \n",
    "Concatenation is when two strings are combined with each other.  \n",
    "Length is the amount of items in a string.\n",
    "A substring is a part of a string.  "
   ]
  },
  {
   "cell_type": "markdown",
   "metadata": {},
   "source": [
    "### What is psuedocode?\n",
    "Pseudocode is writing out a program in plain language with keywords that are used to refer to common coding concepts.\n",
    "\n",
    "Can you think of some benefits of using pseudocode prior to writing out the actual code?\n",
    "\n",
    "1. Choose an everyday activity\n",
    "2. Imagine that you are providing instructions for this activity to a person who has never done it before\n",
    "3. Challenge someone to do the steps you wrote out\n",
    "\n",
    "Ex. Brushing Teeth\n",
    "\n",
    "1. Pick up your toothbrush\n",
    "2. Rinse toothbrush\n",
    "3. Pick up toothpaste\n",
    "4. Place toothpaste on the toothbrush\n",
    "5. Rinse toothbrush again\n",
    "6. Brush teeth in a circular motion\n",
    "7. Spit\n",
    "8. Wash mouth \n",
    "9. Rinse toothbrush\n",
    "10. You have brushed your teeth!"
   ]
  },
  {
   "cell_type": "markdown",
   "metadata": {},
   "source": [
    "### Substring/Length Practice: change the print functions to print \"hello\", \"bye\", and the string length"
   ]
  },
  {
   "cell_type": "code",
   "execution_count": 32,
   "metadata": {},
   "outputs": [
    {
     "name": "stdout",
     "output_type": "stream",
     "text": [
      "hello\n",
      "bye\n"
     ]
    }
   ],
   "source": [
    "#substring = string[start:end] \n",
    "#the substring will have the characters including the index \"start\" to the character BEFORE the index \"end\"\n",
    "#len(string) will print the length of string\n",
    "\n",
    "string = \"hellobye\"\n",
    "x = string[0:5]\n",
    "y = string[5:8]\n",
    "print(x)\n",
    "print(y)"
   ]
  },
  {
   "cell_type": "markdown",
   "metadata": {},
   "source": [
    "Concatenation Practice: combine string1 and string2 to make string3, then print string3."
   ]
  },
  {
   "cell_type": "code",
   "execution_count": 21,
   "metadata": {},
   "outputs": [
    {
     "name": "stdout",
     "output_type": "stream",
     "text": [
      "computerscience\n"
     ]
    }
   ],
   "source": [
    "#string1 + string2 will add string2 to the end of string1\n",
    "\n",
    "string1 = \"computer\"\n",
    "string2 = \"science\"\n",
    "string3 = string1 + string2\n",
    "print(string3)"
   ]
  },
  {
   "cell_type": "markdown",
   "metadata": {},
   "source": [
    "Homework/List Adaptation: create a function that prints the name of each string in the list and the string's length. Challenge: add frontend with javascript or html."
   ]
  },
  {
   "cell_type": "code",
   "execution_count": 1,
   "metadata": {},
   "outputs": [
    {
     "name": "stdout",
     "output_type": "stream",
     "text": [
      "Name List Length = 4\n",
      "Jaden - 5 letters.\n",
      "Max - 3 letters.\n",
      "Dylan - 5 letters.\n",
      "Orlando - 7 letters.\n"
     ]
    }
   ],
   "source": [
    "names = [\"Jaden\",\"Max\",\"Dylan\",\"Orlando\"]\n",
    "\n",
    "def getStringLength(namelist):\n",
    "    print('Name List Length = '+ str(len(namelist)))\n",
    "    for name in namelist:\n",
    "        s = name + ' - ' + str(len(name)) + ' letters.'\n",
    "        print(s)\n",
    "\n",
    "getStringLength(names)"
   ]
  },
  {
   "cell_type": "markdown",
   "metadata": {},
   "source": [
    "# Stuck? \n",
    "- Check out [what we did.](https://raisinbran25.github.io/csp2/2022/11/18/expressions.html)"
   ]
  },
  {
   "cell_type": "markdown",
   "metadata": {},
   "source": [
    "# Have any questions?\n",
    "- Ask us if you have any questions!"
   ]
  },
  {
   "cell_type": "markdown",
   "metadata": {},
   "source": [
    "------------------------------------------------------------------------------------------------------------------------------------------------------------"
   ]
  },
  {
   "cell_type": "markdown",
   "metadata": {},
   "source": [
    "# Unit 3.3 and 3.4 Notes\n",
    "- Not many notes here since most were on the document itself!\n",
    "- Will still be adding some notes here anyways, for convenience\n",
    "\n",
    "- Length - the number of characters/item in a string\n",
    "- Addition, subtraction, and division are all represented by their respective symbols\n",
    "- The only differences are multiplication and exponents (* and ^)\n",
    "- Concatenation (which I cannot spell) is essentially adding 2 strings together\n",
    "- Substrings are parts of strings\n",
    "- The length of a string is the amount of items or numbers in it\n",
    "- 'Str' can be used to initialize something for printing\n",
    "- 'len' tells the code to consider the entirety of the string's length\n"
   ]
  }
 ],
 "metadata": {
  "kernelspec": {
   "display_name": "Python 3.8.10 64-bit",
   "language": "python",
   "name": "python3"
  },
  "language_info": {
   "codemirror_mode": {
    "name": "ipython",
    "version": 3
   },
   "file_extension": ".py",
   "mimetype": "text/x-python",
   "name": "python",
   "nbconvert_exporter": "python",
   "pygments_lexer": "ipython3",
   "version": "3.8.10"
  },
  "orig_nbformat": 4,
  "vscode": {
   "interpreter": {
    "hash": "916dbcbb3f70747c44a77c7bcd40155683ae19c65e1c03b4aa3499c5328201f1"
   }
  }
 },
 "nbformat": 4,
 "nbformat_minor": 2
}
