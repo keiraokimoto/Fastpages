{
 "cells": [
  {
   "cell_type": "markdown",
   "metadata": {},
   "source": [
    "# JavaScript Tutorial\n",
    "> Quick launch into Variables, Functions, Arrays, IJavaScript HTML, using Jupyter Notebooks\n",
    "\n",
    "- toc: true\n",
    "- comments: true\n",
    "- permalink: /techtalk/javascript\n",
    "- image: /images/javascript.png\n",
    "- categories: [techtalk]\n"
   ]
  },
  {
   "cell_type": "markdown",
   "metadata": {},
   "source": [
    "{% include nav_frontend.html %}"
   ]
  },
  {
   "cell_type": "markdown",
   "metadata": {},
   "source": [
    "### console.log output\n",
    "Output to console using the classic programming introduction using a \"Hello, World!\" message.     \n",
    "- The command or function is <mark>console.log()</mark>\n",
    "- \"Hello, World\" is a String literal. This is the referred to as <mark>Static text</mark>, as it does not change.\n",
    "- \"Hello, World\" is a parameter to the console.log command.\n",
    "- The console.log <mark>command outputs the parameter to the console</mark>, so you can see it in this Jupyter document.\n",
    "- Note, in a Web Application, console.log is used for debugging and is not visible from the browser via HTML.  It is used behind the scenes, when using Inspect->Console from the browser."
   ]
  },
  {
   "cell_type": "code",
   "execution_count": 18,
   "metadata": {},
   "outputs": [
    {
     "name": "stdout",
     "output_type": "stream",
     "text": [
      "Hello, World!\n"
     ]
    }
   ],
   "source": [
    "console.log(\"Hello, World!\");"
   ]
  },
  {
   "cell_type": "markdown",
   "metadata": {},
   "source": [
    "### console.log output showing use of variable\n",
    "This second example is a <mark>sequence of code</mark>, two or more lines forms a sequence.  This example defines a variable, then outputs the msg to terminal.  \n",
    "- The variable \"var msg =\" is used to capture the data\n",
    "- The console.log(msg) outputs to console"
   ]
  },
  {
   "cell_type": "code",
   "execution_count": 19,
   "metadata": {},
   "outputs": [
    {
     "name": "stdout",
     "output_type": "stream",
     "text": [
      "Hello, World!\n"
     ]
    }
   ],
   "source": [
    "var msg = \"Hello, World!\";\n",
    "console.log(msg);"
   ]
  },
  {
   "cell_type": "markdown",
   "metadata": {},
   "source": [
    "### console.log output showing use of a function\n",
    "This example passes the previously defined variable \"msg\" to the newly defined \"function logIt(output)\".\n",
    "- There are two steps in the code, the <mark>definition of the function and the call to the function</mark>.\n",
    "    - \"function logIt(output) {}\" and everything between curly braces is the definitions of the function.\n",
    "    - \"logIt(msg)\" is the call to the function, this actually activates the function.  If you remove this line you will not receive any output to console.\n",
    "- Since the variable \"msg\" was defined in previous cell, it is used a parameter when calling the logMessage function."
   ]
  },
  {
   "cell_type": "code",
   "execution_count": 20,
   "metadata": {},
   "outputs": [
    {
     "name": "stdout",
     "output_type": "stream",
     "text": [
      "Hello, World!\n"
     ]
    }
   ],
   "source": [
    "function logIt(output) {\n",
    "    console.log(output);\n",
    "}\n",
    "logIt(msg);"
   ]
  },
  {
   "cell_type": "markdown",
   "metadata": {},
   "source": [
    "### Showing reuse of a function\n",
    "Now that a function is defined, it can be called from any of the subsequent cell in the Jupyter notebook.  A function/method, is a process of creating a <mark>procedural abstraction</mark>. This a programming practice to promote reuse versus coding the same thing over and over.\n",
    "- First call sends a different string message\n",
    "- Second call sends a number"
   ]
  },
  {
   "cell_type": "code",
   "execution_count": 21,
   "metadata": {},
   "outputs": [
    {
     "name": "stdout",
     "output_type": "stream",
     "text": [
      "Reuse of logIT\n",
      "Hello, Students!\n",
      "2022\n"
     ]
    }
   ],
   "source": [
    "console.log(\"Reuse of logIT\")\n",
    "logIt(\"Hello, Students!\");\n",
    "logIt(2022)"
   ]
  },
  {
   "cell_type": "markdown",
   "metadata": {},
   "source": [
    "### Dynamic or Loosely typed language (string, number)\n",
    "<mark>JavaScript is a loosely typed language</mark>, meaning you don't have to specify what type of information will be stored in a variable in advance.  The variable type is determined at runtime.  This is similar to Python and most interpretive languages.  Java which is a compiled language is strongly typed, thus you will see string, integer, double, and object in the source code. In JavaScript, the \"typeof\" keyword returns the type."
   ]
  },
  {
   "cell_type": "code",
   "execution_count": 22,
   "metadata": {},
   "outputs": [
    {
     "name": "stdout",
     "output_type": "stream",
     "text": [
      "Looking at dynamic nature of types in JavaScript\n",
      "string ; hello\n",
      "number ; 2020\n",
      "object ; [ 1, 2, 3 ]\n"
     ]
    }
   ],
   "source": [
    "function logItType(output) {\n",
    "    console.log(typeof output, \";\", output);\n",
    "}\n",
    "console.log(\"Looking at dynamic nature of types in JavaScript\")\n",
    "logItType(\"hello\"); // String\n",
    "logItType(2020);    // Number\n",
    "logItType([1, 2, 3]);  // Object is generic for this Array, which similar to Python List"
   ]
  },
  {
   "cell_type": "markdown",
   "metadata": {},
   "source": [
    "### Build a Person Function/Class object and JSON\n",
    "JavaScript functions have special properties and syntax is shown in many ways.  In fact, a Class in JavaScript is a special function.  Jupyter Notebooks seems to be more friendly to \"function\" definitions versus \"Class\", thus this lesson uses \"function\" and \"prototype\" versus \"Class\".\n",
    "- <mark>Definition of function allows for a collection of data</mark>, the \"function Person\" allows programmer to retain name, github id, and class of designation.\n",
    "- <mark>Definition of a prototype allow for the definition of a method associated with the function</mark> , the \"Person.prototype.toJSON\" allows the collection of data to be expressed in a json/string versus JavaScript object.\n",
    "- <mark>Instance of a function</mark>, the \"var leader = new Person(\"Eichi Tenshouin\", \"jm1021\", 1977)\" line makes a variable \"leader\" which is an object representation of \"function Person\"."
   ]
  },
  {
   "cell_type": "code",
   "execution_count": 23,
   "metadata": {},
   "outputs": [
    {
     "name": "stdout",
     "output_type": "stream",
     "text": [
      "object ; Person { name: 'Eichi Tenshouin', role: 'Leader', unit: 'fine' }\n",
      "string ; {\"name\":\"Eichi Tenshouin\",\"unit\":\"fine\",\"role\":\"Leader\"}\n"
     ]
    }
   ],
   "source": [
    "// define a function to hold data for a Person\n",
    "function Person(name, role, unit) {\n",
    "    this.name = name;\n",
    "    this.role = role;\n",
    "    this.unit = unit;\n",
    "    this.role = \"\";\n",
    "}\n",
    "\n",
    "// define a setter for role in Person data\n",
    "Person.prototype.setRole = function(role) {\n",
    "    this.role = role;\n",
    "}\n",
    "\n",
    "// define a JSON conversion \"method\" associated with Person\n",
    "Person.prototype.toJSON = function() {\n",
    "    const obj = {name: this.name, year: this.year, unit: this.unit, role: this.role};\n",
    "    const json = JSON.stringify(obj);\n",
    "    return json;\n",
    "}\n",
    "\n",
    "// make a new Person and assign to variable leader\n",
    "var leader = new Person(\"Eichi Tenshouin\", \"Graduated\", \"fine\");\n",
    "leader.setRole(\"Leader\");\n",
    "\n",
    "// output of Object and JSON/string associated with Leader\n",
    "logItType(leader);  // object type is easy to work with in JavaScript\n",
    "logItType(leader.toJSON());  // json/string is useful when passing data on internet"
   ]
  },
  {
   "cell_type": "markdown",
   "metadata": {},
   "source": [
    "### Build a Classroom Array/List of Persons and JSON\n",
    "Many key elements are shown again.  New elements include...\n",
    "- <mark>Building an Array</mark>, \"var members\" is an array of many persons\n",
    "- Building a Classroom, this show <mark>forEach iteration</mark> through an array and <mark>.push adding</mark> to an array.  These are key concepts in all programming languages."
   ]
  },
  {
   "cell_type": "code",
   "execution_count": 24,
   "metadata": {},
   "outputs": [
    {
     "name": "stdout",
     "output_type": "stream",
     "text": [
      "object ; [ Person { name: 'Eichi Tenshouin', role: 'Leader', unit: 'fine' },\n",
      "  Person { name: 'Wataru Hibiki', role: 'Member', unit: 'fine' },\n",
      "  Person { name: 'Kaoru Hakaze', role: 'Member', unit: 'UNDEAD' },\n",
      "  Person { name: 'Midori Takamine', role: 'Member', unit: 'Ryuseitai' },\n",
      "  Person { name: 'Niki Shiina', role: 'Member', unit: 'Crazy:B' },\n",
      "  Person { name: 'Tsukasa Suou', role: 'Member', unit: 'Knights' },\n",
      "  Person { name: 'Tsumugi Aoba', role: 'Member', unit: 'Switch' } ]\n",
      "string ; Eichi Tenshouin\n",
      "string ; {\"name\":\"Eichi Tenshouin\",\"unit\":\"fine\",\"role\":\"Leader\"}\n",
      "object ; { name: 'Eichi Tenshouin', unit: 'fine', role: 'Leader' }\n"
     ]
    }
   ],
   "source": [
    "// define a member Array of Person(s)\n",
    "var members = [ \n",
    "    new Person(\"Wataru Hibiki\", \"Graduated\", \"fine\"),\n",
    "    new Person(\"Kaoru Hakaze\", \"Graduated\", \"UNDEAD\"),\n",
    "    new Person(\"Midori Takamine\", \"Third Year\", \"Ryuseitai\"),\n",
    "    new Person(\"Niki Shiina\", \"Dropped Out\", \"Crazy:B\"),\n",
    "    new Person(\"Tsukasa Suou\", \"Second Year\", \"Knights\"),\n",
    "    new Person(\"Tsumugi Aoba\", \"Graduated\", \"Switch\")\n",
    "];\n",
    "\n",
    "// define a classroom and build Classroom objects and json\n",
    "function Classroom(leader, members){ // 1 leader, many member\n",
    "    // start Classroom with Leader\n",
    "    leader.setRole(\"Leader\");\n",
    "    this.leader = leader;\n",
    "    this.classroom = [leader];\n",
    "    // add each Member to Classroom\n",
    "    this.members = members;\n",
    "    this.members.forEach(member => { member.setRole(\"Member\"); this.classroom.push(member); });\n",
    "    // build json/string format of Classroom\n",
    "    this.json = [];\n",
    "    this.classroom.forEach(person => this.json.push(person.toJSON()));\n",
    "}\n",
    "\n",
    "// make a CompSci classroom from formerly defined leader and members\n",
    "compsci = new Classroom(leader, members);\n",
    "\n",
    "// output of Objects and JSON in CompSci classroom\n",
    "logItType(compsci.classroom);  // constructed classroom object\n",
    "logItType(compsci.classroom[0].name);  // abstract 1st objects name\n",
    "logItType(compsci.json[0]);  // show json conversion of 1st object to string\n",
    "logItType(JSON.parse(compsci.json[0]));  // show JSON.parse inverse of JSON.stringify"
   ]
  },
  {
   "cell_type": "markdown",
   "metadata": {},
   "source": [
    "### IJavaScript and Table formatting using toHTML method\n",
    "This example builds a <mark>Classroom method _toHTML</mark> which is passed to the IJavaScript interpreter $$.html which renders output similarly to a real website.  \n",
    "- JavaScript in the _toHTML method is broken into three parts...\n",
    "    - Style part is building CSS inline formatting\n",
    "    - Body part is constructing the Table Rows (tr), Table Headings (th), and Table Data (td).  The table data is obtained from a Classroom object.  The JavaScript for loop allows the construction of a new row of data for each person object in the Array.\n",
    "    - Return part creates the HTML fragment for rendering\n",
    "- The last line in the example <mark>$$.html is IJavaScript HTML interpreter</mark> and by passing the parameter of the _toHTML method it obtains HTML to render"
   ]
  },
  {
   "cell_type": "code",
   "execution_count": 25,
   "metadata": {},
   "outputs": [
    {
     "data": {
      "text/html": [
       "<div style='display:inline-block;background:black;border: 2px solid grey;box-shadow: 0.8em 0.4em 0.4em grey;'><table><tr><th><mark>Name</mark></th><th><mark>GitHub ID</mark></th><th><mark>Class Of</mark></th><th><mark>Role</mark></th></tr><tr><td>Eichi Tenshouin</td><td>Leader</td><td>fine</td><td>Leader</td><tr><tr><td>Wataru Hibiki</td><td>Member</td><td>fine</td><td>Member</td><tr><tr><td>Kaoru Hakaze</td><td>Member</td><td>UNDEAD</td><td>Member</td><tr><tr><td>Midori Takamine</td><td>Member</td><td>Ryuseitai</td><td>Member</td><tr><tr><td>Niki Shiina</td><td>Member</td><td>Crazy:B</td><td>Member</td><tr><tr><td>Tsukasa Suou</td><td>Member</td><td>Knights</td><td>Member</td><tr><tr><td>Tsumugi Aoba</td><td>Member</td><td>Switch</td><td>Member</td><tr></table></div>"
      ]
     },
     "execution_count": 25,
     "metadata": {},
     "output_type": "execute_result"
    }
   ],
   "source": [
    "// define an HTML conversion \"method\" associated with Classroom\n",
    "Classroom.prototype._toHtml = function() {\n",
    "  // HTML Style is build using inline structure\n",
    "  var style = (\n",
    "    \"display:inline-block;\" +\n",
    "    \"background:black;\" +\n",
    "    \"border: 2px solid grey;\" +\n",
    "    \"box-shadow: 0.8em 0.4em 0.4em grey;\"\n",
    "  );\n",
    "\n",
    "  // HTML Body of Table is build as a series of concatenations (+=)\n",
    "  var body = \"\";\n",
    "  // Heading for Array Columns\n",
    "  body += \"<tr>\";\n",
    "  body += \"<th><mark>\" + \"Name\" + \"</mark></th>\";\n",
    "  body += \"<th><mark>\" + \"GitHub ID\" + \"</mark></th>\";\n",
    "  body += \"<th><mark>\" + \"Class Of\" + \"</mark></th>\";\n",
    "  body += \"<th><mark>\" + \"Role\" + \"</mark></th>\";\n",
    "  body += \"</tr>\";\n",
    "  // Data of Array, iterate through each row of compsci.classroom \n",
    "  for (var row of compsci.classroom) {\n",
    "    // tr for each row, a new line\n",
    "    body += \"<tr>\";\n",
    "    // td for each column of data\n",
    "    body += \"<td>\" + row.name + \"</td>\";\n",
    "    body += \"<td>\" + row.role + \"</td>\";\n",
    "    body += \"<td>\" + row.unit + \"</td>\";\n",
    "    body += \"<td>\" + row.role + \"</td>\";\n",
    "    // tr to end line\n",
    "    body += \"<tr>\";\n",
    "  }\n",
    "\n",
    "   // Build and HTML fragment of div, table, table body\n",
    "  return (\n",
    "    \"<div style='\" + style + \"'>\" +\n",
    "      \"<table>\" +\n",
    "        body +\n",
    "      \"</table>\" +\n",
    "    \"</div>\"\n",
    "  );\n",
    "\n",
    "};\n",
    "\n",
    "// IJavaScript HTML processor receive parameter of defined HTML fragment\n",
    "$$.html(compsci._toHtml());"
   ]
  }
 ],
 "metadata": {
  "kernelspec": {
   "display_name": "JavaScript (Node.js)",
   "language": "javascript",
   "name": "javascript"
  },
  "language_info": {
   "file_extension": ".js",
   "mimetype": "application/javascript",
   "name": "javascript",
   "version": "6.11.2"
  },
  "orig_nbformat": 4
 },
 "nbformat": 4,
 "nbformat_minor": 2
}
