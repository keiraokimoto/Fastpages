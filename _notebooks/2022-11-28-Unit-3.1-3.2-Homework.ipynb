{
 "cells": [
  {
   "cell_type": "markdown",
   "metadata": {},
   "source": [
    "---\n",
    "title: Unit 3.1 and 3.2 Homework\n",
    "toc: true\n",
    "layout: post\n",
    "categories: [post]\n",
    "---\n",
    "The list given contains multiple numbers with different values. There are also 2 variables that define the minimum and maximum valid values. Given these variables, output the values that do not fit into the valid range as well as their index values."
   ]
  },
  {
   "cell_type": "code",
   "execution_count": 3,
   "metadata": {},
   "outputs": [
    {
     "name": "stdout",
     "output_type": "stream",
     "text": [
      "2 4\n",
      "4 308\n",
      "6 5\n",
      "9 306\n"
     ]
    }
   ],
   "source": [
    "data = [104, 101, 4, 105, 308, 103, 5, 107,\n",
    "        100, 306, 106, 102, 108]    # list of the different numerical values\n",
    "min_valid = 100  # minimum value\n",
    "max_valid = 200  # maximum value\n",
    "\n",
    "for i in range(len(data)):\n",
    "    if data[i] > max_valid:\n",
    "        print(i, data[i])\n",
    "    elif data[i] < min_valid:\n",
    "        print(i, data[i])"
   ]
  },
  {
   "cell_type": "code",
   "execution_count": 31,
   "metadata": {},
   "outputs": [
    {
     "name": "stdout",
     "output_type": "stream",
     "text": [
      "Playing \"Don't Let Me Down\" from album \"Bad Company\"\n"
     ]
    }
   ],
   "source": [
    "albums = [\n",
    "    (\"Welcome to my Nightmare\", \"Alice Cooper\", 1975,   # First album list\n",
    "     [\n",
    "         (1, \"Welcome to my Nightmare\"),\n",
    "         (2, \"Devil's Food\"),\n",
    "         (3, \"The Black Widow\"),\n",
    "         (4, \"Some Folks\"),\n",
    "         (5, \"Only Women Bleed\"),\n",
    "     ]\n",
    "     ),\n",
    "    (\"Bad Company\", \"Bad Company\", 1974,   # Second album list\n",
    "     [\n",
    "         (1, \"Can't Get Enough\"),\n",
    "         (2, \"Rock Steady\"),\n",
    "         (3, \"Ready for Love\"),\n",
    "         (4, \"Don't Let Me Down\"),\n",
    "         (5, \"Bad Company\"),\n",
    "         (6, \"The Way I Choose\"),\n",
    "         (7, \"Movin' On\"),\n",
    "         (8, \"Seagull\"),\n",
    "     ]\n",
    "     ),\n",
    "    (\"Nightflight\", \"Budgie\", 1981,\n",
    "     [\n",
    "         (1, \"I Turned to Stone\"),\n",
    "         (2, \"Keeping a Rendezvous\"),\n",
    "         (3, \"Reaper of the Glory\"),\n",
    "         (4, \"She Used Me Up\"),\n",
    "     ]\n",
    "     ),\n",
    "    (\"More Mayhem\", \"Imelda May\", 2011,\n",
    "     [\n",
    "         (1, \"Pulling the Rug\"),\n",
    "         (2, \"Psycho\"),\n",
    "         (3, \"Mayhem\"),\n",
    "         (4, \"Kentish Town Waltz\"),\n",
    "     ]\n",
    "     ),\n",
    "]\n",
    "\n",
    "album = int(input(\"{Please select an album.\"))\n",
    "song = int(input(\"Please select a song.\"))\n",
    "\n",
    "print(\"Playing \\\"{0}\\\" from album \\\"{1}\\\"\".format(albums[album-1][3][song-1][1],albums[album-1][0]))\n"
   ]
  },
  {
   "cell_type": "markdown",
   "metadata": {},
   "source": [
    "----------------------------------------------------------------------------------------------------------------------------------------"
   ]
  },
  {
   "cell_type": "markdown",
   "metadata": {},
   "source": [
    "\n",
    "# Unit 3.1 and 3.2\n",
    "## Variables and Assignments Notes\n",
    "\n",
    "I did my best. Ya'll were speedrunning I am NOT a speedrunner.\n",
    "\n",
    "## Python:\n",
    "Variables - Name/define; other functions can be done after naming\n",
    "= - Will set something equal to something else, usually a word and number or list, etc\n",
    "Functions can be performed when names are applied (it tells the function to apply to things with the same name)\n",
    "Floats - Decimals that can be used to do math/whatever a function asks for\n",
    "Dictionaries assign keys and values\n",
    "\n",
    "## Javascript:\n",
    "'var xyz' is a variable assignment (ie; variables can be assigned using var)\n",
    "Booleen is true/false\n",
    "Strings are words, such as 'let' \n",
    "Lists - const (name) =\n",
    "\n",
    "# Data Abstraction:\n",
    "- For APs, indexes start at 1 rather than 0\n",
    "\n",
    "## Python:\n",
    "- Lists look like: name = [\"word\", \"word\"]\n",
    "- Lists are often used to store data\n",
    "- Lists can also be used to make more lists by using the format: list = [\"Strawberry - Fruit\", \"Brocolli - Vegetable\"]\n",
    "And add: fruit = [] and vegetable = []\n",
    "Code such as 'for fruit in list' can be used to specify what the program is supposed to do with the items under this category in the list\n",
    "- Split [split()] function can be used to split a string into a list\n",
    "- Join [join()] method takes all items in an iterable and joins them into one string; a string must be specified as a seperator\n",
    "\n",
    "## Javascript:\n",
    "- this.(name) can be used to specify different types of data, (name) can be used to make a category for the data to go in\n",
    "- data can be displayed using var (variable name) = [ new (variable name)(\"Name\", \"Date\", \"Age\"), etc etc.];\n",
    "- A function can be used afterwards to store the data, using:\n",
    "         function (function name)(name, (variable name))\n",
    "         name.setRole(\"Name\");\n",
    "         this.name = name;\n",
    "         this.variable name = [Name];\n",
    "             Etc., etc."
   ]
  }
 ],
 "metadata": {
  "kernelspec": {
   "display_name": "Python 3.9.12 ('base')",
   "language": "python",
   "name": "python3"
  },
  "language_info": {
   "codemirror_mode": {
    "name": "ipython",
    "version": 3
   },
   "file_extension": ".py",
   "mimetype": "text/x-python",
   "name": "python",
   "nbconvert_exporter": "python",
   "pygments_lexer": "ipython3",
   "version": "3.9.12"
  },
  "orig_nbformat": 4,
  "vscode": {
   "interpreter": {
    "hash": "3b85ac7d340d972d804a633b4d7865a48f85518acf1db710e8ed23047c086fd4"
   }
  }
 },
 "nbformat": 4,
 "nbformat_minor": 2
}
