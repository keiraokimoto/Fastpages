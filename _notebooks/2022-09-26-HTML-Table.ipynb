{
 "cells": [
  {
   "cell_type": "markdown",
   "metadata": {},
   "source": [
    "# HTML Table\n",
    "> HTML Table made using Bootstraps.\n",
    "\n",
    "- toc: true\n",
    "- comments: true\n",
    "- permalink: /techtalk/HTML_Table\n",
    "- categories: [techtalk]\n"
   ]
  },
  {
   "cell_type": "markdown",
   "metadata": {},
   "source": [
    "<a href=\"https://keiraokimoto.github.io/Fastpages/techtalk/javascript\">Javascript Tutorial Table Link</a>\n",
    "\n",
    "<link href=\"https://cdn.jsdelivr.net/npm/bootstrap@5.0.2/dist/css/bootstrap.min.css\" rel=\"stylesheet\" integrity=\"sha384-EVSTQN3/azprG1Anm3QDgpJLIm9Nao0Yz1ztcQTwFspd3yD65VohhpuuCOmLASjC\" crossorigin=\"anonymous\">\n",
    "\n",
    "<!doctype html>\n",
    "<html lang=\"en\">\n",
    "  <head>\n",
    "    <meta charset=\"utf-8\">\n",
    "    <meta name=\"viewport\" content=\"width=device-width, initial-scale=1\">\n",
    "\n",
    "  <link href=\"https://cdn.jsdelivr.net/npm/bootstrap@5.0.2/dist/css/bootstrap.min.css\" rel=\"stylesheet\" integrity=\"sha384-EVSTQN3/azprG1Anm3QDgpJLIm9Nao0Yz1ztcQTwFspd3yD65VohhpuuCOmLASjC\" crossorigin=\"anonymous\">\n",
    "\n",
    "   <title>Insert title here </title>\n",
    "  </head>\n",
    "  <body>\n",
    "    <h1>Insert title here</h1>\n",
    "\n",
    "   <script src=\"https://cdn.jsdelivr.net/npm/bootstrap@5.0.2/dist/js/bootstrap.bundle.min.js\" integrity=\"sha384-MrcW6ZMFYlzcLA8Nl+NtUVF0sA7MsXsP1UyJoMp4YLEuNSfAP+JcXn/tWtIaxVXM\" crossorigin=\"anonymous\"></script>\n",
    "   \n",
    "   <script src=\"https://cdn.jsdelivr.net/npm/@popperjs/core@2.9.2/dist/umd/popper.min.js\" integrity=\"sha384-IQsoLXl5PILFhosVNubq5LC7Qb9DXgDA9i+tQ8Zj3iwWAwPtgFTxbJ8NT4GN1R8p\" crossorigin=\"anonymous\"></script>\n",
    "   <script src=\"https://cdn.jsdelivr.net/npm/bootstrap@5.0.2/dist/js/bootstrap.min.js\" integrity=\"sha384-cVKIPhGWiC2Al4u+LWgxfKTRIcfu0JTxR+EQDz/bgldoEyl4H0zUF0QKbrJ0EcQF\" crossorigin=\"anonymous\"></script>\n",
    "  </body>\n",
    "</html>\n",
    "\n",
    "<div class=\"container\">\n",
    "  <div class=\"row row-cols-3\">\n",
    "     <div class=\"col\">\n",
    "      Bread\n",
    "    </div>\n",
    "    <div class=\"col\">\n",
    "      Cheese\n",
    "    </div>\n",
    "    <div class=\"col\">\n",
    "      Milk\n",
    "    </div>\n",
    "    <div class=\"col\">\n",
    "      Sourdough\n",
    "    </div>\n",
    "    <div class=\"col\">\n",
    "      Parmasan\n",
    "    </div>\n",
    "    <div class=\"col\">\n",
    "      Rice\n",
    "    </div>\n",
    "    <div class=\"col\">\n",
    "      Wheat\n",
    "    </div>\n",
    "    <div class=\"col\">\n",
    "      Chedder\n",
    "    </div>\n",
    "    <div class=\"col\">\n",
    "      Almond\n",
    "    </div>\n",
    "    <div class=\"col\">\n",
    "      Potato\n",
    "    </div>\n",
    "    <div class=\"col\">\n",
    "      Swiss\n",
    "    </div>\n",
    "    <div class=\"col\">\n",
    "      Coconut\n",
    "    </div>\n",
    "  </div>\n",
    "</div>\n"
   ]
  }
 ],
 "metadata": {
  "kernelspec": {
   "display_name": "Python 3",
   "language": "python",
   "name": "python3"
  },
  "language_info": {
   "file_extension": ".js",
   "mimetype": "application/javascript",
   "name": "python",
   "version": "3.8.10 (default, Jun 22 2022, 20:18:18) \n[GCC 9.4.0]"
  },
  "orig_nbformat": 4,
  "vscode": {
   "interpreter": {
    "hash": "916dbcbb3f70747c44a77c7bcd40155683ae19c65e1c03b4aa3499c5328201f1"
   }
  }
 },
 "nbformat": 4,
 "nbformat_minor": 2
}
