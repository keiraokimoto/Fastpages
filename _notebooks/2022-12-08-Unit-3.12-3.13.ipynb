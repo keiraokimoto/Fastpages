{
 "cells": [
  {
   "cell_type": "markdown",
   "metadata": {},
   "source": [
    "# Note Template\n",
    "- comments: true"
   ]
  },
  {
   "cell_type": "markdown",
   "metadata": {},
   "source": [
    "# Take some additional notes that you would like here for 3.12 and 3.13. We will be looking for additional notes from the presentation. \n"
   ]
  },
  {
   "attachments": {},
   "cell_type": "markdown",
   "metadata": {},
   "source": [
    "# What are procedures?\n",
    "\n",
    "**Fill in the blanks please:**\n",
    "\n",
    "Procedure: A named group of programming instructions that may have parameters and return values; can also be referred as method or function, depending on the language. \n",
    "\n",
    "Parameters: Input values of a procedure\n",
    "\n",
    "Arguments: Specify the values of the parameters when a procedure is called\n",
    "\n",
    "Modularity: Separating a program's functions into independent blocks that work together to allow a program to function\n",
    "\n",
    "Procedural Abstraction: The name for a process that allows a procedure to be used while only knowing what it does, and not how the program executes the procedure\n",
    "\n",
    "What are some other names for procedures?: Processes, operations, modules\n",
    "\n",
    "Why are procedures effective?: Procedures are effective because they allow for code to be more organized while still retaining functionality\n",
    "\n",
    "## Additional Notes:\n",
    "\n",
    "- Procedures interrupt a series of statements and makes the program execute the procedure instead\n",
    "- The original code will be run after the procedure is executed\n",
    "- Procedures may or may not return values (such as numbers or booleans)\n",
    "- Procedures need names to be called (Ex: 'convertDecimalToBinary' for a decimal to binary converter)\n",
    "- Procedures allow for additional cells outside of code to be changed without having to change the code itself\n"
   ]
  },
  {
   "attachments": {},
   "cell_type": "markdown",
   "metadata": {},
   "source": [
    "## <mark>Challenge 1</mark> below:\n",
    "Add the command that will **call** the procedure. "
   ]
  },
  {
   "cell_type": "code",
   "execution_count": 25,
   "metadata": {},
   "outputs": [
    {
     "name": "stdout",
     "output_type": "stream",
     "text": [
      "111\n"
     ]
    }
   ],
   "source": [
    "decimal = 7\n",
    "\n",
    "def convertToBinary(decimal):\n",
    "    divValue = decimal\n",
    "    remainder = 1\n",
    "    finalBin = ''\n",
    "    while divValue > 0:\n",
    "        remainder = divValue % 2\n",
    "        divValue = (int)(divValue / 2)\n",
    "        finalBin = str(remainder) + finalBin\n",
    "    return finalBin\n",
    "\n",
    "binary = convertToBinary(decimal)\n",
    "print(binary)"
   ]
  },
  {
   "attachments": {},
   "cell_type": "markdown",
   "metadata": {},
   "source": [
    "## <mark>Challenge 2</mark> below: \n",
    "Complete the Min and Max procedure in either JavaScript and Python using the instructions from the JavaScript page. (JavaScript will get you a extra 0.1)"
   ]
  },
  {
   "cell_type": "code",
   "execution_count": 32,
   "metadata": {},
   "outputs": [
    {
     "name": "stdout",
     "output_type": "stream",
     "text": [
      "Between 1000 and  1 , 1 is the smaller number.\n",
      "Between 1000 and  1 , 1000 is the bigger number.\n"
     ]
    }
   ],
   "source": [
    "# Start by creating a procedure called findMax and set the parameters to numberA and numberB.\n",
    "numA = 1000\n",
    "numB = 1\n",
    "# Repeat the process, this time creating a procedure called findMin, which will print the parameter with a smaller value.\n",
    "def findMin(numA, numB):\n",
    "    if numA > numB:\n",
    "        return(numB)\n",
    "    else:\n",
    "        return(numA)\n",
    "\n",
    "# Within the procedure, write the code to determine which of the two parameters, numberA or numberB, is the larger value. Print that value.\n",
    "def findMax(numA, numB):\n",
    "    if numA < numB:\n",
    "        return(numB)\n",
    "    else:\n",
    "        return(numA)\n",
    "\n",
    "findMin(1000, 1) # drivers for min and max\n",
    "findMax(1000, 1)\n",
    "# Call both functions so that the parameters numberA and numberB are given a value.\n",
    "\n",
    "resultMin = findMin(numA, numB)\n",
    "resultMax = findMax(numA, numB)\n",
    "\n",
    "print(\"Between\", (numA), \"and \", (numB),\",\",(resultMin), \"is the smaller number.\")\n",
    "print(\"Between\", (numA), \"and \", (numB),\",\",(resultMax), \"is the bigger number.\")\n",
    "\n",
    "# Optional bonus- create a procedure that can determine the minimum or maximum value out of more than two parameters.\n",
    "# haha... no ."
   ]
  },
  {
   "cell_type": "code",
   "execution_count": null,
   "metadata": {
    "vscode": {
     "languageId": "javascript"
    }
   },
   "outputs": [],
   "source": [
    "// Start by creating a procedure called findMax and set the parameters to numberA and numberB.\n",
    "// Failed javascript attempt ignore this  .\n",
    "// Within the procedure, write the code to determine which of the two parameters, numberA or numberB, is the larger value. Print that value.\n",
    "\n",
    "// Repeat the process, this time creating a procedure called findMin, which will print the parameter with a smaller value.\n",
    "\n",
    "// Call both functions so that the parameters numberA and numberB are given a value.\n",
    "\n",
    "// Optional bonus- create a procedure that can determine the minimum or maximum value out of more than two parameters.\n"
   ]
  },
  {
   "attachments": {},
   "cell_type": "markdown",
   "metadata": {},
   "source": [
    "## <mark>Homework/Hacks</mark>: \n",
    "For the hw, you have two options, easy or hard. The easy hack is for a 2.7 + extra work for the full 3. The easy hack is simply creating your own procedure with your own creativity. Since there is a lot of leeway for this one, you must do additional work to get a 3. For the hard hack, below is the start to a character to binary convertor. This is just a template, but the goal is to translate \"APCSP\" into binary. You can delete the existing code if you want. The only contraint is that you must use a procedure. Doing this will get you a 3. "
   ]
  },
  {
   "cell_type": "code",
   "execution_count": 24,
   "metadata": {},
   "outputs": [
    {
     "name": "stdout",
     "output_type": "stream",
     "text": [
      "APCSP in binary is: ['1000001', '1010000', '1000011', '1010011', '1010000']\n"
     ]
    }
   ],
   "source": [
    "x = 'APCSP'\n",
    "\n",
    "def charToBinary(x):\n",
    "    byteString = bytearray(x,'utf-8') #\n",
    "    result = []\n",
    "    for byteValue in byteString:\n",
    "        result.append(format( byteValue, 'b'))\n",
    "    print((x), 'in binary is:', (result))\n",
    "charToBinary(x)\n",
    "\n",
    "# The output shown below is the output you are supposed to get\n",
    "# ''APCSP'' in binary is \n",
    "# [1000001, 1010000, 1000011, 1010011, 1010000]"
   ]
  }
 ],
 "metadata": {
  "kernelspec": {
   "display_name": "base",
   "language": "python",
   "name": "python3"
  },
  "language_info": {
   "codemirror_mode": {
    "name": "ipython",
    "version": 3
   },
   "file_extension": ".py",
   "mimetype": "text/x-python",
   "name": "python",
   "nbconvert_exporter": "python",
   "pygments_lexer": "ipython3",
   "version": "3.9.12 (main, Apr  5 2022, 06:56:58) \n[GCC 7.5.0]"
  },
  "orig_nbformat": 4,
  "vscode": {
   "interpreter": {
    "hash": "3b85ac7d340d972d804a633b4d7865a48f85518acf1db710e8ed23047c086fd4"
   }
  }
 },
 "nbformat": 4,
 "nbformat_minor": 2
}
