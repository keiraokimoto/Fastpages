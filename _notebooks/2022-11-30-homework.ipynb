{
 "cells": [
  {
   "cell_type": "markdown",
   "metadata": {},
   "source": [
    "# Homework \n",
    "\n",
    "- toc: true\n",
    "- badges: true\n",
    "- comments: true\n",
    "- categories: [Week 13]"
   ]
  },
  {
   "cell_type": "markdown",
   "metadata": {},
   "source": [
    "----------------------------------------------------------------------------------------------------------------------------------------"
   ]
  },
  {
   "cell_type": "markdown",
   "metadata": {},
   "source": [
    "# Practice Problem"
   ]
  },
  {
   "cell_type": "code",
   "execution_count": 3,
   "metadata": {},
   "outputs": [
    {
     "name": "stdout",
     "output_type": "stream",
     "text": [
      "Wow that's a lot of cookies.\n",
      "froth froth froth froth froth froth froth\n"
     ]
    }
   ],
   "source": [
    "cookies = 5467; \n",
    "freeCookies = 5\n",
    "if cookies >= 10: \n",
    "    print(\"Wow that's a lot of cookies.\"); \n",
    "else: \n",
    "    print(\". i\"); \n",
    "if freeCookies >= 24: \n",
    "    print(\"Surely you have to have extras. Can I have one?\"); \n",
    "else: \n",
    "    print(\"froth froth froth froth froth froth froth\"); \n"
   ]
  },
  {
   "cell_type": "markdown",
   "metadata": {},
   "source": [
    "## Homework/Hacks\n",
    "\n",
    " Our homework we have decided for a decimal number to binary converter. You must use conditional statements within your code and have a input box for where the decimal number will go. This will give you a 2.7 out of 3 and you may add anything else to the code to get above a 2.7.\n",
    "\n"
   ]
  },
  {
   "cell_type": "markdown",
   "metadata": {},
   "source": [
    "Below is an example of decimal number to binary converter which you can use as a starting template."
   ]
  },
  {
   "cell_type": "code",
   "execution_count": 3,
   "metadata": {},
   "outputs": [
    {
     "name": "stdout",
     "output_type": "stream",
     "text": [
      "\n",
      "Enter a number or type 'q' to quit.\n",
      "Binary of 23125 is: 101101001010101\n",
      "The length of 101101001010101 is: 15\n",
      "Stream Crazy:B「指先のアリアドネ」 あんさんぶるスターズ！！ Music ゲームサイズMV\n",
      "\n",
      "Enter a number or type 'q' to quit.\n",
      "Binary of 4 is: 100\n",
      "The length of 100 is: 3\n",
      "Stream Crazy:B & UNDEAD「U.S.A.」あんさんぶるスターズ！！ Music ゲームサイズMV\n",
      "\n",
      "Enter a number or type 'q' to quit.\n",
      "Invalid input.\n",
      "\n",
      "Enter a number or type 'q' to quit.\n"
     ]
    }
   ],
   "source": [
    "def DecimalToBinary(num):\n",
    "    strs = \"\"\n",
    "    while num:\n",
    "        # if (num & 1) = 1\n",
    "        if (num & 1):\n",
    "            strs += \"1\"\n",
    "        # if (num & 1) = 0\n",
    "        else:\n",
    "            strs += \"0\"\n",
    "        # right shift by 1\n",
    "        num >>= 1\n",
    "    return strs\n",
    " \n",
    "# function to reverse the string\n",
    "def reverse(strs):\n",
    "    return(strs[::-1])\n",
    "    \n",
    "def ReverseNumber(num):\n",
    "    return reverse(DecimalToBinary(num))\n",
    " \n",
    "# Driver Code\n",
    "s = \"\"\n",
    "while (s != \"q\"):\n",
    "    print(\"\\nEnter a number or type 'q' to quit.\")\n",
    "    s = input()\n",
    "    try:\n",
    "        if s != \"q\":\n",
    "            num = (int(s))\n",
    "            result = ReverseNumber(num)\n",
    "            print(\"Binary of\", (num), \"is:\", (result))\n",
    "            print (\"The length of\", (result) , \"is:\", (str(len(result))))\n",
    "            if (len(result)) >= 10:\n",
    "                print (\"Stream Crazy:B「指先のアリアドネ」 あんさんぶるスターズ！！ Music ゲームサイズMV\")\n",
    "            else:\n",
    "                print (\"Stream Crazy:B & UNDEAD「U.S.A.」あんさんぶるスターズ！！ Music ゲームサイズMV\")\n",
    "                \n",
    "    except ValueError:\n",
    "        print (\"Invalid input.\")\n",
    "\n",
    "# my additions to the code that i accidently deleted twice but it's ok i screenshotted\n",
    "# ignore how i only have like 1 commit I did this all on a python emulator because I didn't want to get my laptop"
   ]
  },
  {
   "cell_type": "markdown",
   "metadata": {},
   "source": [
    "----------------------------------------------------------------------------------------------------------------------------------------"
   ]
  },
  {
   "cell_type": "markdown",
   "metadata": {},
   "source": [
    "# Notes\n",
    "- Boolean - 2 options (ex: true/false, yes/no, 0/1)\n",
    "- Relational Operator - Operators that can work between any two values of the same type\n",
    "- Logical Operator - Operators that work on operands to produce a single boolean result (such as and or not)\n",
    "- Relational operators go first, then logical\n",
    "\n",
    "- All programs have conditionals\n",
    "- Conditionals drive selection; they dictate what happens in a program based on whether something is true or false\n",
    "- Usually lots of if/else statements\n",
    "- Algorithm - A set of instructions that accomplish a task\n",
    "- Selection - The process that determines which parts of an algoritm is being executed based on a condition that is true or false\n",
    "- If/else statements change based on what has occured before\n",
    "- Nested Conditionals are like conditionals within conditionals\n",
    "- (Ex: If condtion 1 is met, condition 2 will occur, and if condition 2 occurs, condition 3 can occur)      \n",
    "\n",
    "\n",
    "\n"
   ]
  }
 ],
 "metadata": {
  "kernelspec": {
   "display_name": "Python 3.9.6 64-bit",
   "language": "python",
   "name": "python3"
  },
  "language_info": {
   "codemirror_mode": {
    "name": "ipython",
    "version": 3
   },
   "file_extension": ".py",
   "mimetype": "text/x-python",
   "name": "python",
   "nbconvert_exporter": "python",
   "pygments_lexer": "ipython3",
   "version": "3.8.10"
  },
  "orig_nbformat": 4,
  "vscode": {
   "interpreter": {
    "hash": "31f2aee4e71d21fbe5cf8b01ff0e069b9275f58929596ceb00d14d90e3e16cd6"
   }
  }
 },
 "nbformat": 4,
 "nbformat_minor": 2
}
